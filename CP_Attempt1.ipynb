{
  "nbformat": 4,
  "nbformat_minor": 0,
  "metadata": {
    "colab": {
      "name": "Capping Project.ipynb",
      "provenance": [],
      "collapsed_sections": []
    },
    "kernelspec": {
      "name": "python3",
      "display_name": "Python 3"
    },
    "language_info": {
      "name": "python"
    }
  },
  "cells": [
    {
      "cell_type": "markdown",
      "source": [
        "##Imports"
      ],
      "metadata": {
        "id": "FGRlvfYGEcT2"
      }
    },
    {
      "cell_type": "code",
      "execution_count": null,
      "metadata": {
        "id": "ef7qfJP4RjSe"
      },
      "outputs": [],
      "source": [
        "# Normal imports\n",
        "import matplotlib\n",
        "import numpy as np\n",
        "import pandas as pd\n",
        "import matplotlib.pyplot as plt\n",
        "import seaborn as sns\n",
        "%matplotlib inline"
      ]
    },
    {
      "cell_type": "markdown",
      "source": [
        "##Reading and storing the data"
      ],
      "metadata": {
        "id": "L1t9m-oxEeRu"
      }
    },
    {
      "cell_type": "code",
      "source": [
        "# Downloading the two csv files from Hope Neveux's public Data Capping repo\n",
        "!wget https://raw.githubusercontent.com/h-nev/Data-Capping-477/master/Fake.csv\n",
        "!wget https://raw.githubusercontent.com/h-nev/Data-Capping-477/master/True.csv"
      ],
      "metadata": {
        "colab": {
          "base_uri": "https://localhost:8080/"
        },
        "id": "tU3a-NzoA0Zc",
        "outputId": "d33e96e6-0c84-4e81-ee22-103a0e5c8886"
      },
      "execution_count": null,
      "outputs": [
        {
          "output_type": "stream",
          "name": "stdout",
          "text": [
            "--2022-04-28 02:01:11--  https://raw.githubusercontent.com/h-nev/Data-Capping-477/master/Fake.csv\n",
            "Resolving raw.githubusercontent.com (raw.githubusercontent.com)... 185.199.111.133, 185.199.109.133, 185.199.108.133, ...\n",
            "Connecting to raw.githubusercontent.com (raw.githubusercontent.com)|185.199.111.133|:443... connected.\n",
            "HTTP request sent, awaiting response... 200 OK\n",
            "Length: 62789876 (60M) [text/plain]\n",
            "Saving to: ‘Fake.csv’\n",
            "\n",
            "Fake.csv            100%[===================>]  59.88M   121MB/s    in 0.5s    \n",
            "\n",
            "2022-04-28 02:01:12 (121 MB/s) - ‘Fake.csv’ saved [62789876/62789876]\n",
            "\n",
            "--2022-04-28 02:01:12--  https://raw.githubusercontent.com/h-nev/Data-Capping-477/master/True.csv\n",
            "Resolving raw.githubusercontent.com (raw.githubusercontent.com)... 185.199.111.133, 185.199.110.133, 185.199.109.133, ...\n",
            "Connecting to raw.githubusercontent.com (raw.githubusercontent.com)|185.199.111.133|:443... connected.\n",
            "HTTP request sent, awaiting response... 200 OK\n",
            "Length: 53561522 (51M) [text/plain]\n",
            "Saving to: ‘True.csv’\n",
            "\n",
            "True.csv            100%[===================>]  51.08M   153MB/s    in 0.3s    \n",
            "\n",
            "2022-04-28 02:01:12 (153 MB/s) - ‘True.csv’ saved [53561522/53561522]\n",
            "\n"
          ]
        }
      ]
    },
    {
      "cell_type": "code",
      "source": [
        "# Checking the directory to make sure the data we expect is there\n",
        "!ls -lia"
      ],
      "metadata": {
        "colab": {
          "base_uri": "https://localhost:8080/"
        },
        "id": "RzFGAg2gBH6E",
        "outputId": "e8edb612-bfc9-43d4-ab17-5149b4cebc0b"
      },
      "execution_count": null,
      "outputs": [
        {
          "output_type": "stream",
          "name": "stdout",
          "text": [
            "total 113644\n",
            "2097188 drwxr-xr-x 1 root root     4096 Apr 28 02:01 .\n",
            "3146784 drwxr-xr-x 1 root root     4096 Apr 28 02:00 ..\n",
            "4063259 drwxr-xr-x 4 root root     4096 Apr 25 13:45 .config\n",
            "3146795 -rw-r--r-- 1 root root 62789876 Apr 28 02:01 Fake.csv\n",
            "2097189 drwxr-xr-x 1 root root     4096 Apr 25 13:46 sample_data\n",
            "3146797 -rw-r--r-- 1 root root 53561522 Apr 28 02:01 True.csv\n"
          ]
        }
      ]
    },
    {
      "cell_type": "code",
      "source": [
        "# Reading in the fake news data set and setting Fake as 0\n",
        "df1 = pd.read_csv(\"Fake.csv\")\n",
        "df1['target'] = 0\n",
        "df1.head()"
      ],
      "metadata": {
        "id": "EGdkb6V2ToLJ",
        "colab": {
          "base_uri": "https://localhost:8080/",
          "height": 206
        },
        "outputId": "e1ff7e21-99e3-428e-89c3-6a7c832e697b"
      },
      "execution_count": null,
      "outputs": [
        {
          "output_type": "execute_result",
          "data": {
            "text/plain": [
              "                                               title  \\\n",
              "0   Donald Trump Sends Out Embarrassing New Year’...   \n",
              "1   Drunk Bragging Trump Staffer Started Russian ...   \n",
              "2   Sheriff David Clarke Becomes An Internet Joke...   \n",
              "3   Trump Is So Obsessed He Even Has Obama’s Name...   \n",
              "4   Pope Francis Just Called Out Donald Trump Dur...   \n",
              "\n",
              "                                                text subject  \\\n",
              "0  Donald Trump just couldn t wish all Americans ...    News   \n",
              "1  House Intelligence Committee Chairman Devin Nu...    News   \n",
              "2  On Friday, it was revealed that former Milwauk...    News   \n",
              "3  On Christmas day, Donald Trump announced that ...    News   \n",
              "4  Pope Francis used his annual Christmas Day mes...    News   \n",
              "\n",
              "                date  target  \n",
              "0  December 31, 2017       0  \n",
              "1  December 31, 2017       0  \n",
              "2  December 30, 2017       0  \n",
              "3  December 29, 2017       0  \n",
              "4  December 25, 2017       0  "
            ],
            "text/html": [
              "\n",
              "  <div id=\"df-dca60603-9bea-419a-bcca-43c7c20ba94f\">\n",
              "    <div class=\"colab-df-container\">\n",
              "      <div>\n",
              "<style scoped>\n",
              "    .dataframe tbody tr th:only-of-type {\n",
              "        vertical-align: middle;\n",
              "    }\n",
              "\n",
              "    .dataframe tbody tr th {\n",
              "        vertical-align: top;\n",
              "    }\n",
              "\n",
              "    .dataframe thead th {\n",
              "        text-align: right;\n",
              "    }\n",
              "</style>\n",
              "<table border=\"1\" class=\"dataframe\">\n",
              "  <thead>\n",
              "    <tr style=\"text-align: right;\">\n",
              "      <th></th>\n",
              "      <th>title</th>\n",
              "      <th>text</th>\n",
              "      <th>subject</th>\n",
              "      <th>date</th>\n",
              "      <th>target</th>\n",
              "    </tr>\n",
              "  </thead>\n",
              "  <tbody>\n",
              "    <tr>\n",
              "      <th>0</th>\n",
              "      <td>Donald Trump Sends Out Embarrassing New Year’...</td>\n",
              "      <td>Donald Trump just couldn t wish all Americans ...</td>\n",
              "      <td>News</td>\n",
              "      <td>December 31, 2017</td>\n",
              "      <td>0</td>\n",
              "    </tr>\n",
              "    <tr>\n",
              "      <th>1</th>\n",
              "      <td>Drunk Bragging Trump Staffer Started Russian ...</td>\n",
              "      <td>House Intelligence Committee Chairman Devin Nu...</td>\n",
              "      <td>News</td>\n",
              "      <td>December 31, 2017</td>\n",
              "      <td>0</td>\n",
              "    </tr>\n",
              "    <tr>\n",
              "      <th>2</th>\n",
              "      <td>Sheriff David Clarke Becomes An Internet Joke...</td>\n",
              "      <td>On Friday, it was revealed that former Milwauk...</td>\n",
              "      <td>News</td>\n",
              "      <td>December 30, 2017</td>\n",
              "      <td>0</td>\n",
              "    </tr>\n",
              "    <tr>\n",
              "      <th>3</th>\n",
              "      <td>Trump Is So Obsessed He Even Has Obama’s Name...</td>\n",
              "      <td>On Christmas day, Donald Trump announced that ...</td>\n",
              "      <td>News</td>\n",
              "      <td>December 29, 2017</td>\n",
              "      <td>0</td>\n",
              "    </tr>\n",
              "    <tr>\n",
              "      <th>4</th>\n",
              "      <td>Pope Francis Just Called Out Donald Trump Dur...</td>\n",
              "      <td>Pope Francis used his annual Christmas Day mes...</td>\n",
              "      <td>News</td>\n",
              "      <td>December 25, 2017</td>\n",
              "      <td>0</td>\n",
              "    </tr>\n",
              "  </tbody>\n",
              "</table>\n",
              "</div>\n",
              "      <button class=\"colab-df-convert\" onclick=\"convertToInteractive('df-dca60603-9bea-419a-bcca-43c7c20ba94f')\"\n",
              "              title=\"Convert this dataframe to an interactive table.\"\n",
              "              style=\"display:none;\">\n",
              "        \n",
              "  <svg xmlns=\"http://www.w3.org/2000/svg\" height=\"24px\"viewBox=\"0 0 24 24\"\n",
              "       width=\"24px\">\n",
              "    <path d=\"M0 0h24v24H0V0z\" fill=\"none\"/>\n",
              "    <path d=\"M18.56 5.44l.94 2.06.94-2.06 2.06-.94-2.06-.94-.94-2.06-.94 2.06-2.06.94zm-11 1L8.5 8.5l.94-2.06 2.06-.94-2.06-.94L8.5 2.5l-.94 2.06-2.06.94zm10 10l.94 2.06.94-2.06 2.06-.94-2.06-.94-.94-2.06-.94 2.06-2.06.94z\"/><path d=\"M17.41 7.96l-1.37-1.37c-.4-.4-.92-.59-1.43-.59-.52 0-1.04.2-1.43.59L10.3 9.45l-7.72 7.72c-.78.78-.78 2.05 0 2.83L4 21.41c.39.39.9.59 1.41.59.51 0 1.02-.2 1.41-.59l7.78-7.78 2.81-2.81c.8-.78.8-2.07 0-2.86zM5.41 20L4 18.59l7.72-7.72 1.47 1.35L5.41 20z\"/>\n",
              "  </svg>\n",
              "      </button>\n",
              "      \n",
              "  <style>\n",
              "    .colab-df-container {\n",
              "      display:flex;\n",
              "      flex-wrap:wrap;\n",
              "      gap: 12px;\n",
              "    }\n",
              "\n",
              "    .colab-df-convert {\n",
              "      background-color: #E8F0FE;\n",
              "      border: none;\n",
              "      border-radius: 50%;\n",
              "      cursor: pointer;\n",
              "      display: none;\n",
              "      fill: #1967D2;\n",
              "      height: 32px;\n",
              "      padding: 0 0 0 0;\n",
              "      width: 32px;\n",
              "    }\n",
              "\n",
              "    .colab-df-convert:hover {\n",
              "      background-color: #E2EBFA;\n",
              "      box-shadow: 0px 1px 2px rgba(60, 64, 67, 0.3), 0px 1px 3px 1px rgba(60, 64, 67, 0.15);\n",
              "      fill: #174EA6;\n",
              "    }\n",
              "\n",
              "    [theme=dark] .colab-df-convert {\n",
              "      background-color: #3B4455;\n",
              "      fill: #D2E3FC;\n",
              "    }\n",
              "\n",
              "    [theme=dark] .colab-df-convert:hover {\n",
              "      background-color: #434B5C;\n",
              "      box-shadow: 0px 1px 3px 1px rgba(0, 0, 0, 0.15);\n",
              "      filter: drop-shadow(0px 1px 2px rgba(0, 0, 0, 0.3));\n",
              "      fill: #FFFFFF;\n",
              "    }\n",
              "  </style>\n",
              "\n",
              "      <script>\n",
              "        const buttonEl =\n",
              "          document.querySelector('#df-dca60603-9bea-419a-bcca-43c7c20ba94f button.colab-df-convert');\n",
              "        buttonEl.style.display =\n",
              "          google.colab.kernel.accessAllowed ? 'block' : 'none';\n",
              "\n",
              "        async function convertToInteractive(key) {\n",
              "          const element = document.querySelector('#df-dca60603-9bea-419a-bcca-43c7c20ba94f');\n",
              "          const dataTable =\n",
              "            await google.colab.kernel.invokeFunction('convertToInteractive',\n",
              "                                                     [key], {});\n",
              "          if (!dataTable) return;\n",
              "\n",
              "          const docLinkHtml = 'Like what you see? Visit the ' +\n",
              "            '<a target=\"_blank\" href=https://colab.research.google.com/notebooks/data_table.ipynb>data table notebook</a>'\n",
              "            + ' to learn more about interactive tables.';\n",
              "          element.innerHTML = '';\n",
              "          dataTable['output_type'] = 'display_data';\n",
              "          await google.colab.output.renderOutput(dataTable, element);\n",
              "          const docLink = document.createElement('div');\n",
              "          docLink.innerHTML = docLinkHtml;\n",
              "          element.appendChild(docLink);\n",
              "        }\n",
              "      </script>\n",
              "    </div>\n",
              "  </div>\n",
              "  "
            ]
          },
          "metadata": {},
          "execution_count": 4
        }
      ]
    },
    {
      "cell_type": "code",
      "source": [
        "# Reading in the true data set and setting True as 1\n",
        "df2 = pd.read_csv(\"True.csv\")\n",
        "df2['target'] = 1\n",
        "df2.head()"
      ],
      "metadata": {
        "colab": {
          "base_uri": "https://localhost:8080/",
          "height": 250
        },
        "id": "JYn_bedyV3du",
        "outputId": "05ba28ec-e402-4b5f-9bcb-26527a3dc664"
      },
      "execution_count": null,
      "outputs": [
        {
          "output_type": "execute_result",
          "data": {
            "text/plain": [
              "                                               title  \\\n",
              "0  As U.S. budget fight looms, Republicans flip t...   \n",
              "1  U.S. military to accept transgender recruits o...   \n",
              "2  Senior U.S. Republican senator: 'Let Mr. Muell...   \n",
              "3  FBI Russia probe helped by Australian diplomat...   \n",
              "4  Trump wants Postal Service to charge 'much mor...   \n",
              "\n",
              "                                                text       subject  \\\n",
              "0  WASHINGTON (Reuters) - The head of a conservat...  politicsNews   \n",
              "1  WASHINGTON (Reuters) - Transgender people will...  politicsNews   \n",
              "2  WASHINGTON (Reuters) - The special counsel inv...  politicsNews   \n",
              "3  WASHINGTON (Reuters) - Trump campaign adviser ...  politicsNews   \n",
              "4  SEATTLE/WASHINGTON (Reuters) - President Donal...  politicsNews   \n",
              "\n",
              "                 date  target  \n",
              "0  December 31, 2017        1  \n",
              "1  December 29, 2017        1  \n",
              "2  December 31, 2017        1  \n",
              "3  December 30, 2017        1  \n",
              "4  December 29, 2017        1  "
            ],
            "text/html": [
              "\n",
              "  <div id=\"df-dcd4c167-5262-4a9e-8699-6abcb1c65011\">\n",
              "    <div class=\"colab-df-container\">\n",
              "      <div>\n",
              "<style scoped>\n",
              "    .dataframe tbody tr th:only-of-type {\n",
              "        vertical-align: middle;\n",
              "    }\n",
              "\n",
              "    .dataframe tbody tr th {\n",
              "        vertical-align: top;\n",
              "    }\n",
              "\n",
              "    .dataframe thead th {\n",
              "        text-align: right;\n",
              "    }\n",
              "</style>\n",
              "<table border=\"1\" class=\"dataframe\">\n",
              "  <thead>\n",
              "    <tr style=\"text-align: right;\">\n",
              "      <th></th>\n",
              "      <th>title</th>\n",
              "      <th>text</th>\n",
              "      <th>subject</th>\n",
              "      <th>date</th>\n",
              "      <th>target</th>\n",
              "    </tr>\n",
              "  </thead>\n",
              "  <tbody>\n",
              "    <tr>\n",
              "      <th>0</th>\n",
              "      <td>As U.S. budget fight looms, Republicans flip t...</td>\n",
              "      <td>WASHINGTON (Reuters) - The head of a conservat...</td>\n",
              "      <td>politicsNews</td>\n",
              "      <td>December 31, 2017</td>\n",
              "      <td>1</td>\n",
              "    </tr>\n",
              "    <tr>\n",
              "      <th>1</th>\n",
              "      <td>U.S. military to accept transgender recruits o...</td>\n",
              "      <td>WASHINGTON (Reuters) - Transgender people will...</td>\n",
              "      <td>politicsNews</td>\n",
              "      <td>December 29, 2017</td>\n",
              "      <td>1</td>\n",
              "    </tr>\n",
              "    <tr>\n",
              "      <th>2</th>\n",
              "      <td>Senior U.S. Republican senator: 'Let Mr. Muell...</td>\n",
              "      <td>WASHINGTON (Reuters) - The special counsel inv...</td>\n",
              "      <td>politicsNews</td>\n",
              "      <td>December 31, 2017</td>\n",
              "      <td>1</td>\n",
              "    </tr>\n",
              "    <tr>\n",
              "      <th>3</th>\n",
              "      <td>FBI Russia probe helped by Australian diplomat...</td>\n",
              "      <td>WASHINGTON (Reuters) - Trump campaign adviser ...</td>\n",
              "      <td>politicsNews</td>\n",
              "      <td>December 30, 2017</td>\n",
              "      <td>1</td>\n",
              "    </tr>\n",
              "    <tr>\n",
              "      <th>4</th>\n",
              "      <td>Trump wants Postal Service to charge 'much mor...</td>\n",
              "      <td>SEATTLE/WASHINGTON (Reuters) - President Donal...</td>\n",
              "      <td>politicsNews</td>\n",
              "      <td>December 29, 2017</td>\n",
              "      <td>1</td>\n",
              "    </tr>\n",
              "  </tbody>\n",
              "</table>\n",
              "</div>\n",
              "      <button class=\"colab-df-convert\" onclick=\"convertToInteractive('df-dcd4c167-5262-4a9e-8699-6abcb1c65011')\"\n",
              "              title=\"Convert this dataframe to an interactive table.\"\n",
              "              style=\"display:none;\">\n",
              "        \n",
              "  <svg xmlns=\"http://www.w3.org/2000/svg\" height=\"24px\"viewBox=\"0 0 24 24\"\n",
              "       width=\"24px\">\n",
              "    <path d=\"M0 0h24v24H0V0z\" fill=\"none\"/>\n",
              "    <path d=\"M18.56 5.44l.94 2.06.94-2.06 2.06-.94-2.06-.94-.94-2.06-.94 2.06-2.06.94zm-11 1L8.5 8.5l.94-2.06 2.06-.94-2.06-.94L8.5 2.5l-.94 2.06-2.06.94zm10 10l.94 2.06.94-2.06 2.06-.94-2.06-.94-.94-2.06-.94 2.06-2.06.94z\"/><path d=\"M17.41 7.96l-1.37-1.37c-.4-.4-.92-.59-1.43-.59-.52 0-1.04.2-1.43.59L10.3 9.45l-7.72 7.72c-.78.78-.78 2.05 0 2.83L4 21.41c.39.39.9.59 1.41.59.51 0 1.02-.2 1.41-.59l7.78-7.78 2.81-2.81c.8-.78.8-2.07 0-2.86zM5.41 20L4 18.59l7.72-7.72 1.47 1.35L5.41 20z\"/>\n",
              "  </svg>\n",
              "      </button>\n",
              "      \n",
              "  <style>\n",
              "    .colab-df-container {\n",
              "      display:flex;\n",
              "      flex-wrap:wrap;\n",
              "      gap: 12px;\n",
              "    }\n",
              "\n",
              "    .colab-df-convert {\n",
              "      background-color: #E8F0FE;\n",
              "      border: none;\n",
              "      border-radius: 50%;\n",
              "      cursor: pointer;\n",
              "      display: none;\n",
              "      fill: #1967D2;\n",
              "      height: 32px;\n",
              "      padding: 0 0 0 0;\n",
              "      width: 32px;\n",
              "    }\n",
              "\n",
              "    .colab-df-convert:hover {\n",
              "      background-color: #E2EBFA;\n",
              "      box-shadow: 0px 1px 2px rgba(60, 64, 67, 0.3), 0px 1px 3px 1px rgba(60, 64, 67, 0.15);\n",
              "      fill: #174EA6;\n",
              "    }\n",
              "\n",
              "    [theme=dark] .colab-df-convert {\n",
              "      background-color: #3B4455;\n",
              "      fill: #D2E3FC;\n",
              "    }\n",
              "\n",
              "    [theme=dark] .colab-df-convert:hover {\n",
              "      background-color: #434B5C;\n",
              "      box-shadow: 0px 1px 3px 1px rgba(0, 0, 0, 0.15);\n",
              "      filter: drop-shadow(0px 1px 2px rgba(0, 0, 0, 0.3));\n",
              "      fill: #FFFFFF;\n",
              "    }\n",
              "  </style>\n",
              "\n",
              "      <script>\n",
              "        const buttonEl =\n",
              "          document.querySelector('#df-dcd4c167-5262-4a9e-8699-6abcb1c65011 button.colab-df-convert');\n",
              "        buttonEl.style.display =\n",
              "          google.colab.kernel.accessAllowed ? 'block' : 'none';\n",
              "\n",
              "        async function convertToInteractive(key) {\n",
              "          const element = document.querySelector('#df-dcd4c167-5262-4a9e-8699-6abcb1c65011');\n",
              "          const dataTable =\n",
              "            await google.colab.kernel.invokeFunction('convertToInteractive',\n",
              "                                                     [key], {});\n",
              "          if (!dataTable) return;\n",
              "\n",
              "          const docLinkHtml = 'Like what you see? Visit the ' +\n",
              "            '<a target=\"_blank\" href=https://colab.research.google.com/notebooks/data_table.ipynb>data table notebook</a>'\n",
              "            + ' to learn more about interactive tables.';\n",
              "          element.innerHTML = '';\n",
              "          dataTable['output_type'] = 'display_data';\n",
              "          await google.colab.output.renderOutput(dataTable, element);\n",
              "          const docLink = document.createElement('div');\n",
              "          docLink.innerHTML = docLinkHtml;\n",
              "          element.appendChild(docLink);\n",
              "        }\n",
              "      </script>\n",
              "    </div>\n",
              "  </div>\n",
              "  "
            ]
          },
          "metadata": {},
          "execution_count": 5
        }
      ]
    },
    {
      "cell_type": "code",
      "source": [
        "# Combining the two dataframes into one while redoing the indices\n",
        "dfs = [df1, df2]\n",
        "news = pd.concat(dfs, ignore_index = True)\n",
        "news"
      ],
      "metadata": {
        "colab": {
          "base_uri": "https://localhost:8080/",
          "height": 467
        },
        "id": "w8q4JXhLXKKu",
        "outputId": "e2276da8-71b8-45c3-d414-9cfb8f57b4c0"
      },
      "execution_count": null,
      "outputs": [
        {
          "output_type": "execute_result",
          "data": {
            "text/plain": [
              "                                                   title  \\\n",
              "0       Donald Trump Sends Out Embarrassing New Year’...   \n",
              "1       Drunk Bragging Trump Staffer Started Russian ...   \n",
              "2       Sheriff David Clarke Becomes An Internet Joke...   \n",
              "3       Trump Is So Obsessed He Even Has Obama’s Name...   \n",
              "4       Pope Francis Just Called Out Donald Trump Dur...   \n",
              "...                                                  ...   \n",
              "44893  'Fully committed' NATO backs new U.S. approach...   \n",
              "44894  LexisNexis withdrew two products from Chinese ...   \n",
              "44895  Minsk cultural hub becomes haven from authorities   \n",
              "44896  Vatican upbeat on possibility of Pope Francis ...   \n",
              "44897  Indonesia to buy $1.14 billion worth of Russia...   \n",
              "\n",
              "                                                    text    subject  \\\n",
              "0      Donald Trump just couldn t wish all Americans ...       News   \n",
              "1      House Intelligence Committee Chairman Devin Nu...       News   \n",
              "2      On Friday, it was revealed that former Milwauk...       News   \n",
              "3      On Christmas day, Donald Trump announced that ...       News   \n",
              "4      Pope Francis used his annual Christmas Day mes...       News   \n",
              "...                                                  ...        ...   \n",
              "44893  BRUSSELS (Reuters) - NATO allies on Tuesday we...  worldnews   \n",
              "44894  LONDON (Reuters) - LexisNexis, a provider of l...  worldnews   \n",
              "44895  MINSK (Reuters) - In the shadow of disused Sov...  worldnews   \n",
              "44896  MOSCOW (Reuters) - Vatican Secretary of State ...  worldnews   \n",
              "44897  JAKARTA (Reuters) - Indonesia will buy 11 Sukh...  worldnews   \n",
              "\n",
              "                    date  target  \n",
              "0      December 31, 2017       0  \n",
              "1      December 31, 2017       0  \n",
              "2      December 30, 2017       0  \n",
              "3      December 29, 2017       0  \n",
              "4      December 25, 2017       0  \n",
              "...                  ...     ...  \n",
              "44893   August 22, 2017        1  \n",
              "44894   August 22, 2017        1  \n",
              "44895   August 22, 2017        1  \n",
              "44896   August 22, 2017        1  \n",
              "44897   August 22, 2017        1  \n",
              "\n",
              "[44898 rows x 5 columns]"
            ],
            "text/html": [
              "\n",
              "  <div id=\"df-d3eb1a4c-7148-4486-8190-e5ad9a16643c\">\n",
              "    <div class=\"colab-df-container\">\n",
              "      <div>\n",
              "<style scoped>\n",
              "    .dataframe tbody tr th:only-of-type {\n",
              "        vertical-align: middle;\n",
              "    }\n",
              "\n",
              "    .dataframe tbody tr th {\n",
              "        vertical-align: top;\n",
              "    }\n",
              "\n",
              "    .dataframe thead th {\n",
              "        text-align: right;\n",
              "    }\n",
              "</style>\n",
              "<table border=\"1\" class=\"dataframe\">\n",
              "  <thead>\n",
              "    <tr style=\"text-align: right;\">\n",
              "      <th></th>\n",
              "      <th>title</th>\n",
              "      <th>text</th>\n",
              "      <th>subject</th>\n",
              "      <th>date</th>\n",
              "      <th>target</th>\n",
              "    </tr>\n",
              "  </thead>\n",
              "  <tbody>\n",
              "    <tr>\n",
              "      <th>0</th>\n",
              "      <td>Donald Trump Sends Out Embarrassing New Year’...</td>\n",
              "      <td>Donald Trump just couldn t wish all Americans ...</td>\n",
              "      <td>News</td>\n",
              "      <td>December 31, 2017</td>\n",
              "      <td>0</td>\n",
              "    </tr>\n",
              "    <tr>\n",
              "      <th>1</th>\n",
              "      <td>Drunk Bragging Trump Staffer Started Russian ...</td>\n",
              "      <td>House Intelligence Committee Chairman Devin Nu...</td>\n",
              "      <td>News</td>\n",
              "      <td>December 31, 2017</td>\n",
              "      <td>0</td>\n",
              "    </tr>\n",
              "    <tr>\n",
              "      <th>2</th>\n",
              "      <td>Sheriff David Clarke Becomes An Internet Joke...</td>\n",
              "      <td>On Friday, it was revealed that former Milwauk...</td>\n",
              "      <td>News</td>\n",
              "      <td>December 30, 2017</td>\n",
              "      <td>0</td>\n",
              "    </tr>\n",
              "    <tr>\n",
              "      <th>3</th>\n",
              "      <td>Trump Is So Obsessed He Even Has Obama’s Name...</td>\n",
              "      <td>On Christmas day, Donald Trump announced that ...</td>\n",
              "      <td>News</td>\n",
              "      <td>December 29, 2017</td>\n",
              "      <td>0</td>\n",
              "    </tr>\n",
              "    <tr>\n",
              "      <th>4</th>\n",
              "      <td>Pope Francis Just Called Out Donald Trump Dur...</td>\n",
              "      <td>Pope Francis used his annual Christmas Day mes...</td>\n",
              "      <td>News</td>\n",
              "      <td>December 25, 2017</td>\n",
              "      <td>0</td>\n",
              "    </tr>\n",
              "    <tr>\n",
              "      <th>...</th>\n",
              "      <td>...</td>\n",
              "      <td>...</td>\n",
              "      <td>...</td>\n",
              "      <td>...</td>\n",
              "      <td>...</td>\n",
              "    </tr>\n",
              "    <tr>\n",
              "      <th>44893</th>\n",
              "      <td>'Fully committed' NATO backs new U.S. approach...</td>\n",
              "      <td>BRUSSELS (Reuters) - NATO allies on Tuesday we...</td>\n",
              "      <td>worldnews</td>\n",
              "      <td>August 22, 2017</td>\n",
              "      <td>1</td>\n",
              "    </tr>\n",
              "    <tr>\n",
              "      <th>44894</th>\n",
              "      <td>LexisNexis withdrew two products from Chinese ...</td>\n",
              "      <td>LONDON (Reuters) - LexisNexis, a provider of l...</td>\n",
              "      <td>worldnews</td>\n",
              "      <td>August 22, 2017</td>\n",
              "      <td>1</td>\n",
              "    </tr>\n",
              "    <tr>\n",
              "      <th>44895</th>\n",
              "      <td>Minsk cultural hub becomes haven from authorities</td>\n",
              "      <td>MINSK (Reuters) - In the shadow of disused Sov...</td>\n",
              "      <td>worldnews</td>\n",
              "      <td>August 22, 2017</td>\n",
              "      <td>1</td>\n",
              "    </tr>\n",
              "    <tr>\n",
              "      <th>44896</th>\n",
              "      <td>Vatican upbeat on possibility of Pope Francis ...</td>\n",
              "      <td>MOSCOW (Reuters) - Vatican Secretary of State ...</td>\n",
              "      <td>worldnews</td>\n",
              "      <td>August 22, 2017</td>\n",
              "      <td>1</td>\n",
              "    </tr>\n",
              "    <tr>\n",
              "      <th>44897</th>\n",
              "      <td>Indonesia to buy $1.14 billion worth of Russia...</td>\n",
              "      <td>JAKARTA (Reuters) - Indonesia will buy 11 Sukh...</td>\n",
              "      <td>worldnews</td>\n",
              "      <td>August 22, 2017</td>\n",
              "      <td>1</td>\n",
              "    </tr>\n",
              "  </tbody>\n",
              "</table>\n",
              "<p>44898 rows × 5 columns</p>\n",
              "</div>\n",
              "      <button class=\"colab-df-convert\" onclick=\"convertToInteractive('df-d3eb1a4c-7148-4486-8190-e5ad9a16643c')\"\n",
              "              title=\"Convert this dataframe to an interactive table.\"\n",
              "              style=\"display:none;\">\n",
              "        \n",
              "  <svg xmlns=\"http://www.w3.org/2000/svg\" height=\"24px\"viewBox=\"0 0 24 24\"\n",
              "       width=\"24px\">\n",
              "    <path d=\"M0 0h24v24H0V0z\" fill=\"none\"/>\n",
              "    <path d=\"M18.56 5.44l.94 2.06.94-2.06 2.06-.94-2.06-.94-.94-2.06-.94 2.06-2.06.94zm-11 1L8.5 8.5l.94-2.06 2.06-.94-2.06-.94L8.5 2.5l-.94 2.06-2.06.94zm10 10l.94 2.06.94-2.06 2.06-.94-2.06-.94-.94-2.06-.94 2.06-2.06.94z\"/><path d=\"M17.41 7.96l-1.37-1.37c-.4-.4-.92-.59-1.43-.59-.52 0-1.04.2-1.43.59L10.3 9.45l-7.72 7.72c-.78.78-.78 2.05 0 2.83L4 21.41c.39.39.9.59 1.41.59.51 0 1.02-.2 1.41-.59l7.78-7.78 2.81-2.81c.8-.78.8-2.07 0-2.86zM5.41 20L4 18.59l7.72-7.72 1.47 1.35L5.41 20z\"/>\n",
              "  </svg>\n",
              "      </button>\n",
              "      \n",
              "  <style>\n",
              "    .colab-df-container {\n",
              "      display:flex;\n",
              "      flex-wrap:wrap;\n",
              "      gap: 12px;\n",
              "    }\n",
              "\n",
              "    .colab-df-convert {\n",
              "      background-color: #E8F0FE;\n",
              "      border: none;\n",
              "      border-radius: 50%;\n",
              "      cursor: pointer;\n",
              "      display: none;\n",
              "      fill: #1967D2;\n",
              "      height: 32px;\n",
              "      padding: 0 0 0 0;\n",
              "      width: 32px;\n",
              "    }\n",
              "\n",
              "    .colab-df-convert:hover {\n",
              "      background-color: #E2EBFA;\n",
              "      box-shadow: 0px 1px 2px rgba(60, 64, 67, 0.3), 0px 1px 3px 1px rgba(60, 64, 67, 0.15);\n",
              "      fill: #174EA6;\n",
              "    }\n",
              "\n",
              "    [theme=dark] .colab-df-convert {\n",
              "      background-color: #3B4455;\n",
              "      fill: #D2E3FC;\n",
              "    }\n",
              "\n",
              "    [theme=dark] .colab-df-convert:hover {\n",
              "      background-color: #434B5C;\n",
              "      box-shadow: 0px 1px 3px 1px rgba(0, 0, 0, 0.15);\n",
              "      filter: drop-shadow(0px 1px 2px rgba(0, 0, 0, 0.3));\n",
              "      fill: #FFFFFF;\n",
              "    }\n",
              "  </style>\n",
              "\n",
              "      <script>\n",
              "        const buttonEl =\n",
              "          document.querySelector('#df-d3eb1a4c-7148-4486-8190-e5ad9a16643c button.colab-df-convert');\n",
              "        buttonEl.style.display =\n",
              "          google.colab.kernel.accessAllowed ? 'block' : 'none';\n",
              "\n",
              "        async function convertToInteractive(key) {\n",
              "          const element = document.querySelector('#df-d3eb1a4c-7148-4486-8190-e5ad9a16643c');\n",
              "          const dataTable =\n",
              "            await google.colab.kernel.invokeFunction('convertToInteractive',\n",
              "                                                     [key], {});\n",
              "          if (!dataTable) return;\n",
              "\n",
              "          const docLinkHtml = 'Like what you see? Visit the ' +\n",
              "            '<a target=\"_blank\" href=https://colab.research.google.com/notebooks/data_table.ipynb>data table notebook</a>'\n",
              "            + ' to learn more about interactive tables.';\n",
              "          element.innerHTML = '';\n",
              "          dataTable['output_type'] = 'display_data';\n",
              "          await google.colab.output.renderOutput(dataTable, element);\n",
              "          const docLink = document.createElement('div');\n",
              "          docLink.innerHTML = docLinkHtml;\n",
              "          element.appendChild(docLink);\n",
              "        }\n",
              "      </script>\n",
              "    </div>\n",
              "  </div>\n",
              "  "
            ]
          },
          "metadata": {},
          "execution_count": 6
        }
      ]
    },
    {
      "cell_type": "code",
      "source": [
        "# Checking the shape of the Fake news set, the True news set, and the combinded set\n",
        "df1.shape, df2.shape, news.shape"
      ],
      "metadata": {
        "colab": {
          "base_uri": "https://localhost:8080/"
        },
        "id": "msyevQkbXqxZ",
        "outputId": "f2bac91b-6316-47b7-ed5b-d01e40eaffa8"
      },
      "execution_count": null,
      "outputs": [
        {
          "output_type": "execute_result",
          "data": {
            "text/plain": [
              "((23481, 5), (21417, 5), (44898, 5))"
            ]
          },
          "metadata": {},
          "execution_count": 7
        }
      ]
    },
    {
      "cell_type": "code",
      "source": [
        "# Checking for null values \n",
        "news.isnull().sum()"
      ],
      "metadata": {
        "colab": {
          "base_uri": "https://localhost:8080/"
        },
        "id": "niTsxGeJdYXZ",
        "outputId": "2b8f8285-a3d2-4215-ccc0-591a352092e4"
      },
      "execution_count": null,
      "outputs": [
        {
          "output_type": "execute_result",
          "data": {
            "text/plain": [
              "title      0\n",
              "text       0\n",
              "subject    0\n",
              "date       0\n",
              "target     0\n",
              "dtype: int64"
            ]
          },
          "metadata": {},
          "execution_count": 8
        }
      ]
    },
    {
      "cell_type": "code",
      "source": [
        "# Fake vs Real ORIGINAL\n",
        "sns.set(rc = {\"figure.figsize\":(8, 8)}) \n",
        "sns.color_palette(\"coolwarm\", as_cmap = True) \n",
        "plt = sns.countplot(news.loc[:,'target']) \n",
        "plt"
      ],
      "metadata": {
        "colab": {
          "base_uri": "https://localhost:8080/",
          "height": 575
        },
        "id": "Q-LiKzlvF6E5",
        "outputId": "3ee15fb7-da24-4544-be5f-0dffe3acc893"
      },
      "execution_count": null,
      "outputs": [
        {
          "output_type": "stream",
          "name": "stderr",
          "text": [
            "/usr/local/lib/python3.7/dist-packages/seaborn/_decorators.py:43: FutureWarning: Pass the following variable as a keyword arg: x. From version 0.12, the only valid positional argument will be `data`, and passing other arguments without an explicit keyword will result in an error or misinterpretation.\n",
            "  FutureWarning\n"
          ]
        },
        {
          "output_type": "execute_result",
          "data": {
            "text/plain": [
              "<matplotlib.axes._subplots.AxesSubplot at 0x7f54b1ac62d0>"
            ]
          },
          "metadata": {},
          "execution_count": 9
        },
        {
          "output_type": "display_data",
          "data": {
            "text/plain": [
              "<Figure size 576x576 with 1 Axes>"
            ],
            "image/png": "[encoded data removed]"
          },
          "metadata": {}
        }
      ]
    },
    {
      "cell_type": "code",
      "source": [
        "# Overall subject distribution ORIGINAL\n",
        "sns.set(rc={\"figure.figsize\":(8, 8)}) \n",
        "plt = sns.histplot(data = news, y = 'subject', hue = 'target') \n",
        "plt "
      ],
      "metadata": {
        "colab": {
          "base_uri": "https://localhost:8080/",
          "height": 520
        },
        "id": "8QqvKzgMGVpd",
        "outputId": "7dee2e87-e86c-48e3-8882-25ff19566098"
      },
      "execution_count": null,
      "outputs": [
        {
          "output_type": "execute_result",
          "data": {
            "text/plain": [
              "<matplotlib.axes._subplots.AxesSubplot at 0x7f54b1261750>"
            ]
          },
          "metadata": {},
          "execution_count": 10
        },
        {
          "output_type": "display_data",
          "data": {
            "text/plain": [
              "<Figure size 576x576 with 1 Axes>"
            ],
            "image/png": "[encoded data removed]"
          },
          "metadata": {}
        }
      ]
    },
    {
      "cell_type": "markdown",
      "source": [
        "AFTER THE FACT: Is there something we overlooked that's making the model less universal than we want it to be?"
      ],
      "metadata": {
        "id": "lFd3YVexXQuS"
      }
    },
    {
      "cell_type": "code",
      "source": [
        "# Are there duplicates?\n",
        "news.loc[:, 'text'].shape[0] - news.loc[:, 'text'].unique().shape[0]"
      ],
      "metadata": {
        "colab": {
          "base_uri": "https://localhost:8080/"
        },
        "id": "2DY8_XXcZSFX",
        "outputId": "e5737a34-1e29-4297-ed2c-860ecf80aa95"
      },
      "execution_count": null,
      "outputs": [
        {
          "output_type": "execute_result",
          "data": {
            "text/plain": [
              "6252"
            ]
          },
          "metadata": {},
          "execution_count": 11
        }
      ]
    },
    {
      "cell_type": "code",
      "source": [
        "news = news.drop_duplicates(subset = 'text', keep = 'first')"
      ],
      "metadata": {
        "id": "riWxMlNmXQN8"
      },
      "execution_count": null,
      "outputs": []
    },
    {
      "cell_type": "code",
      "source": [
        "sns.set(rc = {\"figure.figsize\":(8, 8)}) \n",
        "sns.color_palette(\"coolwarm\", as_cmap = True) \n",
        "plt = sns.countplot(news.loc[:,'target']) \n",
        "plt"
      ],
      "metadata": {
        "colab": {
          "base_uri": "https://localhost:8080/",
          "height": 575
        },
        "id": "ZiDPSMYLb6f6",
        "outputId": "a89fedbc-2b83-415c-8260-8d414915fba5"
      },
      "execution_count": null,
      "outputs": [
        {
          "output_type": "stream",
          "name": "stderr",
          "text": [
            "/usr/local/lib/python3.7/dist-packages/seaborn/_decorators.py:43: FutureWarning: Pass the following variable as a keyword arg: x. From version 0.12, the only valid positional argument will be `data`, and passing other arguments without an explicit keyword will result in an error or misinterpretation.\n",
            "  FutureWarning\n"
          ]
        },
        {
          "output_type": "execute_result",
          "data": {
            "text/plain": [
              "<matplotlib.axes._subplots.AxesSubplot at 0x7f54b11bee10>"
            ]
          },
          "metadata": {},
          "execution_count": 13
        },
        {
          "output_type": "display_data",
          "data": {
            "text/plain": [
              "<Figure size 576x576 with 1 Axes>"
            ],
            "image/png": "[encoded data removed]"
          },
          "metadata": {}
        }
      ]
    },
    {
      "cell_type": "code",
      "source": [
        "sns.set(rc={\"figure.figsize\":(8, 8)}) \n",
        "plt = sns.histplot(data = news, y = 'subject', hue = 'target') \n",
        "plt "
      ],
      "metadata": {
        "colab": {
          "base_uri": "https://localhost:8080/",
          "height": 520
        },
        "id": "6WrUTf2Vb_vL",
        "outputId": "c8a7fe31-a52d-4bd5-c21d-e8ae5df41f69"
      },
      "execution_count": null,
      "outputs": [
        {
          "output_type": "execute_result",
          "data": {
            "text/plain": [
              "<matplotlib.axes._subplots.AxesSubplot at 0x7f54b10f2410>"
            ]
          },
          "metadata": {},
          "execution_count": 14
        },
        {
          "output_type": "display_data",
          "data": {
            "text/plain": [
              "<Figure size 576x576 with 1 Axes>"
            ],
            "image/png": "[encoded data removed]"
          },
          "metadata": {}
        }
      ]
    },
    {
      "cell_type": "markdown",
      "source": [
        "##Downloading All the Other Data "
      ],
      "metadata": {
        "id": "zO_P38ryvMBz"
      }
    },
    {
      "cell_type": "code",
      "source": [
        "# Downloading a bunch of other csv data to test out our models\n",
        "!wget https://raw.githubusercontent.com/h-nev/Data-Capping-477/master/CYBER-COP%20news.csv\n",
        "!wget https://raw.githubusercontent.com/h-nev/Data-Capping-477/master/RUCHI-BHATIA%20news.csv"
      ],
      "metadata": {
        "colab": {
          "base_uri": "https://localhost:8080/"
        },
        "id": "9zOCjKhhvf1e",
        "outputId": "a84db6b6-8ad6-486a-afe4-3db4457a2ed1"
      },
      "execution_count": null,
      "outputs": [
        {
          "output_type": "stream",
          "name": "stdout",
          "text": [
            "--2022-04-28 02:01:18--  https://raw.githubusercontent.com/h-nev/Data-Capping-477/master/CYBER-COP%20news.csv\n",
            "Resolving raw.githubusercontent.com (raw.githubusercontent.com)... 185.199.111.133, 185.199.109.133, 185.199.108.133, ...\n",
            "Connecting to raw.githubusercontent.com (raw.githubusercontent.com)|185.199.111.133|:443... connected.\n",
            "HTTP request sent, awaiting response... 200 OK\n",
            "Length: 30695372 (29M) [text/plain]\n",
            "Saving to: ‘CYBER-COP news.csv’\n",
            "\n",
            "CYBER-COP news.csv  100%[===================>]  29.27M   114MB/s    in 0.3s    \n",
            "\n",
            "2022-04-28 02:01:19 (114 MB/s) - ‘CYBER-COP news.csv’ saved [30695372/30695372]\n",
            "\n",
            "--2022-04-28 02:01:19--  https://raw.githubusercontent.com/h-nev/Data-Capping-477/master/RUCHI-BHATIA%20news.csv\n",
            "Resolving raw.githubusercontent.com (raw.githubusercontent.com)... 185.199.111.133, 185.199.110.133, 185.199.109.133, ...\n",
            "Connecting to raw.githubusercontent.com (raw.githubusercontent.com)|185.199.111.133|:443... connected.\n",
            "HTTP request sent, awaiting response... 200 OK\n",
            "Length: 10967452 (10M) [text/plain]\n",
            "Saving to: ‘RUCHI-BHATIA news.csv’\n",
            "\n",
            "RUCHI-BHATIA news.c 100%[===================>]  10.46M  --.-KB/s    in 0.1s    \n",
            "\n",
            "2022-04-28 02:01:19 (71.6 MB/s) - ‘RUCHI-BHATIA news.csv’ saved [10967452/10967452]\n",
            "\n"
          ]
        }
      ]
    },
    {
      "cell_type": "code",
      "source": [
        "# Checking the directory to make sure the data we expect is there\n",
        "!ls -lia"
      ],
      "metadata": {
        "colab": {
          "base_uri": "https://localhost:8080/"
        },
        "id": "uPMOo_9i1iD8",
        "outputId": "198ee044-62f0-4801-8c88-0fab77eadd0d"
      },
      "execution_count": null,
      "outputs": [
        {
          "output_type": "stream",
          "name": "stdout",
          "text": [
            "total 154332\n",
            "2097188 drwxr-xr-x 1 root root     4096 Apr 28 02:01  .\n",
            "3146784 drwxr-xr-x 1 root root     4096 Apr 28 02:00  ..\n",
            "4063259 drwxr-xr-x 4 root root     4096 Apr 25 13:45  .config\n",
            "3146819 -rw-r--r-- 1 root root 30695372 Apr 28 02:01 'CYBER-COP news.csv'\n",
            "3146795 -rw-r--r-- 1 root root 62789876 Apr 28 02:01  Fake.csv\n",
            "3146820 -rw-r--r-- 1 root root 10967452 Apr 28 02:01 'RUCHI-BHATIA news.csv'\n",
            "2097189 drwxr-xr-x 1 root root     4096 Apr 25 13:46  sample_data\n",
            "3146797 -rw-r--r-- 1 root root 53561522 Apr 28 02:01  True.csv\n"
          ]
        }
      ]
    },
    {
      "cell_type": "code",
      "source": [
        "# Saving all the info and reading it to a pandas dataframe\n",
        "cyber_cop = pd.read_csv(\"CYBER-COP news.csv\")\n",
        "ruchi_bhatia = pd.read_csv(\"RUCHI-BHATIA news.csv\")"
      ],
      "metadata": {
        "id": "QliGl7Kr2NtF"
      },
      "execution_count": null,
      "outputs": []
    },
    {
      "cell_type": "code",
      "source": [
        "# Checking each for nulls\n",
        "print(\"CYBER COP:\") \n",
        "print(cyber_cop.isnull().sum())\n",
        "\n",
        "print(\"\\nRUCHI BHATIA:\")\n",
        "print(ruchi_bhatia.isnull().sum())"
      ],
      "metadata": {
        "colab": {
          "base_uri": "https://localhost:8080/"
        },
        "id": "wBDoENdT1mc7",
        "outputId": "7d835df1-efdd-4e82-9ecc-0b6c08057cd0"
      },
      "execution_count": null,
      "outputs": [
        {
          "output_type": "stream",
          "name": "stdout",
          "text": [
            "CYBER COP:\n",
            "Unnamed: 0    0\n",
            "title         0\n",
            "text          0\n",
            "label         0\n",
            "dtype: int64\n",
            "\n",
            "RUCHI BHATIA:\n",
            "author                      0\n",
            "published                   0\n",
            "title                       0\n",
            "text                       46\n",
            "language                    1\n",
            "site_url                    1\n",
            "main_img_url                1\n",
            "type                        1\n",
            "label                       1\n",
            "title_without_stopwords     2\n",
            "text_without_stopwords     50\n",
            "hasImage                    1\n",
            "dtype: int64\n"
          ]
        }
      ]
    },
    {
      "cell_type": "markdown",
      "source": [
        "###CYBER COP Data Manipulation"
      ],
      "metadata": {
        "id": "Rb49vaJUCWF2"
      }
    },
    {
      "cell_type": "code",
      "source": [
        "cyber_cop.head()"
      ],
      "metadata": {
        "colab": {
          "base_uri": "https://localhost:8080/",
          "height": 206
        },
        "id": "X6Dz7pk3FMO2",
        "outputId": "64267485-8260-4376-e356-5567fa41ef50"
      },
      "execution_count": null,
      "outputs": [
        {
          "output_type": "execute_result",
          "data": {
            "text/plain": [
              "   Unnamed: 0                                              title  \\\n",
              "0           0  A whirlwind day in D.C. showcases Trump’s unor...   \n",
              "1           1  In Baltimore's call for federal police probe, ...   \n",
              "2           2  Trump Proudly Declares: Most Of The People I’v...   \n",
              "3           3  Inside the Trump-Bush melodrama: Decades of te...   \n",
              "4           4      Shutdown clash to return in force by December   \n",
              "\n",
              "                                                text label  \n",
              "0  Donald Trump endorsed an unabashedly noninterv...  REAL  \n",
              "1  While some Justice Department investigations a...  REAL  \n",
              "2  Trump Proudly Declares: Most Of The People I’v...  FAKE  \n",
              "3  Donald Trump spent a day in January 2014 hobno...  REAL  \n",
              "4  Notable names include Ray Washburne (Commerce)...  REAL  "
            ],
            "text/html": [
              "\n",
              "  <div id=\"df-ed7b19cb-a8e0-467c-8451-c5e42b1047b9\">\n",
              "    <div class=\"colab-df-container\">\n",
              "      <div>\n",
              "<style scoped>\n",
              "    .dataframe tbody tr th:only-of-type {\n",
              "        vertical-align: middle;\n",
              "    }\n",
              "\n",
              "    .dataframe tbody tr th {\n",
              "        vertical-align: top;\n",
              "    }\n",
              "\n",
              "    .dataframe thead th {\n",
              "        text-align: right;\n",
              "    }\n",
              "</style>\n",
              "<table border=\"1\" class=\"dataframe\">\n",
              "  <thead>\n",
              "    <tr style=\"text-align: right;\">\n",
              "      <th></th>\n",
              "      <th>Unnamed: 0</th>\n",
              "      <th>title</th>\n",
              "      <th>text</th>\n",
              "      <th>label</th>\n",
              "    </tr>\n",
              "  </thead>\n",
              "  <tbody>\n",
              "    <tr>\n",
              "      <th>0</th>\n",
              "      <td>0</td>\n",
              "      <td>A whirlwind day in D.C. showcases Trump’s unor...</td>\n",
              "      <td>Donald Trump endorsed an unabashedly noninterv...</td>\n",
              "      <td>REAL</td>\n",
              "    </tr>\n",
              "    <tr>\n",
              "      <th>1</th>\n",
              "      <td>1</td>\n",
              "      <td>In Baltimore's call for federal police probe, ...</td>\n",
              "      <td>While some Justice Department investigations a...</td>\n",
              "      <td>REAL</td>\n",
              "    </tr>\n",
              "    <tr>\n",
              "      <th>2</th>\n",
              "      <td>2</td>\n",
              "      <td>Trump Proudly Declares: Most Of The People I’v...</td>\n",
              "      <td>Trump Proudly Declares: Most Of The People I’v...</td>\n",
              "      <td>FAKE</td>\n",
              "    </tr>\n",
              "    <tr>\n",
              "      <th>3</th>\n",
              "      <td>3</td>\n",
              "      <td>Inside the Trump-Bush melodrama: Decades of te...</td>\n",
              "      <td>Donald Trump spent a day in January 2014 hobno...</td>\n",
              "      <td>REAL</td>\n",
              "    </tr>\n",
              "    <tr>\n",
              "      <th>4</th>\n",
              "      <td>4</td>\n",
              "      <td>Shutdown clash to return in force by December</td>\n",
              "      <td>Notable names include Ray Washburne (Commerce)...</td>\n",
              "      <td>REAL</td>\n",
              "    </tr>\n",
              "  </tbody>\n",
              "</table>\n",
              "</div>\n",
              "      <button class=\"colab-df-convert\" onclick=\"convertToInteractive('df-ed7b19cb-a8e0-467c-8451-c5e42b1047b9')\"\n",
              "              title=\"Convert this dataframe to an interactive table.\"\n",
              "              style=\"display:none;\">\n",
              "        \n",
              "  <svg xmlns=\"http://www.w3.org/2000/svg\" height=\"24px\"viewBox=\"0 0 24 24\"\n",
              "       width=\"24px\">\n",
              "    <path d=\"M0 0h24v24H0V0z\" fill=\"none\"/>\n",
              "    <path d=\"M18.56 5.44l.94 2.06.94-2.06 2.06-.94-2.06-.94-.94-2.06-.94 2.06-2.06.94zm-11 1L8.5 8.5l.94-2.06 2.06-.94-2.06-.94L8.5 2.5l-.94 2.06-2.06.94zm10 10l.94 2.06.94-2.06 2.06-.94-2.06-.94-.94-2.06-.94 2.06-2.06.94z\"/><path d=\"M17.41 7.96l-1.37-1.37c-.4-.4-.92-.59-1.43-.59-.52 0-1.04.2-1.43.59L10.3 9.45l-7.72 7.72c-.78.78-.78 2.05 0 2.83L4 21.41c.39.39.9.59 1.41.59.51 0 1.02-.2 1.41-.59l7.78-7.78 2.81-2.81c.8-.78.8-2.07 0-2.86zM5.41 20L4 18.59l7.72-7.72 1.47 1.35L5.41 20z\"/>\n",
              "  </svg>\n",
              "      </button>\n",
              "      \n",
              "  <style>\n",
              "    .colab-df-container {\n",
              "      display:flex;\n",
              "      flex-wrap:wrap;\n",
              "      gap: 12px;\n",
              "    }\n",
              "\n",
              "    .colab-df-convert {\n",
              "      background-color: #E8F0FE;\n",
              "      border: none;\n",
              "      border-radius: 50%;\n",
              "      cursor: pointer;\n",
              "      display: none;\n",
              "      fill: #1967D2;\n",
              "      height: 32px;\n",
              "      padding: 0 0 0 0;\n",
              "      width: 32px;\n",
              "    }\n",
              "\n",
              "    .colab-df-convert:hover {\n",
              "      background-color: #E2EBFA;\n",
              "      box-shadow: 0px 1px 2px rgba(60, 64, 67, 0.3), 0px 1px 3px 1px rgba(60, 64, 67, 0.15);\n",
              "      fill: #174EA6;\n",
              "    }\n",
              "\n",
              "    [theme=dark] .colab-df-convert {\n",
              "      background-color: #3B4455;\n",
              "      fill: #D2E3FC;\n",
              "    }\n",
              "\n",
              "    [theme=dark] .colab-df-convert:hover {\n",
              "      background-color: #434B5C;\n",
              "      box-shadow: 0px 1px 3px 1px rgba(0, 0, 0, 0.15);\n",
              "      filter: drop-shadow(0px 1px 2px rgba(0, 0, 0, 0.3));\n",
              "      fill: #FFFFFF;\n",
              "    }\n",
              "  </style>\n",
              "\n",
              "      <script>\n",
              "        const buttonEl =\n",
              "          document.querySelector('#df-ed7b19cb-a8e0-467c-8451-c5e42b1047b9 button.colab-df-convert');\n",
              "        buttonEl.style.display =\n",
              "          google.colab.kernel.accessAllowed ? 'block' : 'none';\n",
              "\n",
              "        async function convertToInteractive(key) {\n",
              "          const element = document.querySelector('#df-ed7b19cb-a8e0-467c-8451-c5e42b1047b9');\n",
              "          const dataTable =\n",
              "            await google.colab.kernel.invokeFunction('convertToInteractive',\n",
              "                                                     [key], {});\n",
              "          if (!dataTable) return;\n",
              "\n",
              "          const docLinkHtml = 'Like what you see? Visit the ' +\n",
              "            '<a target=\"_blank\" href=https://colab.research.google.com/notebooks/data_table.ipynb>data table notebook</a>'\n",
              "            + ' to learn more about interactive tables.';\n",
              "          element.innerHTML = '';\n",
              "          dataTable['output_type'] = 'display_data';\n",
              "          await google.colab.output.renderOutput(dataTable, element);\n",
              "          const docLink = document.createElement('div');\n",
              "          docLink.innerHTML = docLinkHtml;\n",
              "          element.appendChild(docLink);\n",
              "        }\n",
              "      </script>\n",
              "    </div>\n",
              "  </div>\n",
              "  "
            ]
          },
          "metadata": {},
          "execution_count": 19
        }
      ]
    },
    {
      "cell_type": "code",
      "source": [
        "# Are there duplciates here too?\n",
        "cyber_cop.loc[:, 'text'].shape[0] - cyber_cop.loc[:, 'text'].unique().shape[0]"
      ],
      "metadata": {
        "colab": {
          "base_uri": "https://localhost:8080/"
        },
        "id": "YD3E9WCGeEye",
        "outputId": "f0931c7d-8250-4ea5-a5cd-8f9b0df103dd"
      },
      "execution_count": null,
      "outputs": [
        {
          "output_type": "execute_result",
          "data": {
            "text/plain": [
              "275"
            ]
          },
          "metadata": {},
          "execution_count": 20
        }
      ]
    },
    {
      "cell_type": "code",
      "source": [
        "# Removing the duplicates\n",
        "cyber_cop = cyber_cop.drop_duplicates(subset = 'text', keep = 'first')"
      ],
      "metadata": {
        "id": "zP1dAMWQe8rc"
      },
      "execution_count": null,
      "outputs": []
    },
    {
      "cell_type": "code",
      "source": [
        "cyber_X = cyber_cop.loc[:, 'text'] \n",
        "cyber_Y = cyber_cop.loc[:, 'label'] "
      ],
      "metadata": {
        "id": "qXP1mqJI-DfG"
      },
      "execution_count": null,
      "outputs": []
    },
    {
      "cell_type": "code",
      "source": [
        "# Need to figure out what the labels look like so we can recode them\n",
        "cyber_Y.head()"
      ],
      "metadata": {
        "colab": {
          "base_uri": "https://localhost:8080/"
        },
        "id": "HQtQpOql_Wil",
        "outputId": "d5a4c2e2-0d46-4927-bb77-c935d15201f4"
      },
      "execution_count": null,
      "outputs": [
        {
          "output_type": "execute_result",
          "data": {
            "text/plain": [
              "0    REAL\n",
              "1    REAL\n",
              "2    FAKE\n",
              "3    REAL\n",
              "4    REAL\n",
              "Name: label, dtype: object"
            ]
          },
          "metadata": {},
          "execution_count": 23
        }
      ]
    },
    {
      "cell_type": "code",
      "source": [
        "# Recoding and making sure it works\n",
        "cyber_Y = cyber_Y.replace({'FAKE': 0, 'REAL': 1})\n",
        "cyber_Y.head()"
      ],
      "metadata": {
        "colab": {
          "base_uri": "https://localhost:8080/"
        },
        "id": "VbDN5Fz_ApW1",
        "outputId": "e2bc065b-875f-4871-d29c-e649399f4436"
      },
      "execution_count": null,
      "outputs": [
        {
          "output_type": "execute_result",
          "data": {
            "text/plain": [
              "0    1\n",
              "1    1\n",
              "2    0\n",
              "3    1\n",
              "4    1\n",
              "Name: label, dtype: int64"
            ]
          },
          "metadata": {},
          "execution_count": 24
        }
      ]
    },
    {
      "cell_type": "code",
      "source": [
        "sns.set(rc = {\"figure.figsize\":(8, 8)}) \n",
        "sns.color_palette(\"coolwarm\", as_cmap = True) \n",
        "plt = sns.countplot(cyber_cop.loc[:,'label']) \n",
        "plt "
      ],
      "metadata": {
        "colab": {
          "base_uri": "https://localhost:8080/",
          "height": 575
        },
        "id": "SQ5ZLhWiC8cT",
        "outputId": "44873ba2-e8bc-43af-928e-7b14294f79a2"
      },
      "execution_count": null,
      "outputs": [
        {
          "output_type": "stream",
          "name": "stderr",
          "text": [
            "/usr/local/lib/python3.7/dist-packages/seaborn/_decorators.py:43: FutureWarning: Pass the following variable as a keyword arg: x. From version 0.12, the only valid positional argument will be `data`, and passing other arguments without an explicit keyword will result in an error or misinterpretation.\n",
            "  FutureWarning\n"
          ]
        },
        {
          "output_type": "execute_result",
          "data": {
            "text/plain": [
              "<matplotlib.axes._subplots.AxesSubplot at 0x7f54b1762b90>"
            ]
          },
          "metadata": {},
          "execution_count": 25
        },
        {
          "output_type": "display_data",
          "data": {
            "text/plain": [
              "<Figure size 576x576 with 1 Axes>"
            ],
            "image/png": "[encoded data removed]"
          },
          "metadata": {}
        }
      ]
    },
    {
      "cell_type": "markdown",
      "source": [
        "###RUCHI BHATIA Data Manipulation"
      ],
      "metadata": {
        "id": "YlzuZBlam-r1"
      }
    },
    {
      "cell_type": "code",
      "source": [
        "ruchi_bhatia.head()"
      ],
      "metadata": {
        "colab": {
          "base_uri": "https://localhost:8080/",
          "height": 704
        },
        "id": "INzE8v2znAXq",
        "outputId": "82135dc5-89c4-4289-9ce0-d41bf42bb012"
      },
      "execution_count": null,
      "outputs": [
        {
          "output_type": "execute_result",
          "data": {
            "text/plain": [
              "                 author                      published  \\\n",
              "0     Barracuda Brigade  2016-10-26T21:41:00.000+03:00   \n",
              "1  reasoning with facts  2016-10-29T08:47:11.259+03:00   \n",
              "2     Barracuda Brigade  2016-10-31T01:41:49.479+02:00   \n",
              "3                Fed Up  2016-11-01T05:22:00.000+02:00   \n",
              "4                Fed Up  2016-11-01T21:56:00.000+02:00   \n",
              "\n",
              "                                               title  \\\n",
              "0  muslims busted they stole millions in govt ben...   \n",
              "1  re why did attorney general loretta lynch plea...   \n",
              "2  breaking weiner cooperating with fbi on hillar...   \n",
              "3  pin drop speech by father of daughter kidnappe...   \n",
              "4  fantastic trumps  point plan to reform healthc...   \n",
              "\n",
              "                                                text language  \\\n",
              "0  print they should pay all the back all the mon...  english   \n",
              "1  why did attorney general loretta lynch plead t...  english   \n",
              "2  red state  \\nfox news sunday reported this mor...  english   \n",
              "3  email kayla mueller was a prisoner and torture...  english   \n",
              "4  email healthcare reform to make america great ...  english   \n",
              "\n",
              "              site_url                                       main_img_url  \\\n",
              "0  100percentfedup.com  http://bb4sp.com/wp-content/uploads/2016/10/Fu...   \n",
              "1  100percentfedup.com  http://bb4sp.com/wp-content/uploads/2016/10/Fu...   \n",
              "2  100percentfedup.com  http://bb4sp.com/wp-content/uploads/2016/10/Fu...   \n",
              "3  100percentfedup.com  http://100percentfedup.com/wp-content/uploads/...   \n",
              "4  100percentfedup.com  http://100percentfedup.com/wp-content/uploads/...   \n",
              "\n",
              "   type label                            title_without_stopwords  \\\n",
              "0  bias  Real        muslims busted stole millions govt benefits   \n",
              "1  bias  Real         attorney general loretta lynch plead fifth   \n",
              "2  bias  Real  breaking weiner cooperating fbi hillary email ...   \n",
              "3  bias  Real  pin drop speech father daughter kidnapped kill...   \n",
              "4  bias  Real  fantastic trumps point plan reform healthcare ...   \n",
              "\n",
              "                              text_without_stopwords  hasImage  \n",
              "0  print pay back money plus interest entire fami...       1.0  \n",
              "1  attorney general loretta lynch plead fifth bar...       1.0  \n",
              "2  red state fox news sunday reported morning ant...       1.0  \n",
              "3  email kayla mueller prisoner tortured isis cha...       1.0  \n",
              "4  email healthcare reform make america great sin...       1.0  "
            ],
            "text/html": [
              "\n",
              "  <div id=\"df-4abd1035-473d-4fa5-a189-096ab1746b46\">\n",
              "    <div class=\"colab-df-container\">\n",
              "      <div>\n",
              "<style scoped>\n",
              "    .dataframe tbody tr th:only-of-type {\n",
              "        vertical-align: middle;\n",
              "    }\n",
              "\n",
              "    .dataframe tbody tr th {\n",
              "        vertical-align: top;\n",
              "    }\n",
              "\n",
              "    .dataframe thead th {\n",
              "        text-align: right;\n",
              "    }\n",
              "</style>\n",
              "<table border=\"1\" class=\"dataframe\">\n",
              "  <thead>\n",
              "    <tr style=\"text-align: right;\">\n",
              "      <th></th>\n",
              "      <th>author</th>\n",
              "      <th>published</th>\n",
              "      <th>title</th>\n",
              "      <th>text</th>\n",
              "      <th>language</th>\n",
              "      <th>site_url</th>\n",
              "      <th>main_img_url</th>\n",
              "      <th>type</th>\n",
              "      <th>label</th>\n",
              "      <th>title_without_stopwords</th>\n",
              "      <th>text_without_stopwords</th>\n",
              "      <th>hasImage</th>\n",
              "    </tr>\n",
              "  </thead>\n",
              "  <tbody>\n",
              "    <tr>\n",
              "      <th>0</th>\n",
              "      <td>Barracuda Brigade</td>\n",
              "      <td>2016-10-26T21:41:00.000+03:00</td>\n",
              "      <td>muslims busted they stole millions in govt ben...</td>\n",
              "      <td>print they should pay all the back all the mon...</td>\n",
              "      <td>english</td>\n",
              "      <td>100percentfedup.com</td>\n",
              "      <td>http://bb4sp.com/wp-content/uploads/2016/10/Fu...</td>\n",
              "      <td>bias</td>\n",
              "      <td>Real</td>\n",
              "      <td>muslims busted stole millions govt benefits</td>\n",
              "      <td>print pay back money plus interest entire fami...</td>\n",
              "      <td>1.0</td>\n",
              "    </tr>\n",
              "    <tr>\n",
              "      <th>1</th>\n",
              "      <td>reasoning with facts</td>\n",
              "      <td>2016-10-29T08:47:11.259+03:00</td>\n",
              "      <td>re why did attorney general loretta lynch plea...</td>\n",
              "      <td>why did attorney general loretta lynch plead t...</td>\n",
              "      <td>english</td>\n",
              "      <td>100percentfedup.com</td>\n",
              "      <td>http://bb4sp.com/wp-content/uploads/2016/10/Fu...</td>\n",
              "      <td>bias</td>\n",
              "      <td>Real</td>\n",
              "      <td>attorney general loretta lynch plead fifth</td>\n",
              "      <td>attorney general loretta lynch plead fifth bar...</td>\n",
              "      <td>1.0</td>\n",
              "    </tr>\n",
              "    <tr>\n",
              "      <th>2</th>\n",
              "      <td>Barracuda Brigade</td>\n",
              "      <td>2016-10-31T01:41:49.479+02:00</td>\n",
              "      <td>breaking weiner cooperating with fbi on hillar...</td>\n",
              "      <td>red state  \\nfox news sunday reported this mor...</td>\n",
              "      <td>english</td>\n",
              "      <td>100percentfedup.com</td>\n",
              "      <td>http://bb4sp.com/wp-content/uploads/2016/10/Fu...</td>\n",
              "      <td>bias</td>\n",
              "      <td>Real</td>\n",
              "      <td>breaking weiner cooperating fbi hillary email ...</td>\n",
              "      <td>red state fox news sunday reported morning ant...</td>\n",
              "      <td>1.0</td>\n",
              "    </tr>\n",
              "    <tr>\n",
              "      <th>3</th>\n",
              "      <td>Fed Up</td>\n",
              "      <td>2016-11-01T05:22:00.000+02:00</td>\n",
              "      <td>pin drop speech by father of daughter kidnappe...</td>\n",
              "      <td>email kayla mueller was a prisoner and torture...</td>\n",
              "      <td>english</td>\n",
              "      <td>100percentfedup.com</td>\n",
              "      <td>http://100percentfedup.com/wp-content/uploads/...</td>\n",
              "      <td>bias</td>\n",
              "      <td>Real</td>\n",
              "      <td>pin drop speech father daughter kidnapped kill...</td>\n",
              "      <td>email kayla mueller prisoner tortured isis cha...</td>\n",
              "      <td>1.0</td>\n",
              "    </tr>\n",
              "    <tr>\n",
              "      <th>4</th>\n",
              "      <td>Fed Up</td>\n",
              "      <td>2016-11-01T21:56:00.000+02:00</td>\n",
              "      <td>fantastic trumps  point plan to reform healthc...</td>\n",
              "      <td>email healthcare reform to make america great ...</td>\n",
              "      <td>english</td>\n",
              "      <td>100percentfedup.com</td>\n",
              "      <td>http://100percentfedup.com/wp-content/uploads/...</td>\n",
              "      <td>bias</td>\n",
              "      <td>Real</td>\n",
              "      <td>fantastic trumps point plan reform healthcare ...</td>\n",
              "      <td>email healthcare reform make america great sin...</td>\n",
              "      <td>1.0</td>\n",
              "    </tr>\n",
              "  </tbody>\n",
              "</table>\n",
              "</div>\n",
              "      <button class=\"colab-df-convert\" onclick=\"convertToInteractive('df-4abd1035-473d-4fa5-a189-096ab1746b46')\"\n",
              "              title=\"Convert this dataframe to an interactive table.\"\n",
              "              style=\"display:none;\">\n",
              "        \n",
              "  <svg xmlns=\"http://www.w3.org/2000/svg\" height=\"24px\"viewBox=\"0 0 24 24\"\n",
              "       width=\"24px\">\n",
              "    <path d=\"M0 0h24v24H0V0z\" fill=\"none\"/>\n",
              "    <path d=\"M18.56 5.44l.94 2.06.94-2.06 2.06-.94-2.06-.94-.94-2.06-.94 2.06-2.06.94zm-11 1L8.5 8.5l.94-2.06 2.06-.94-2.06-.94L8.5 2.5l-.94 2.06-2.06.94zm10 10l.94 2.06.94-2.06 2.06-.94-2.06-.94-.94-2.06-.94 2.06-2.06.94z\"/><path d=\"M17.41 7.96l-1.37-1.37c-.4-.4-.92-.59-1.43-.59-.52 0-1.04.2-1.43.59L10.3 9.45l-7.72 7.72c-.78.78-.78 2.05 0 2.83L4 21.41c.39.39.9.59 1.41.59.51 0 1.02-.2 1.41-.59l7.78-7.78 2.81-2.81c.8-.78.8-2.07 0-2.86zM5.41 20L4 18.59l7.72-7.72 1.47 1.35L5.41 20z\"/>\n",
              "  </svg>\n",
              "      </button>\n",
              "      \n",
              "  <style>\n",
              "    .colab-df-container {\n",
              "      display:flex;\n",
              "      flex-wrap:wrap;\n",
              "      gap: 12px;\n",
              "    }\n",
              "\n",
              "    .colab-df-convert {\n",
              "      background-color: #E8F0FE;\n",
              "      border: none;\n",
              "      border-radius: 50%;\n",
              "      cursor: pointer;\n",
              "      display: none;\n",
              "      fill: #1967D2;\n",
              "      height: 32px;\n",
              "      padding: 0 0 0 0;\n",
              "      width: 32px;\n",
              "    }\n",
              "\n",
              "    .colab-df-convert:hover {\n",
              "      background-color: #E2EBFA;\n",
              "      box-shadow: 0px 1px 2px rgba(60, 64, 67, 0.3), 0px 1px 3px 1px rgba(60, 64, 67, 0.15);\n",
              "      fill: #174EA6;\n",
              "    }\n",
              "\n",
              "    [theme=dark] .colab-df-convert {\n",
              "      background-color: #3B4455;\n",
              "      fill: #D2E3FC;\n",
              "    }\n",
              "\n",
              "    [theme=dark] .colab-df-convert:hover {\n",
              "      background-color: #434B5C;\n",
              "      box-shadow: 0px 1px 3px 1px rgba(0, 0, 0, 0.15);\n",
              "      filter: drop-shadow(0px 1px 2px rgba(0, 0, 0, 0.3));\n",
              "      fill: #FFFFFF;\n",
              "    }\n",
              "  </style>\n",
              "\n",
              "      <script>\n",
              "        const buttonEl =\n",
              "          document.querySelector('#df-4abd1035-473d-4fa5-a189-096ab1746b46 button.colab-df-convert');\n",
              "        buttonEl.style.display =\n",
              "          google.colab.kernel.accessAllowed ? 'block' : 'none';\n",
              "\n",
              "        async function convertToInteractive(key) {\n",
              "          const element = document.querySelector('#df-4abd1035-473d-4fa5-a189-096ab1746b46');\n",
              "          const dataTable =\n",
              "            await google.colab.kernel.invokeFunction('convertToInteractive',\n",
              "                                                     [key], {});\n",
              "          if (!dataTable) return;\n",
              "\n",
              "          const docLinkHtml = 'Like what you see? Visit the ' +\n",
              "            '<a target=\"_blank\" href=https://colab.research.google.com/notebooks/data_table.ipynb>data table notebook</a>'\n",
              "            + ' to learn more about interactive tables.';\n",
              "          element.innerHTML = '';\n",
              "          dataTable['output_type'] = 'display_data';\n",
              "          await google.colab.output.renderOutput(dataTable, element);\n",
              "          const docLink = document.createElement('div');\n",
              "          docLink.innerHTML = docLinkHtml;\n",
              "          element.appendChild(docLink);\n",
              "        }\n",
              "      </script>\n",
              "    </div>\n",
              "  </div>\n",
              "  "
            ]
          },
          "metadata": {},
          "execution_count": 26
        }
      ]
    },
    {
      "cell_type": "code",
      "source": [
        "ruchi_bhatia.loc[:, 'language'].unique()"
      ],
      "metadata": {
        "colab": {
          "base_uri": "https://localhost:8080/"
        },
        "id": "UX4u8sb245rB",
        "outputId": "f7628ae2-9a21-48a7-e618-ec4efb8a8dfd"
      },
      "execution_count": null,
      "outputs": [
        {
          "output_type": "execute_result",
          "data": {
            "text/plain": [
              "array(['english', 'ignore', 'german', 'french', 'spanish', nan],\n",
              "      dtype=object)"
            ]
          },
          "metadata": {},
          "execution_count": 27
        }
      ]
    },
    {
      "cell_type": "code",
      "source": [
        "# Remove all non-english news stories\n",
        "ruchi_bhatia = ruchi_bhatia[ruchi_bhatia['language'] == 'english']"
      ],
      "metadata": {
        "id": "p5-WN4lT5DUU"
      },
      "execution_count": null,
      "outputs": []
    },
    {
      "cell_type": "code",
      "source": [
        "# Dropping all NA's in the set\n",
        "ruchi_bhatia = ruchi_bhatia.dropna(subset = ['text'])"
      ],
      "metadata": {
        "id": "RV1nvaTKqrVo"
      },
      "execution_count": null,
      "outputs": []
    },
    {
      "cell_type": "code",
      "source": [
        "# Are there any duplicates in this set?\n",
        "ruchi_bhatia.loc[:, 'text'].shape[0] - ruchi_bhatia.loc[:, 'text'].unique().shape[0]"
      ],
      "metadata": {
        "colab": {
          "base_uri": "https://localhost:8080/"
        },
        "id": "PEr3tb5GggBr",
        "outputId": "a4251aa1-182c-4cb0-e585-790dc1cc3a9e"
      },
      "execution_count": null,
      "outputs": [
        {
          "output_type": "execute_result",
          "data": {
            "text/plain": [
              "109"
            ]
          },
          "metadata": {},
          "execution_count": 30
        }
      ]
    },
    {
      "cell_type": "code",
      "source": [
        "# Removing the duplicates\n",
        "ruchi_bhatai = ruchi_bhatia.drop_duplicates(subset = 'text', keep = 'first')"
      ],
      "metadata": {
        "id": "TgxnTWfKhr4z"
      },
      "execution_count": null,
      "outputs": []
    },
    {
      "cell_type": "code",
      "source": [
        "# Recoding to make it better\n",
        "ruchi_X = ruchi_bhatia.loc[:, 'text'] \n",
        "ruchi_Y = ruchi_bhatia.loc[:, 'label'].replace({'Fake': 0, 'Real': 1})\n",
        "ruchi_Y.head()"
      ],
      "metadata": {
        "colab": {
          "base_uri": "https://localhost:8080/"
        },
        "id": "quF-U3fCnG_7",
        "outputId": "9a28ec24-5801-45ea-e5be-88e4e54a55fe"
      },
      "execution_count": null,
      "outputs": [
        {
          "output_type": "execute_result",
          "data": {
            "text/plain": [
              "0    1\n",
              "1    1\n",
              "2    1\n",
              "3    1\n",
              "4    1\n",
              "Name: label, dtype: int64"
            ]
          },
          "metadata": {},
          "execution_count": 32
        }
      ]
    },
    {
      "cell_type": "code",
      "source": [
        "# Checkung for nulls\n",
        "ruchi_bhatia.isnull().sum()"
      ],
      "metadata": {
        "colab": {
          "base_uri": "https://localhost:8080/"
        },
        "id": "lECbmKH8rBFd",
        "outputId": "0bc2ca2b-089b-4a52-f211-1339b1a37d36"
      },
      "execution_count": null,
      "outputs": [
        {
          "output_type": "execute_result",
          "data": {
            "text/plain": [
              "author                     0\n",
              "published                  0\n",
              "title                      0\n",
              "text                       0\n",
              "language                   0\n",
              "site_url                   0\n",
              "main_img_url               0\n",
              "type                       0\n",
              "label                      0\n",
              "title_without_stopwords    1\n",
              "text_without_stopwords     4\n",
              "hasImage                   0\n",
              "dtype: int64"
            ]
          },
          "metadata": {},
          "execution_count": 33
        }
      ]
    },
    {
      "cell_type": "code",
      "source": [
        "sns.set(rc = {\"figure.figsize\":(8, 8)}) \n",
        "sns.color_palette(\"coolwarm\", as_cmap = True) \n",
        "plt = sns.countplot(ruchi_Y) \n",
        "plt "
      ],
      "metadata": {
        "colab": {
          "base_uri": "https://localhost:8080/",
          "height": 575
        },
        "id": "H--jLTG1nltt",
        "outputId": "2d1dc1ec-210d-40d8-d7ca-c97169096eec"
      },
      "execution_count": null,
      "outputs": [
        {
          "output_type": "stream",
          "name": "stderr",
          "text": [
            "/usr/local/lib/python3.7/dist-packages/seaborn/_decorators.py:43: FutureWarning: Pass the following variable as a keyword arg: x. From version 0.12, the only valid positional argument will be `data`, and passing other arguments without an explicit keyword will result in an error or misinterpretation.\n",
            "  FutureWarning\n"
          ]
        },
        {
          "output_type": "execute_result",
          "data": {
            "text/plain": [
              "<matplotlib.axes._subplots.AxesSubplot at 0x7f54b0d9e910>"
            ]
          },
          "metadata": {},
          "execution_count": 34
        },
        {
          "output_type": "display_data",
          "data": {
            "text/plain": [
              "<Figure size 576x576 with 1 Axes>"
            ],
            "image/png": "[encoded data removed]"
          },
          "metadata": {}
        }
      ]
    },
    {
      "cell_type": "markdown",
      "source": [
        "##Splitting the Data"
      ],
      "metadata": {
        "id": "4zvB0l8yEQTh"
      }
    },
    {
      "cell_type": "code",
      "source": [
        "from sklearn.model_selection import train_test_split \n",
        "\n",
        "# Splitting by target and text\n",
        "news_X = news.loc[:, 'text'] \n",
        "news_Y = news.loc[:, 'target'] \n",
        "\n",
        "X_train, X_test, y_train, y_test = train_test_split(news_X, news_Y, test_size = 0.30, random_state = 42) "
      ],
      "metadata": {
        "id": "RYfPATylfaan"
      },
      "execution_count": null,
      "outputs": []
    },
    {
      "cell_type": "code",
      "source": [
        "X_train.shape, X_test.shape, y_train.shape, y_test.shape"
      ],
      "metadata": {
        "colab": {
          "base_uri": "https://localhost:8080/"
        },
        "id": "CQjP0rHvgvVL",
        "outputId": "f5fe65c0-2370-4759-c0fa-fd16a7de4e79"
      },
      "execution_count": null,
      "outputs": [
        {
          "output_type": "execute_result",
          "data": {
            "text/plain": [
              "((27052,), (11594,), (27052,), (11594,))"
            ]
          },
          "metadata": {},
          "execution_count": 36
        }
      ]
    },
    {
      "cell_type": "code",
      "source": [
        "# Target distribution check -- Training\n",
        "sns.set(rc = {\"figure.figsize\":(8, 8)}) \n",
        "sns.color_palette(\"coolwarm\", as_cmap = True) \n",
        "plt = sns.countplot(y_train) \n",
        "plt "
      ],
      "metadata": {
        "colab": {
          "base_uri": "https://localhost:8080/",
          "height": 575
        },
        "id": "OfFCfnYiE-aV",
        "outputId": "46cc525d-b507-440e-eb88-e6c2f60dd710"
      },
      "execution_count": null,
      "outputs": [
        {
          "output_type": "stream",
          "name": "stderr",
          "text": [
            "/usr/local/lib/python3.7/dist-packages/seaborn/_decorators.py:43: FutureWarning: Pass the following variable as a keyword arg: x. From version 0.12, the only valid positional argument will be `data`, and passing other arguments without an explicit keyword will result in an error or misinterpretation.\n",
            "  FutureWarning\n"
          ]
        },
        {
          "output_type": "execute_result",
          "data": {
            "text/plain": [
              "<matplotlib.axes._subplots.AxesSubplot at 0x7f54b103b910>"
            ]
          },
          "metadata": {},
          "execution_count": 37
        },
        {
          "output_type": "display_data",
          "data": {
            "text/plain": [
              "<Figure size 576x576 with 1 Axes>"
            ],
            "image/png": "[encoded data removed]"
          },
          "metadata": {}
        }
      ]
    },
    {
      "cell_type": "code",
      "source": [
        "# Target distribution check -- Test\n",
        "sns.set(rc = {\"figure.figsize\":(8, 8)}) \n",
        "sns.color_palette(\"coolwarm\", as_cmap = True) \n",
        "plt = sns.countplot(y_test) \n",
        "plt "
      ],
      "metadata": {
        "colab": {
          "base_uri": "https://localhost:8080/",
          "height": 575
        },
        "id": "i4vU6hNvFIai",
        "outputId": "d2a4283c-6faa-44bf-a0c4-8786ddf59e60"
      },
      "execution_count": null,
      "outputs": [
        {
          "output_type": "stream",
          "name": "stderr",
          "text": [
            "/usr/local/lib/python3.7/dist-packages/seaborn/_decorators.py:43: FutureWarning: Pass the following variable as a keyword arg: x. From version 0.12, the only valid positional argument will be `data`, and passing other arguments without an explicit keyword will result in an error or misinterpretation.\n",
            "  FutureWarning\n"
          ]
        },
        {
          "output_type": "execute_result",
          "data": {
            "text/plain": [
              "<matplotlib.axes._subplots.AxesSubplot at 0x7f54b042a450>"
            ]
          },
          "metadata": {},
          "execution_count": 38
        },
        {
          "output_type": "display_data",
          "data": {
            "text/plain": [
              "<Figure size 576x576 with 1 Axes>"
            ],
            "image/png": "[encoded data removed]"
          },
          "metadata": {}
        }
      ]
    },
    {
      "cell_type": "markdown",
      "source": [
        "##Multinomial Naive Bayes"
      ],
      "metadata": {
        "id": "q_RtA6keuEGF"
      }
    },
    {
      "cell_type": "code",
      "source": [
        "# Create token pattern\n",
        "import re\n",
        "\n",
        "re_tok = re.compile('[^a-zA-Z]')\n",
        "def tokenize(s): \n",
        "    return re_tok.sub(' ', s).split()"
      ],
      "metadata": {
        "id": "3q8nP_WWuRLa"
      },
      "execution_count": null,
      "outputs": []
    },
    {
      "cell_type": "code",
      "source": [
        "from sklearn.feature_extraction.text import CountVectorizer\n",
        "count_vect = CountVectorizer(tokenizer = tokenize)"
      ],
      "metadata": {
        "id": "R1Q2a5Tvfd0-"
      },
      "execution_count": null,
      "outputs": []
    },
    {
      "cell_type": "code",
      "source": [
        "# Transforms text in X to a bag of words representation\n",
        "tf_train = count_vect.fit_transform(X_train)\n",
        "tf_test = count_vect.transform(X_test)"
      ],
      "metadata": {
        "id": "0kNkfSepgyHQ"
      },
      "execution_count": null,
      "outputs": []
    },
    {
      "cell_type": "code",
      "source": [
        "# Get full vocabulary from X\n",
        "vocab = count_vect.get_feature_names()\n",
        "len(vocab)"
      ],
      "metadata": {
        "colab": {
          "base_uri": "https://localhost:8080/"
        },
        "id": "pTJVXcsbg9y8",
        "outputId": "8ffb14bb-9527-4760-a8ca-c02db3dc239d"
      },
      "execution_count": null,
      "outputs": [
        {
          "output_type": "stream",
          "name": "stderr",
          "text": [
            "/usr/local/lib/python3.7/dist-packages/sklearn/utils/deprecation.py:87: FutureWarning: Function get_feature_names is deprecated; get_feature_names is deprecated in 1.0 and will be removed in 1.2. Please use get_feature_names_out instead.\n",
            "  warnings.warn(msg, category=FutureWarning)\n"
          ]
        },
        {
          "output_type": "execute_result",
          "data": {
            "text/plain": [
              "97190"
            ]
          },
          "metadata": {},
          "execution_count": 42
        }
      ]
    },
    {
      "cell_type": "code",
      "source": [
        "# Run multinomial NB on text data set\n",
        "from sklearn.naive_bayes import MultinomialNB\n",
        "model = MultinomialNB().fit(tf_train, y_train)"
      ],
      "metadata": {
        "id": "5EN-hLRrhwyc"
      },
      "execution_count": null,
      "outputs": []
    },
    {
      "cell_type": "code",
      "source": [
        "probs = model.predict_proba(tf_test)[:,1]\n",
        "predictions = model.predict(tf_test)"
      ],
      "metadata": {
        "id": "rxnfO701iTju"
      },
      "execution_count": null,
      "outputs": []
    },
    {
      "cell_type": "code",
      "source": [
        "# Performance Metrics\n",
        "from sklearn.metrics import accuracy_score, precision_score, recall_score\n",
        "from sklearn.metrics import confusion_matrix\n",
        "\n",
        "accuracy = accuracy_score(y_test, predictions)\n",
        "precision = precision_score(y_test, predictions)\n",
        "recall = recall_score(y_test, predictions)\n",
        "specificity = recall_score(y_test, predictions, pos_label = 0)\n",
        "\n",
        "print(\"\\n\")\n",
        "print(f\"Accuracy.........: {accuracy * 100.0:.4f}\")\n",
        "print(f\"Precision........: {precision * 100:.4f}\")\n",
        "print(f\"Recall...........: {recall * 100:.4f}\")\n",
        "print(f\"FP Rate...........: {(1-specificity) * 100:.4f}\")\n",
        "print(\"\\n\")\n",
        "\n",
        "cm = confusion_matrix(y_test, predictions)\n",
        "sns.heatmap(cm, annot = True, fmt = 'd', cbar = False, cmap = \"YlGnBu\");"
      ],
      "metadata": {
        "colab": {
          "base_uri": "https://localhost:8080/",
          "height": 628
        },
        "id": "S5hjPkG1jqc-",
        "outputId": "99194a92-ad26-431b-8a13-07edb0a05952"
      },
      "execution_count": null,
      "outputs": [
        {
          "output_type": "stream",
          "name": "stdout",
          "text": [
            "\n",
            "\n",
            "Accuracy.........: 95.3165\n",
            "Precision........: 95.6460\n",
            "Recall...........: 95.7820\n",
            "FP Rate...........: 5.2432\n",
            "\n",
            "\n"
          ]
        },
        {
          "output_type": "display_data",
          "data": {
            "text/plain": [
              "<Figure size 576x576 with 1 Axes>"
            ],
            "image/png": "[encoded data removed]"
          },
          "metadata": {}
        }
      ]
    },
    {
      "cell_type": "code",
      "source": [
        "# Running CYBER COP data through the model\n",
        "cyber_test = count_vect.transform(cyber_X)\n",
        "new_pred1 = model.predict(cyber_test)\n",
        "\n",
        "accuracy = accuracy_score(cyber_Y, new_pred1)\n",
        "precision = precision_score(cyber_Y, new_pred1)\n",
        "recall = recall_score(cyber_Y, new_pred1)\n",
        "specificity = recall_score(cyber_Y, new_pred1, pos_label = 0)\n",
        "\n",
        "print(\"\\n\")\n",
        "print(f\"Accuracy.........: {accuracy * 100.0:.4f}\")\n",
        "print(f\"Precision........: {precision * 100:.4f}\")\n",
        "print(f\"Recall...........: {recall * 100:.4f}\")\n",
        "print(f\"FP Rate...........: {(1-specificity) * 100:.4f}\")\n",
        "print(\"\\n\")\n",
        "\n",
        "cm = confusion_matrix(cyber_Y, new_pred1)\n",
        "sns.heatmap(cm, annot = True, fmt = 'd', cbar = False, cmap = \"YlGnBu\");"
      ],
      "metadata": {
        "colab": {
          "base_uri": "https://localhost:8080/",
          "height": 628
        },
        "id": "EG2sax8E3twN",
        "outputId": "3ceb0e19-ea16-4fb2-942b-26c58714d186"
      },
      "execution_count": null,
      "outputs": [
        {
          "output_type": "stream",
          "name": "stdout",
          "text": [
            "\n",
            "\n",
            "Accuracy.........: 56.6667\n",
            "Precision........: 61.4079\n",
            "Recall...........: 32.6865\n",
            "FP Rate...........: 19.9935\n",
            "\n",
            "\n"
          ]
        },
        {
          "output_type": "display_data",
          "data": {
            "text/plain": [
              "<Figure size 576x576 with 1 Axes>"
            ],
            "image/png": "[encoded data removed]"
          },
          "metadata": {}
        }
      ]
    },
    {
      "cell_type": "markdown",
      "source": [
        "Cyber Cop was a perfectly balanced data set, and yet the model did horribly using this data it had never seen before. There were no null values, and overall it had a usability rating of 2.35. We may attribute this to the low usability, but clearly this model isn't as flexible as it should be just from this one real world test."
      ],
      "metadata": {
        "id": "TabdBpZQDKPJ"
      }
    },
    {
      "cell_type": "code",
      "source": [
        "# Running RUCHI BHATIA data through the model\n",
        "ruchi_test = count_vect.transform(ruchi_X)\n",
        "new_pred2 = model.predict(ruchi_test)\n",
        "\n",
        "accuracy = accuracy_score(ruchi_Y, new_pred2)\n",
        "precision = precision_score(ruchi_Y, new_pred2)\n",
        "recall = recall_score(ruchi_Y, new_pred2)\n",
        "specificity = recall_score(ruchi_Y, new_pred2, pos_label = 0)\n",
        "\n",
        "print(\"\\n\")\n",
        "print(f\"Accuracy.........: {accuracy * 100.0:.4f}\")\n",
        "print(f\"Precision........: {precision * 100:.4f}\")\n",
        "print(f\"Recall...........: {recall * 100:.4f}\")\n",
        "print(f\"FP Rate...........: {(1-specificity) * 100:.4f}\")\n",
        "print(\"\\n\")\n",
        "\n",
        "cm = confusion_matrix(ruchi_Y, new_pred2)\n",
        "sns.heatmap(cm, annot = True, fmt = 'd', cbar = False, cmap = \"YlGnBu\");"
      ],
      "metadata": {
        "colab": {
          "base_uri": "https://localhost:8080/",
          "height": 628
        },
        "id": "X8iit1w0nxFY",
        "outputId": "c90665d4-fa14-48fd-d536-46fdbc340e9f"
      },
      "execution_count": null,
      "outputs": [
        {
          "output_type": "stream",
          "name": "stdout",
          "text": [
            "\n",
            "\n",
            "Accuracy.........: 59.8377\n",
            "Precision........: 44.9735\n",
            "Recall...........: 22.5464\n",
            "FP Rate...........: 17.0772\n",
            "\n",
            "\n"
          ]
        },
        {
          "output_type": "display_data",
          "data": {
            "text/plain": [
              "<Figure size 576x576 with 1 Axes>"
            ],
            "image/png": "[encoded data removed]"
          },
          "metadata": {}
        }
      ]
    },
    {
      "cell_type": "markdown",
      "source": [
        "##SVM"
      ],
      "metadata": {
        "id": "08vm--BguOLi"
      }
    },
    {
      "cell_type": "code",
      "source": [
        "from sklearn.pipeline import Pipeline\n",
        "from sklearn.feature_extraction.text import TfidfVectorizer\n",
        "from sklearn.svm import LinearSVC\n",
        "\n",
        "text_clf = Pipeline([('tfidf', TfidfVectorizer(tokenizer=tokenize)),\n",
        "                     ('clf', LinearSVC()),])\n",
        "\n",
        "# Feed the training data through the pipeline\n",
        "text_clf.fit(X_train, y_train) "
      ],
      "metadata": {
        "colab": {
          "base_uri": "https://localhost:8080/"
        },
        "id": "Ec-mGglVuOu0",
        "outputId": "6ba0ee5a-dadb-4782-c814-1f25aba264d2"
      },
      "execution_count": null,
      "outputs": [
        {
          "output_type": "execute_result",
          "data": {
            "text/plain": [
              "Pipeline(steps=[('tfidf',\n",
              "                 TfidfVectorizer(tokenizer=<function tokenize at 0x7f54b034a560>)),\n",
              "                ('clf', LinearSVC())])"
            ]
          },
          "metadata": {},
          "execution_count": 48
        }
      ]
    },
    {
      "cell_type": "code",
      "source": [
        "# Form a prediction set\n",
        "predictions = text_clf.predict(X_test)"
      ],
      "metadata": {
        "id": "jKc_K-V9lsi1"
      },
      "execution_count": null,
      "outputs": []
    },
    {
      "cell_type": "code",
      "source": [
        "# Performance metrics\n",
        "accuracy = accuracy_score(y_test, predictions)\n",
        "precision = precision_score(y_test, predictions)\n",
        "recall = recall_score(y_test, predictions)\n",
        "specificity = recall_score(y_test, predictions, pos_label = 0)\n",
        "\n",
        "print(\"\\n\")\n",
        "print(f\"Accuracy.........: {accuracy * 100.0:.4f}\")\n",
        "print(f\"Precision........: {precision * 100:.4f}\")\n",
        "print(f\"Recall...........: {recall * 100:.4f}\")\n",
        "print(f\"FP Rate...........: {(1-specificity) * 100:.4f}\")\n",
        "print(\"\\n\")\n",
        "\n",
        "# Report the confusion matrix\n",
        "cm = confusion_matrix(y_test, predictions)\n",
        "sns.heatmap(cm, annot = True, fmt = 'd', cbar = False, cmap = \"YlGnBu\");"
      ],
      "metadata": {
        "colab": {
          "base_uri": "https://localhost:8080/",
          "height": 628
        },
        "id": "fJs0mvGdmEk5",
        "outputId": "e7275912-47dc-4d08-b8cd-51c3ed54af16"
      },
      "execution_count": null,
      "outputs": [
        {
          "output_type": "stream",
          "name": "stdout",
          "text": [
            "\n",
            "\n",
            "Accuracy.........: 99.3617\n",
            "Precision........: 99.2443\n",
            "Recall...........: 99.5893\n",
            "FP Rate...........: 0.9119\n",
            "\n",
            "\n"
          ]
        },
        {
          "output_type": "display_data",
          "data": {
            "text/plain": [
              "<Figure size 576x576 with 1 Axes>"
            ],
            "image/png": "[encoded data removed]"
          },
          "metadata": {}
        }
      ]
    },
    {
      "cell_type": "code",
      "source": [
        "# Running on the CYBER COP data\n",
        "cyber_pred = text_clf.predict(cyber_X)\n",
        "\n",
        "# Performance metrics\n",
        "accuracy = accuracy_score(cyber_Y, cyber_pred)\n",
        "precision = precision_score(cyber_Y, cyber_pred)\n",
        "recall = recall_score(cyber_Y, cyber_pred)\n",
        "specificity = recall_score(cyber_Y, cyber_pred, pos_label = 0)\n",
        "\n",
        "print(\"\\n\")\n",
        "print(f\"Accuracy.........: {accuracy * 100.0:.4f}\")\n",
        "print(f\"Precision........: {precision * 100:.4f}\")\n",
        "print(f\"Recall...........: {recall * 100:.4f}\")\n",
        "print(f\"FP Rate...........: {(1-specificity) * 100:.4f}\")\n",
        "print(\"\\n\")\n",
        "\n",
        "#Report the confusion matrix\n",
        "cm = confusion_matrix(cyber_Y, cyber_pred)\n",
        "sns.heatmap(cm, annot = True, fmt = 'd', cbar = False, cmap = \"YlGnBu\");"
      ],
      "metadata": {
        "colab": {
          "base_uri": "https://localhost:8080/",
          "height": 628
        },
        "id": "zlB5hdYLDtgN",
        "outputId": "1a18ea96-9f22-4e6e-9c53-ec4e5971882c"
      },
      "execution_count": null,
      "outputs": [
        {
          "output_type": "stream",
          "name": "stdout",
          "text": [
            "\n",
            "\n",
            "Accuracy.........: 59.3234\n",
            "Precision........: 77.3486\n",
            "Recall...........: 24.7909\n",
            "FP Rate...........: 7.0661\n",
            "\n",
            "\n"
          ]
        },
        {
          "output_type": "display_data",
          "data": {
            "text/plain": [
              "<Figure size 576x576 with 1 Axes>"
            ],
            "image/png": "[encoded data removed]"
          },
          "metadata": {}
        }
      ]
    },
    {
      "cell_type": "code",
      "source": [
        "# Running on the RUCHI BHATIA data\n",
        "ruchi_pred = text_clf.predict(ruchi_X)\n",
        "\n",
        "# Performance metrics\n",
        "accuracy = accuracy_score(ruchi_Y, ruchi_pred)\n",
        "precision = precision_score(ruchi_Y, ruchi_pred)\n",
        "recall = recall_score(ruchi_Y, ruchi_pred)\n",
        "specificity = recall_score(ruchi_Y, ruchi_pred, pos_label = 0)\n",
        "\n",
        "print(\"\\n\")\n",
        "print(f\"Accuracy.........: {accuracy * 100.0:.4f}\")\n",
        "print(f\"Precision........: {precision * 100:.4f}\")\n",
        "print(f\"Recall...........: {recall * 100:.4f}\")\n",
        "print(f\"FP Rate...........: {(1-specificity) * 100:.4f}\")\n",
        "print(\"\\n\")\n",
        "\n",
        "# Report the confusion matrix\n",
        "cm = confusion_matrix(ruchi_Y, ruchi_pred)\n",
        "sns.heatmap(cm, annot = True, fmt = 'd', cbar = False, cmap = \"YlGnBu\");"
      ],
      "metadata": {
        "colab": {
          "base_uri": "https://localhost:8080/",
          "height": 628
        },
        "id": "XM9RIMqEoujB",
        "outputId": "19915c5a-2cad-4214-a081-c968877d76fd"
      },
      "execution_count": null,
      "outputs": [
        {
          "output_type": "stream",
          "name": "stdout",
          "text": [
            "\n",
            "\n",
            "Accuracy.........: 62.0183\n",
            "Precision........: 51.7241\n",
            "Recall...........: 9.9469\n",
            "FP Rate...........: 5.7471\n",
            "\n",
            "\n"
          ]
        },
        {
          "output_type": "display_data",
          "data": {
            "text/plain": [
              "<Figure size 576x576 with 1 Axes>"
            ],
            "image/png": "[encoded data removed]"
          },
          "metadata": {}
        }
      ]
    },
    {
      "cell_type": "markdown",
      "source": [
        "Cyber Cop was a perfectly balanced data set, and yet the model did horribly using this data it had never seen before. There were no null values, and overall it had a usability rating of 2.35. We may attribute this to the low usability, but clearly this model isn't as flexible as it should be just from this one real world test.\n",
        "\n",
        "Once again, this model despite doing very well originally cannot handle this data set, though it performs slightly better than our last model."
      ],
      "metadata": {
        "id": "7ZbU5PvEEShl"
      }
    },
    {
      "cell_type": "markdown",
      "source": [
        "###SVM with Tuned Margin"
      ],
      "metadata": {
        "id": "WcbkJVlnCw2b"
      }
    },
    {
      "cell_type": "code",
      "source": [
        "# Hand-designed parameter tuning for margin only\n",
        "from scipy.stats.stats import ModeResult\n",
        "from sklearn.model_selection import GridSearchCV\n",
        "\n",
        "# C parameter softening the margin\n",
        "margins = [1, 5, 10, 15, 20]\n",
        "\n",
        "# Storing all the best predcition, accuracy, and model found below\n",
        "best_pred = 0\n",
        "best_acc = 0\n",
        "best_model = 0\n",
        "\n",
        "for i in margins:\n",
        "  text_clf = Pipeline([('tfidf', TfidfVectorizer(tokenizer=tokenize)),\n",
        "                     ('clf', LinearSVC(C = i)),])\n",
        "  model = text_clf.fit(X_train, y_train)\n",
        "  pred = text_clf.predict(X_test)\n",
        "\n",
        "  this_acc = accuracy_score(y_test, pred)\n",
        "  print('C = ', i)\n",
        "  print(this_acc)\n",
        "\n",
        "  if this_acc > best_acc:\n",
        "    best_acc = this_acc\n",
        "    best_pred = pred\n",
        "    best_model = model"
      ],
      "metadata": {
        "colab": {
          "base_uri": "https://localhost:8080/"
        },
        "id": "vWQRkT33C3Ny",
        "outputId": "49d67ddb-f52a-4741-a0ea-820e1cb930ee"
      },
      "execution_count": null,
      "outputs": [
        {
          "output_type": "stream",
          "name": "stdout",
          "text": [
            "C =  1\n",
            "0.9936173883042954\n",
            "C =  5\n",
            "0.9942211488701053\n",
            "C =  10\n",
            "0.9941348973607038\n",
            "C =  15\n",
            "0.9941348973607038\n",
            "C =  20\n",
            "0.9940486458513024\n"
          ]
        }
      ]
    },
    {
      "cell_type": "code",
      "source": [
        "# Printing out the model with the best configuration that produces the best accuracy\n",
        "print(best_model)\n",
        "print(best_acc)"
      ],
      "metadata": {
        "colab": {
          "base_uri": "https://localhost:8080/"
        },
        "id": "0ZvyTq_QC-W2",
        "outputId": "864988c3-912c-4a4d-8e9e-301a93c5211c"
      },
      "execution_count": null,
      "outputs": [
        {
          "output_type": "stream",
          "name": "stdout",
          "text": [
            "Pipeline(steps=[('tfidf',\n",
            "                 TfidfVectorizer(tokenizer=<function tokenize at 0x7f54b034a560>)),\n",
            "                ('clf', LinearSVC(C=5))])\n",
            "0.9942211488701053\n"
          ]
        }
      ]
    },
    {
      "cell_type": "code",
      "source": [
        "# Performance metrics\n",
        "accuracy = accuracy_score(y_test, best_pred)\n",
        "precision = precision_score(y_test, best_pred)\n",
        "recall = recall_score(y_test, best_pred)\n",
        "specificity = recall_score(y_test, best_pred, pos_label = 0)\n",
        "\n",
        "print(\"\\n\")\n",
        "print(f\"Accuracy.........: {accuracy * 100.0:.4f}\")\n",
        "print(f\"Precision........: {precision * 100:.4f}\")\n",
        "print(f\"Recall...........: {recall * 100:.4f}\")\n",
        "print(f\"FP Rate...........: {(1-specificity) * 100:.4f}\")\n",
        "print(\"\\n\")\n",
        "\n",
        "#Report the confusion matrix\n",
        "cm = confusion_matrix(y_test, best_pred)\n",
        "sns.heatmap(cm, annot = True, fmt = 'd', cbar = False, cmap = \"YlGnBu\");"
      ],
      "metadata": {
        "colab": {
          "base_uri": "https://localhost:8080/",
          "height": 628
        },
        "id": "MnUBjR_vFuRR",
        "outputId": "79885ae5-96bb-4ffe-84b9-d5242b91deae"
      },
      "execution_count": null,
      "outputs": [
        {
          "output_type": "stream",
          "name": "stdout",
          "text": [
            "\n",
            "\n",
            "Accuracy.........: 99.4221\n",
            "Precision........: 99.2762\n",
            "Recall...........: 99.6682\n",
            "FP Rate...........: 0.8739\n",
            "\n",
            "\n"
          ]
        },
        {
          "output_type": "display_data",
          "data": {
            "text/plain": [
              "<Figure size 576x576 with 1 Axes>"
            ],
            "image/png": "[encoded data removed]"
          },
          "metadata": {}
        }
      ]
    },
    {
      "cell_type": "code",
      "source": [
        "# Running on the CYBER COP data\n",
        "cyber_pred = best_model.predict(cyber_X)\n",
        "\n",
        "# Performance metrics\n",
        "accuracy = accuracy_score(cyber_Y, cyber_pred)\n",
        "precision = precision_score(cyber_Y, cyber_pred)\n",
        "recall = recall_score(cyber_Y, cyber_pred)\n",
        "specificity = recall_score(cyber_Y, cyber_pred, pos_label = 0)\n",
        "\n",
        "print(\"\\n\")\n",
        "print(f\"Accuracy.........: {accuracy * 100.0:.4f}\")\n",
        "print(f\"Precision........: {precision * 100:.4f}\")\n",
        "print(f\"Recall...........: {recall * 100:.4f}\")\n",
        "print(f\"FP Rate...........: {(1-specificity) * 100:.4f}\")\n",
        "print(\"\\n\")\n",
        "\n",
        "# Report the confusion matrix\n",
        "cm = confusion_matrix(cyber_Y, cyber_pred)\n",
        "sns.heatmap(cm, annot = True, fmt = 'd', cbar = False, cmap = \"YlGnBu\");"
      ],
      "metadata": {
        "colab": {
          "base_uri": "https://localhost:8080/",
          "height": 628
        },
        "id": "MDwiYzEERwPT",
        "outputId": "fd730549-762e-4dec-d416-200fdec2c6aa"
      },
      "execution_count": null,
      "outputs": [
        {
          "output_type": "stream",
          "name": "stdout",
          "text": [
            "\n",
            "\n",
            "Accuracy.........: 58.9769\n",
            "Precision........: 76.9561\n",
            "Recall...........: 24.0214\n",
            "FP Rate...........: 7.0010\n",
            "\n",
            "\n"
          ]
        },
        {
          "output_type": "display_data",
          "data": {
            "text/plain": [
              "<Figure size 576x576 with 1 Axes>"
            ],
            "image/png": "[encoded data removed]"
          },
          "metadata": {}
        }
      ]
    },
    {
      "cell_type": "code",
      "source": [
        "# Running on the RUCHI BHATIA data\n",
        "ruchi_pred = best_model.predict(ruchi_X)\n",
        "\n",
        "# Performance metrics\n",
        "accuracy = accuracy_score(ruchi_Y, ruchi_pred)\n",
        "precision = precision_score(ruchi_Y, ruchi_pred)\n",
        "recall = recall_score(ruchi_Y, ruchi_pred)\n",
        "specificity = recall_score(ruchi_Y, ruchi_pred, pos_label = 0)\n",
        "\n",
        "print(\"\\n\")\n",
        "print(f\"Accuracy.........: {accuracy * 100.0:.4f}\")\n",
        "print(f\"Precision........: {precision * 100:.4f}\")\n",
        "print(f\"Recall...........: {recall * 100:.4f}\")\n",
        "print(f\"FP Rate...........: {(1-specificity) * 100:.4f}\")\n",
        "print(\"\\n\")\n",
        "\n",
        "# Report the confusion matrix\n",
        "cm = confusion_matrix(ruchi_Y, ruchi_pred)\n",
        "sns.heatmap(cm, annot = True, fmt = 'd', cbar = False, cmap = \"YlGnBu\");"
      ],
      "metadata": {
        "colab": {
          "base_uri": "https://localhost:8080/",
          "height": 628
        },
        "id": "ZnqSwIbQSBxK",
        "outputId": "638edd53-12e7-49d7-e7de-5877784f20b4"
      },
      "execution_count": null,
      "outputs": [
        {
          "output_type": "stream",
          "name": "stdout",
          "text": [
            "\n",
            "\n",
            "Accuracy.........: 61.6633\n",
            "Precision........: 49.2958\n",
            "Recall...........: 9.2838\n",
            "FP Rate...........: 5.9113\n",
            "\n",
            "\n"
          ]
        },
        {
          "output_type": "display_data",
          "data": {
            "text/plain": [
              "<Figure size 576x576 with 1 Axes>"
            ],
            "image/png": "[encoded data removed]"
          },
          "metadata": {}
        }
      ]
    },
    {
      "cell_type": "markdown",
      "source": [
        "This unfortunately did slightly worse, even though we tuned it"
      ],
      "metadata": {
        "id": "7PnEo6mhSYny"
      }
    },
    {
      "cell_type": "markdown",
      "source": [
        "##Decision Tree"
      ],
      "metadata": {
        "id": "VtcUncFT2Vze"
      }
    },
    {
      "cell_type": "code",
      "source": [
        "from sklearn.tree import DecisionTreeClassifier\n",
        "from sklearn.pipeline import Pipeline\n",
        "from sklearn.feature_extraction.text import TfidfTransformer\n",
        "from sklearn.feature_extraction.text import CountVectorizer\n",
        "\n",
        "# Vectorizing and applying TF-IDF\n",
        "pipe = Pipeline([('vect', CountVectorizer()),\n",
        "                 ('tfidf', TfidfTransformer()),\n",
        "                 ('model', DecisionTreeClassifier(criterion= 'entropy',\n",
        "                                           max_depth = 20, \n",
        "                                           splitter='best', \n",
        "                                           random_state=42))])\n",
        "# Fitting the model\n",
        "model = pipe.fit(X_train, y_train)\n",
        "\n",
        "# Getting the predcitions\n",
        "predictions = model.predict(X_test)"
      ],
      "metadata": {
        "id": "2ak_QqXX2bk3"
      },
      "execution_count": null,
      "outputs": []
    },
    {
      "cell_type": "code",
      "source": [
        "from sklearn.metrics import accuracy_score, precision_score, recall_score\n",
        "from sklearn.metrics import confusion_matrix\n",
        "\n",
        "# Performance metrics\n",
        "accuracy = accuracy_score(y_test, predictions)\n",
        "precision = precision_score(y_test, predictions)\n",
        "recall = recall_score(y_test, predictions)\n",
        "specificity = recall_score(y_test, predictions, pos_label = 0)\n",
        "\n",
        "print(\"\\n\")\n",
        "print(f\"Accuracy.........: {accuracy * 100.0:.4f}\")\n",
        "print(f\"Precision........: {precision * 100:.4f}\")\n",
        "print(f\"Recall...........: {recall * 100:.4f}\")\n",
        "print(f\"FP Rate...........: {(1-specificity) * 100:.4f}\")\n",
        "print(\"\\n\")\n",
        "\n",
        "# Report the confusion matrix\n",
        "cm = confusion_matrix(y_test, predictions)\n",
        "sns.heatmap(cm, annot = True, fmt = 'd', cbar = False, cmap = \"YlGnBu\");"
      ],
      "metadata": {
        "colab": {
          "base_uri": "https://localhost:8080/",
          "height": 628
        },
        "id": "MV6Tx29E3tDa",
        "outputId": "b32ea532-ac89-4ede-cd77-d3da3d2ce025"
      },
      "execution_count": null,
      "outputs": [
        {
          "output_type": "stream",
          "name": "stdout",
          "text": [
            "\n",
            "\n",
            "Accuracy.........: 99.4652\n",
            "Precision........: 99.4946\n",
            "Recall...........: 99.5261\n",
            "FP Rate...........: 0.6079\n",
            "\n",
            "\n"
          ]
        },
        {
          "output_type": "display_data",
          "data": {
            "text/plain": [
              "<Figure size 576x576 with 1 Axes>"
            ],
            "image/png": "[encoded data removed]"
          },
          "metadata": {}
        }
      ]
    },
    {
      "cell_type": "code",
      "source": [
        "# Running on the CYBER COP data\n",
        "cyber_pred = model.predict(cyber_X)\n",
        "\n",
        "# Performance metrics\n",
        "accuracy = accuracy_score(cyber_Y, cyber_pred)\n",
        "precision = precision_score(cyber_Y, cyber_pred)\n",
        "recall = recall_score(cyber_Y, cyber_pred)\n",
        "specificity = recall_score(cyber_Y, cyber_pred, pos_label = 0)\n",
        "\n",
        "print(\"\\n\")\n",
        "print(f\"Accuracy.........: {accuracy * 100.0:.4f}\")\n",
        "print(f\"Precision........: {precision * 100:.4f}\")\n",
        "print(f\"Recall...........: {recall * 100:.4f}\")\n",
        "print(f\"FP Rate...........: {(1-specificity) * 100:.4f}\")\n",
        "print(\"\\n\")\n",
        "\n",
        "# Report the confusion matrix\n",
        "cm = confusion_matrix(cyber_Y, cyber_pred)\n",
        "sns.heatmap(cm, annot = True, fmt = 'd', cbar = False, cmap = \"YlGnBu\");"
      ],
      "metadata": {
        "colab": {
          "base_uri": "https://localhost:8080/",
          "height": 628
        },
        "id": "tXeDrcPJWp-d",
        "outputId": "147abacc-412a-4863-ab3b-a810c6b1b6b8"
      },
      "execution_count": null,
      "outputs": [
        {
          "output_type": "stream",
          "name": "stdout",
          "text": [
            "\n",
            "\n",
            "Accuracy.........: 51.1551\n",
            "Precision........: 58.1921\n",
            "Recall...........: 3.4460\n",
            "FP Rate...........: 2.4096\n",
            "\n",
            "\n"
          ]
        },
        {
          "output_type": "display_data",
          "data": {
            "text/plain": [
              "<Figure size 576x576 with 1 Axes>"
            ],
            "image/png": "[encoded data removed]"
          },
          "metadata": {}
        }
      ]
    },
    {
      "cell_type": "markdown",
      "source": [
        "Performs the worst, classifies almost everything as false. The data set I think is too quirky for this, but also the models don't seem to work"
      ],
      "metadata": {
        "id": "ppOZpT4vZiJR"
      }
    },
    {
      "cell_type": "code",
      "source": [
        "# Running on the RUCHI BHATAI data\n",
        "ruchi_pred = model.predict(ruchi_X)\n",
        "\n",
        "# Performance metrics\n",
        "accuracy = accuracy_score(ruchi_Y, ruchi_pred)\n",
        "precision = precision_score(ruchi_Y, ruchi_pred)\n",
        "recall = recall_score(ruchi_Y, ruchi_pred)\n",
        "specificity = recall_score(ruchi_Y, ruchi_pred, pos_label = 0)\n",
        "\n",
        "print(\"\\n\")\n",
        "print(f\"Accuracy.........: {accuracy * 100.0:.4f}\")\n",
        "print(f\"Precision........: {precision * 100:.4f}\")\n",
        "print(f\"Recall...........: {recall * 100:.4f}\")\n",
        "print(f\"FP Rate...........: {(1-specificity) * 100:.4f}\")\n",
        "print(\"\\n\")\n",
        "\n",
        "# Report the confusion matrix\n",
        "cm = confusion_matrix(ruchi_Y, ruchi_pred)\n",
        "sns.heatmap(cm, annot = True, fmt = 'd', cbar = False, cmap = \"YlGnBu\");"
      ],
      "metadata": {
        "colab": {
          "base_uri": "https://localhost:8080/",
          "height": 628
        },
        "id": "iWtx34LnsXAF",
        "outputId": "cd66069d-17c8-4585-b351-223744da71f3"
      },
      "execution_count": null,
      "outputs": [
        {
          "output_type": "stream",
          "name": "stdout",
          "text": [
            "\n",
            "\n",
            "Accuracy.........: 62.3225\n",
            "Precision........: 60.3774\n",
            "Recall...........: 4.2440\n",
            "FP Rate...........: 1.7241\n",
            "\n",
            "\n"
          ]
        },
        {
          "output_type": "display_data",
          "data": {
            "text/plain": [
              "<Figure size 576x576 with 1 Axes>"
            ],
            "image/png": "[encoded data removed]"
          },
          "metadata": {}
        }
      ]
    },
    {
      "cell_type": "markdown",
      "source": [
        "##LSTM"
      ],
      "metadata": {
        "id": "TmJSe_oG5jXl"
      }
    },
    {
      "cell_type": "code",
      "source": [
        "from keras.preprocessing import sequence\n",
        "from keras.preprocessing.text import Tokenizer\n",
        "\n",
        "# For necessary padding\n",
        "max_words = 1000\n",
        "max_len = 150\n",
        "\n",
        "#tokenizer = Tokenizer(num_words = max_words)\n",
        "tokenizer = Tokenizer(lower = True, split = ' ', num_words = max_words)\n",
        "tokenizer.fit_on_texts(X_train)\n",
        "\n",
        "X_train_sequences = tokenizer.texts_to_sequences(X_train)\n",
        "X_train_sequences_matrix = sequence.pad_sequences(X_train_sequences, maxlen = max_len)"
      ],
      "metadata": {
        "id": "ovknf-PZ5k23"
      },
      "execution_count": null,
      "outputs": []
    },
    {
      "cell_type": "code",
      "source": [
        "from keras.models import Model\n",
        "from keras.layers import LSTM, Activation, Dense, Dropout, Input, Embedding\n",
        "\n",
        "def RNN():\n",
        "    inputs = Input(name = 'inputs',shape = [max_len])\n",
        "    layer = Embedding(max_words, 50, input_length = max_len)(inputs)\n",
        "    layer = LSTM(64)(layer)\n",
        "    layer = Dense(256, name = 'FC1')(layer)\n",
        "    layer = Activation('relu')(layer)\n",
        "    layer = Dropout(0.5)(layer)\n",
        "    layer = Dense(1, name = 'out_layer')(layer)\n",
        "    layer = Activation('sigmoid')(layer)\n",
        "    model = Model(inputs = inputs, outputs = layer)\n",
        "    return model"
      ],
      "metadata": {
        "id": "GAko1Sah6JIE"
      },
      "execution_count": null,
      "outputs": []
    },
    {
      "cell_type": "code",
      "source": [
        "model = RNN()\n",
        "model.summary()\n",
        "model.compile(loss = 'binary_crossentropy', optimizer = 'adam', metrics = ['accuracy'])"
      ],
      "metadata": {
        "id": "_VCPV0bl6uf-",
        "colab": {
          "base_uri": "https://localhost:8080/"
        },
        "outputId": "cafbb208-dcb7-4bbb-84eb-a3d09b7ee364"
      },
      "execution_count": null,
      "outputs": [
        {
          "output_type": "stream",
          "name": "stdout",
          "text": [
            "Model: \"model\"\n",
            "_________________________________________________________________\n",
            " Layer (type)                Output Shape              Param #   \n",
            "=================================================================\n",
            " inputs (InputLayer)         [(None, 150)]             0         \n",
            "                                                                 \n",
            " embedding (Embedding)       (None, 150, 50)           50000     \n",
            "                                                                 \n",
            " lstm (LSTM)                 (None, 64)                29440     \n",
            "                                                                 \n",
            " FC1 (Dense)                 (None, 256)               16640     \n",
            "                                                                 \n",
            " activation (Activation)     (None, 256)               0         \n",
            "                                                                 \n",
            " dropout (Dropout)           (None, 256)               0         \n",
            "                                                                 \n",
            " out_layer (Dense)           (None, 1)                 257       \n",
            "                                                                 \n",
            " activation_1 (Activation)   (None, 1)                 0         \n",
            "                                                                 \n",
            "=================================================================\n",
            "Total params: 96,337\n",
            "Trainable params: 96,337\n",
            "Non-trainable params: 0\n",
            "_________________________________________________________________\n"
          ]
        }
      ]
    },
    {
      "cell_type": "code",
      "source": [
        "from keras.callbacks import EarlyStopping\n",
        "early_stop = EarlyStopping(monitor = 'val_loss', patience = 2)\n",
        "\n",
        "model.fit(X_train_sequences_matrix, y_train,\n",
        "          epochs = 10,\n",
        "          batch_size = 128,\n",
        "          validation_split = 0.2,\n",
        "          callbacks = [early_stop])"
      ],
      "metadata": {
        "id": "Kl4xIEZS64A8",
        "colab": {
          "base_uri": "https://localhost:8080/"
        },
        "outputId": "889af57e-42fc-4358-d283-52bbb60ebb14"
      },
      "execution_count": null,
      "outputs": [
        {
          "output_type": "stream",
          "name": "stdout",
          "text": [
            "Epoch 1/10\n",
            "170/170 [==============================] - 37s 199ms/step - loss: 0.1822 - accuracy: 0.9416 - val_loss: 0.0567 - val_accuracy: 0.9813\n",
            "Epoch 2/10\n",
            "170/170 [==============================] - 33s 195ms/step - loss: 0.0469 - accuracy: 0.9855 - val_loss: 0.0460 - val_accuracy: 0.9861\n",
            "Epoch 3/10\n",
            "170/170 [==============================] - 33s 195ms/step - loss: 0.0384 - accuracy: 0.9872 - val_loss: 0.0451 - val_accuracy: 0.9861\n",
            "Epoch 4/10\n",
            "170/170 [==============================] - 33s 194ms/step - loss: 0.0286 - accuracy: 0.9902 - val_loss: 0.0454 - val_accuracy: 0.9847\n",
            "Epoch 5/10\n",
            "170/170 [==============================] - 33s 196ms/step - loss: 0.0212 - accuracy: 0.9935 - val_loss: 0.0565 - val_accuracy: 0.9856\n"
          ]
        },
        {
          "output_type": "execute_result",
          "data": {
            "text/plain": [
              "<keras.callbacks.History at 0x7f543ff1b290>"
            ]
          },
          "metadata": {},
          "execution_count": 65
        }
      ]
    },
    {
      "cell_type": "code",
      "source": [
        "test_sequences = tokenizer.texts_to_sequences(X_test)\n",
        "test_sequences_matrix = sequence.pad_sequences(test_sequences, maxlen = max_len)"
      ],
      "metadata": {
        "id": "6AP7PBMs9WG1"
      },
      "execution_count": null,
      "outputs": []
    },
    {
      "cell_type": "code",
      "source": [
        "model.evaluate(test_sequences_matrix, y_test)"
      ],
      "metadata": {
        "id": "ScGpantc9gnY",
        "colab": {
          "base_uri": "https://localhost:8080/"
        },
        "outputId": "aa5a2b39-5243-4e08-9440-e4712436ed6f"
      },
      "execution_count": null,
      "outputs": [
        {
          "output_type": "stream",
          "name": "stdout",
          "text": [
            "363/363 [==============================] - 8s 22ms/step - loss: 0.0583 - accuracy: 0.9854\n"
          ]
        },
        {
          "output_type": "execute_result",
          "data": {
            "text/plain": [
              "[0.05832403153181076, 0.9854235053062439]"
            ]
          },
          "metadata": {},
          "execution_count": 67
        }
      ]
    },
    {
      "cell_type": "markdown",
      "source": [
        "###Cyber Cop Data"
      ],
      "metadata": {
        "id": "HFojeFjllGOZ"
      }
    },
    {
      "cell_type": "code",
      "source": [
        "cyber_sequences = tokenizer.texts_to_sequences(cyber_X)\n",
        "cyber_sequences_matrix = sequence.pad_sequences(cyber_sequences, maxlen = max_len)\n",
        "model.evaluate(cyber_sequences_matrix, cyber_Y)"
      ],
      "metadata": {
        "colab": {
          "base_uri": "https://localhost:8080/"
        },
        "id": "X5H0ACh_lDFY",
        "outputId": "5a9d42a8-0f4c-404a-94a7-4123410d7e72"
      },
      "execution_count": null,
      "outputs": [
        {
          "output_type": "stream",
          "name": "stdout",
          "text": [
            "190/190 [==============================] - 4s 23ms/step - loss: 2.4313 - accuracy: 0.5941\n"
          ]
        },
        {
          "output_type": "execute_result",
          "data": {
            "text/plain": [
              "[2.4313032627105713, 0.594059407711029]"
            ]
          },
          "metadata": {},
          "execution_count": 68
        }
      ]
    },
    {
      "cell_type": "markdown",
      "source": [
        "###Ruchi Data"
      ],
      "metadata": {
        "id": "u9rnUmNRs4mW"
      }
    },
    {
      "cell_type": "code",
      "source": [
        "ruchi_sequences = tokenizer.texts_to_sequences(ruchi_X)\n",
        "ruchi_sequences_matrix = sequence.pad_sequences(ruchi_sequences, maxlen = max_len)\n",
        "model.evaluate(ruchi_sequences_matrix, ruchi_Y)"
      ],
      "metadata": {
        "colab": {
          "base_uri": "https://localhost:8080/"
        },
        "id": "cqM1dkRLszSC",
        "outputId": "7b43bfe9-1dd5-4a7f-bd3a-418799f69824"
      },
      "execution_count": null,
      "outputs": [
        {
          "output_type": "stream",
          "name": "stdout",
          "text": [
            "62/62 [==============================] - 1s 23ms/step - loss: 2.6490 - accuracy: 0.5877\n"
          ]
        },
        {
          "output_type": "execute_result",
          "data": {
            "text/plain": [
              "[2.6489779949188232, 0.5877282023429871]"
            ]
          },
          "metadata": {},
          "execution_count": 69
        }
      ]
    },
    {
      "cell_type": "markdown",
      "source": [
        "##Logistic Regression"
      ],
      "metadata": {
        "id": "2ucdvkIrw5Ji"
      }
    },
    {
      "cell_type": "code",
      "source": [
        "# Create token pattern\n",
        "import re\n",
        "\n",
        "re_tok = re.compile('[^a-zA-Z]')\n",
        "def tokenize(s): \n",
        "    return re_tok.sub(' ', s).split()"
      ],
      "metadata": {
        "id": "osC2t2Rew7Xk"
      },
      "execution_count": null,
      "outputs": []
    },
    {
      "cell_type": "code",
      "source": [
        "from sklearn.feature_extraction.text import CountVectorizer\n",
        "count_vect = CountVectorizer(tokenizer = tokenize)"
      ],
      "metadata": {
        "id": "sjPSTXodxg2D"
      },
      "execution_count": null,
      "outputs": []
    },
    {
      "cell_type": "code",
      "source": [
        "# Transforms text in X to a bag of words representation\n",
        "tf_train = count_vect.fit_transform(X_train)\n",
        "tf_test = count_vect.transform(X_test)"
      ],
      "metadata": {
        "id": "Y0UsrHvVxjVp"
      },
      "execution_count": null,
      "outputs": []
    },
    {
      "cell_type": "code",
      "source": [
        "# Get full vocabulary from X\n",
        "vocab = count_vect.get_feature_names()\n",
        "len(vocab)"
      ],
      "metadata": {
        "id": "JvOADuKFxkss",
        "colab": {
          "base_uri": "https://localhost:8080/"
        },
        "outputId": "b3418901-2845-44d9-ee83-7758127a3dea"
      },
      "execution_count": null,
      "outputs": [
        {
          "output_type": "stream",
          "name": "stderr",
          "text": [
            "/usr/local/lib/python3.7/dist-packages/sklearn/utils/deprecation.py:87: FutureWarning: Function get_feature_names is deprecated; get_feature_names is deprecated in 1.0 and will be removed in 1.2. Please use get_feature_names_out instead.\n",
            "  warnings.warn(msg, category=FutureWarning)\n"
          ]
        },
        {
          "output_type": "execute_result",
          "data": {
            "text/plain": [
              "97190"
            ]
          },
          "metadata": {},
          "execution_count": 73
        }
      ]
    },
    {
      "cell_type": "code",
      "source": [
        "from sklearn.linear_model import LogisticRegression\n",
        "model = LogisticRegression(random_state = 0, solver = 'liblinear', multi_class = 'ovr').fit(tf_train, y_train)"
      ],
      "metadata": {
        "id": "q_6sE2vnxmde"
      },
      "execution_count": null,
      "outputs": []
    },
    {
      "cell_type": "code",
      "source": [
        "# Get probabilities for positive class and general predcitions\n",
        "probs = model.predict_proba(tf_test)[:,1]\n",
        "predictions = model.predict(tf_test)"
      ],
      "metadata": {
        "id": "oRlP6AqqxpfH"
      },
      "execution_count": null,
      "outputs": []
    },
    {
      "cell_type": "code",
      "source": [
        "from sklearn.metrics import accuracy_score, precision_score, recall_score\n",
        "from sklearn.metrics import confusion_matrix\n",
        "\n",
        "# Performance metrics\n",
        "accuracy = accuracy_score(y_test, predictions)\n",
        "precision = precision_score(y_test, predictions)\n",
        "recall = recall_score(y_test, predictions)\n",
        "specificity = recall_score(y_test, predictions, pos_label = 0)\n",
        "\n",
        "print(\"\\n\")\n",
        "print(f\"Accuracy.........: {accuracy * 100.0:.4f}\")\n",
        "print(f\"Precision........: {precision * 100:.4f}\")\n",
        "print(f\"Recall...........: {recall * 100:.4f}\")\n",
        "print(f\"FP Rate...........: {(1-specificity) * 100:.4f}\")\n",
        "print(\"\\n\")\n",
        "\n",
        "# Report the confusion matrix\n",
        "cm = confusion_matrix(y_test, predictions)\n",
        "sns.heatmap(cm, annot = True, fmt = 'd', cbar = False, cmap = \"YlGnBu\");"
      ],
      "metadata": {
        "id": "rBWWSecLxr9K",
        "colab": {
          "base_uri": "https://localhost:8080/",
          "height": 628
        },
        "outputId": "6298b58b-1392-40bd-e05f-644af8ea9034"
      },
      "execution_count": null,
      "outputs": [
        {
          "output_type": "stream",
          "name": "stdout",
          "text": [
            "\n",
            "\n",
            "Accuracy.........: 99.5084\n",
            "Precision........: 99.3548\n",
            "Recall...........: 99.7472\n",
            "FP Rate...........: 0.7789\n",
            "\n",
            "\n"
          ]
        },
        {
          "output_type": "display_data",
          "data": {
            "text/plain": [
              "<Figure size 576x576 with 1 Axes>"
            ],
            "image/png": "[encoded data removed]"
          },
          "metadata": {}
        }
      ]
    },
    {
      "cell_type": "code",
      "source": [
        "cyber_test = count_vect.transform(cyber_X)\n",
        "new_pred1 = model.predict(cyber_test)\n",
        "\n",
        "# Performance metrics\n",
        "accuracy = accuracy_score(cyber_Y, new_pred1)\n",
        "precision = precision_score(cyber_Y, new_pred1)\n",
        "recall = recall_score(cyber_Y, new_pred1)\n",
        "specificity = recall_score(cyber_Y, new_pred1, pos_label = 0)\n",
        "\n",
        "print(\"\\n\")\n",
        "print(f\"Accuracy.........: {accuracy * 100.0:.4f}\")\n",
        "print(f\"Precision........: {precision * 100:.4f}\")\n",
        "print(f\"Recall...........: {recall * 100:.4f}\")\n",
        "print(f\"FP Rate...........: {(1-specificity) * 100:.4f}\")\n",
        "print(\"\\n\")\n",
        "\n",
        "# Report the confusion matrix\n",
        "cm = confusion_matrix(cyber_Y, new_pred1)\n",
        "sns.heatmap(cm, annot = True, fmt = 'd', cbar = False, cmap = \"YlGnBu\");"
      ],
      "metadata": {
        "id": "EXfEJCOLyRAj",
        "colab": {
          "base_uri": "https://localhost:8080/",
          "height": 628
        },
        "outputId": "61d1bf76-c947-47a7-9917-96b778ad87c6"
      },
      "execution_count": null,
      "outputs": [
        {
          "output_type": "stream",
          "name": "stdout",
          "text": [
            "\n",
            "\n",
            "Accuracy.........: 56.4521\n",
            "Precision........: 77.6899\n",
            "Recall...........: 16.4269\n",
            "FP Rate...........: 4.5913\n",
            "\n",
            "\n"
          ]
        },
        {
          "output_type": "display_data",
          "data": {
            "text/plain": [
              "<Figure size 576x576 with 1 Axes>"
            ],
            "image/png": "[encoded data removed]"
          },
          "metadata": {}
        }
      ]
    },
    {
      "cell_type": "code",
      "source": [
        "ruchi_test = count_vect.transform(ruchi_X)\n",
        "new_pred2 = model.predict(ruchi_test)\n",
        "\n",
        "# Performance metrics\n",
        "accuracy = accuracy_score(ruchi_Y, new_pred2)\n",
        "precision = precision_score(ruchi_Y, new_pred2)\n",
        "recall = recall_score(ruchi_Y, new_pred2)\n",
        "specificity = recall_score(ruchi_Y, new_pred2, pos_label = 0)\n",
        "\n",
        "print(\"\\n\")\n",
        "print(f\"Accuracy.........: {accuracy * 100.0:.4f}\")\n",
        "print(f\"Precision........: {precision * 100:.4f}\")\n",
        "print(f\"Recall...........: {recall * 100:.4f}\")\n",
        "print(f\"FP Rate...........: {(1-specificity) * 100:.4f}\")\n",
        "print(\"\\n\")\n",
        "\n",
        "# Report the confusion matrix\n",
        "cm = confusion_matrix(ruchi_Y, new_pred2)\n",
        "sns.heatmap(cm, annot = True, fmt = 'd', cbar = False, cmap = \"YlGnBu\");"
      ],
      "metadata": {
        "id": "ACVsP-qAzKsP",
        "colab": {
          "base_uri": "https://localhost:8080/",
          "height": 628
        },
        "outputId": "10366b39-f4d7-4356-bb7e-21c88187c986"
      },
      "execution_count": null,
      "outputs": [
        {
          "output_type": "stream",
          "name": "stdout",
          "text": [
            "\n",
            "\n",
            "Accuracy.........: 62.4746\n",
            "Precision........: 56.0345\n",
            "Recall...........: 8.6207\n",
            "FP Rate...........: 4.1872\n",
            "\n",
            "\n"
          ]
        },
        {
          "output_type": "display_data",
          "data": {
            "text/plain": [
              "<Figure size 576x576 with 1 Axes>"
            ],
            "image/png": "[encoded data removed]"
          },
          "metadata": {}
        }
      ]
    }
  ]
}