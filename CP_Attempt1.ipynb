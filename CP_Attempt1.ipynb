{
  "nbformat": 4,
  "nbformat_minor": 0,
  "metadata": {
    "colab": {
      "name": "Capping Project.ipynb",
      "provenance": [],
      "collapsed_sections": []
    },
    "kernelspec": {
      "name": "python3",
      "display_name": "Python 3"
    },
    "language_info": {
      "name": "python"
    }
  },
  "cells": [
    {
      "cell_type": "markdown",
      "source": [
        "##Imports"
      ],
      "metadata": {
        "id": "FGRlvfYGEcT2"
      }
    },
    {
      "cell_type": "code",
      "execution_count": null,
      "metadata": {
        "id": "ef7qfJP4RjSe"
      },
      "outputs": [],
      "source": [
        "# Normal imports\n",
        "import matplotlib\n",
        "import numpy as np\n",
        "import pandas as pd\n",
        "import matplotlib.pyplot as plt\n",
        "import seaborn as sns\n",
        "%matplotlib inline"
      ]
    },
    {
      "cell_type": "markdown",
      "source": [
        "##Reading and storing the data"
      ],
      "metadata": {
        "id": "L1t9m-oxEeRu"
      }
    },
    {
      "cell_type": "code",
      "source": [
        "# Downloading the two csv files from Hope Neveux's public Data Capping repo\n",
        "!wget https://raw.githubusercontent.com/h-nev/Data-Capping-477/master/Fake.csv\n",
        "!wget https://raw.githubusercontent.com/h-nev/Data-Capping-477/master/True.csv"
      ],
      "metadata": {
        "colab": {
          "base_uri": "https://localhost:8080/"
        },
        "id": "tU3a-NzoA0Zc",
        "outputId": "81952eee-d429-4162-87bf-f19fa7788b81"
      },
      "execution_count": null,
      "outputs": [
        {
          "output_type": "stream",
          "name": "stdout",
          "text": [
            "--2022-04-24 22:24:29--  https://raw.githubusercontent.com/h-nev/Data-Capping-477/master/Fake.csv\n",
            "Resolving raw.githubusercontent.com (raw.githubusercontent.com)... 185.199.108.133, 185.199.109.133, 185.199.110.133, ...\n",
            "Connecting to raw.githubusercontent.com (raw.githubusercontent.com)|185.199.108.133|:443... connected.\n",
            "HTTP request sent, awaiting response... 200 OK\n",
            "Length: 62789876 (60M) [text/plain]\n",
            "Saving to: ‘Fake.csv.2’\n",
            "\n",
            "Fake.csv.2          100%[===================>]  59.88M   121MB/s    in 0.5s    \n",
            "\n",
            "2022-04-24 22:24:29 (121 MB/s) - ‘Fake.csv.2’ saved [62789876/62789876]\n",
            "\n",
            "--2022-04-24 22:24:29--  https://raw.githubusercontent.com/h-nev/Data-Capping-477/master/True.csv\n",
            "Resolving raw.githubusercontent.com (raw.githubusercontent.com)... 185.199.110.133, 185.199.108.133, 185.199.111.133, ...\n",
            "Connecting to raw.githubusercontent.com (raw.githubusercontent.com)|185.199.110.133|:443... connected.\n",
            "HTTP request sent, awaiting response... 200 OK\n",
            "Length: 53561522 (51M) [text/plain]\n",
            "Saving to: ‘True.csv.2’\n",
            "\n",
            "True.csv.2          100%[===================>]  51.08M   135MB/s    in 0.4s    \n",
            "\n",
            "2022-04-24 22:24:30 (135 MB/s) - ‘True.csv.2’ saved [53561522/53561522]\n",
            "\n"
          ]
        }
      ]
    },
    {
      "cell_type": "code",
      "source": [
        "# Checking the directory to make sure the data we expect is there\n",
        "!ls -lia"
      ],
      "metadata": {
        "colab": {
          "base_uri": "https://localhost:8080/"
        },
        "id": "RzFGAg2gBH6E",
        "outputId": "7619ac62-122c-49fd-f318-a83d31a99184"
      },
      "execution_count": null,
      "outputs": [
        {
          "output_type": "stream",
          "name": "stdout",
          "text": [
            "total 422276\n",
            "6684697 drwxr-xr-x 1 root root     4096 Apr 24 22:24  .\n",
            "6947421 drwxr-xr-x 1 root root     4096 Apr 24 21:13  ..\n",
            "4063249 drwxr-xr-x 4 root root     4096 Apr 19 14:22  .config\n",
            "6947388 -rw-r--r-- 1 root root 30695372 Apr 24 21:14 'CYBER-COP news.csv'\n",
            "6947551 -rw-r--r-- 1 root root 30695372 Apr 24 22:24 'CYBER-COP news.csv.1'\n",
            "6947380 -rw-r--r-- 1 root root 62789876 Apr 24 21:14  Fake.csv\n",
            "6947548 -rw-r--r-- 1 root root 62789876 Apr 24 22:24  Fake.csv.1\n",
            "6947558 -rw-r--r-- 1 root root 62789876 Apr 24 22:24  Fake.csv.2\n",
            "6947389 -rw-r--r-- 1 root root 10967452 Apr 24 21:14 'RUCHI-BHATIA news.csv'\n",
            "6947553 -rw-r--r-- 1 root root 10967452 Apr 24 22:24 'RUCHI-BHATIA news.csv.1'\n",
            "6684698 drwxr-xr-x 1 root root     4096 Apr 19 14:23  sample_data\n",
            "6947387 -rw-r--r-- 1 root root 53561522 Apr 24 21:14  True.csv\n",
            "6947549 -rw-r--r-- 1 root root 53561522 Apr 24 22:24  True.csv.1\n",
            "6947559 -rw-r--r-- 1 root root 53561522 Apr 24 22:24  True.csv.2\n"
          ]
        }
      ]
    },
    {
      "cell_type": "code",
      "source": [
        "# Reading in the fake news data set and setting Fake as 0\n",
        "df1 = pd.read_csv(\"Fake.csv\")\n",
        "df1['target'] = 0\n",
        "df1.head()"
      ],
      "metadata": {
        "id": "EGdkb6V2ToLJ",
        "colab": {
          "base_uri": "https://localhost:8080/",
          "height": 206
        },
        "outputId": "a297deff-0b62-4e47-e743-2b36be2b3642"
      },
      "execution_count": null,
      "outputs": [
        {
          "output_type": "execute_result",
          "data": {
            "text/plain": [
              "                                               title  \\\n",
              "0   Donald Trump Sends Out Embarrassing New Year’...   \n",
              "1   Drunk Bragging Trump Staffer Started Russian ...   \n",
              "2   Sheriff David Clarke Becomes An Internet Joke...   \n",
              "3   Trump Is So Obsessed He Even Has Obama’s Name...   \n",
              "4   Pope Francis Just Called Out Donald Trump Dur...   \n",
              "\n",
              "                                                text subject  \\\n",
              "0  Donald Trump just couldn t wish all Americans ...    News   \n",
              "1  House Intelligence Committee Chairman Devin Nu...    News   \n",
              "2  On Friday, it was revealed that former Milwauk...    News   \n",
              "3  On Christmas day, Donald Trump announced that ...    News   \n",
              "4  Pope Francis used his annual Christmas Day mes...    News   \n",
              "\n",
              "                date  target  \n",
              "0  December 31, 2017       0  \n",
              "1  December 31, 2017       0  \n",
              "2  December 30, 2017       0  \n",
              "3  December 29, 2017       0  \n",
              "4  December 25, 2017       0  "
            ],
            "text/html": [
              "\n",
              "  <div id=\"df-e7bf7b32-93b1-442e-a496-c1417b6014f1\">\n",
              "    <div class=\"colab-df-container\">\n",
              "      <div>\n",
              "<style scoped>\n",
              "    .dataframe tbody tr th:only-of-type {\n",
              "        vertical-align: middle;\n",
              "    }\n",
              "\n",
              "    .dataframe tbody tr th {\n",
              "        vertical-align: top;\n",
              "    }\n",
              "\n",
              "    .dataframe thead th {\n",
              "        text-align: right;\n",
              "    }\n",
              "</style>\n",
              "<table border=\"1\" class=\"dataframe\">\n",
              "  <thead>\n",
              "    <tr style=\"text-align: right;\">\n",
              "      <th></th>\n",
              "      <th>title</th>\n",
              "      <th>text</th>\n",
              "      <th>subject</th>\n",
              "      <th>date</th>\n",
              "      <th>target</th>\n",
              "    </tr>\n",
              "  </thead>\n",
              "  <tbody>\n",
              "    <tr>\n",
              "      <th>0</th>\n",
              "      <td>Donald Trump Sends Out Embarrassing New Year’...</td>\n",
              "      <td>Donald Trump just couldn t wish all Americans ...</td>\n",
              "      <td>News</td>\n",
              "      <td>December 31, 2017</td>\n",
              "      <td>0</td>\n",
              "    </tr>\n",
              "    <tr>\n",
              "      <th>1</th>\n",
              "      <td>Drunk Bragging Trump Staffer Started Russian ...</td>\n",
              "      <td>House Intelligence Committee Chairman Devin Nu...</td>\n",
              "      <td>News</td>\n",
              "      <td>December 31, 2017</td>\n",
              "      <td>0</td>\n",
              "    </tr>\n",
              "    <tr>\n",
              "      <th>2</th>\n",
              "      <td>Sheriff David Clarke Becomes An Internet Joke...</td>\n",
              "      <td>On Friday, it was revealed that former Milwauk...</td>\n",
              "      <td>News</td>\n",
              "      <td>December 30, 2017</td>\n",
              "      <td>0</td>\n",
              "    </tr>\n",
              "    <tr>\n",
              "      <th>3</th>\n",
              "      <td>Trump Is So Obsessed He Even Has Obama’s Name...</td>\n",
              "      <td>On Christmas day, Donald Trump announced that ...</td>\n",
              "      <td>News</td>\n",
              "      <td>December 29, 2017</td>\n",
              "      <td>0</td>\n",
              "    </tr>\n",
              "    <tr>\n",
              "      <th>4</th>\n",
              "      <td>Pope Francis Just Called Out Donald Trump Dur...</td>\n",
              "      <td>Pope Francis used his annual Christmas Day mes...</td>\n",
              "      <td>News</td>\n",
              "      <td>December 25, 2017</td>\n",
              "      <td>0</td>\n",
              "    </tr>\n",
              "  </tbody>\n",
              "</table>\n",
              "</div>\n",
              "      <button class=\"colab-df-convert\" onclick=\"convertToInteractive('df-e7bf7b32-93b1-442e-a496-c1417b6014f1')\"\n",
              "              title=\"Convert this dataframe to an interactive table.\"\n",
              "              style=\"display:none;\">\n",
              "        \n",
              "  <svg xmlns=\"http://www.w3.org/2000/svg\" height=\"24px\"viewBox=\"0 0 24 24\"\n",
              "       width=\"24px\">\n",
              "    <path d=\"M0 0h24v24H0V0z\" fill=\"none\"/>\n",
              "    <path d=\"M18.56 5.44l.94 2.06.94-2.06 2.06-.94-2.06-.94-.94-2.06-.94 2.06-2.06.94zm-11 1L8.5 8.5l.94-2.06 2.06-.94-2.06-.94L8.5 2.5l-.94 2.06-2.06.94zm10 10l.94 2.06.94-2.06 2.06-.94-2.06-.94-.94-2.06-.94 2.06-2.06.94z\"/><path d=\"M17.41 7.96l-1.37-1.37c-.4-.4-.92-.59-1.43-.59-.52 0-1.04.2-1.43.59L10.3 9.45l-7.72 7.72c-.78.78-.78 2.05 0 2.83L4 21.41c.39.39.9.59 1.41.59.51 0 1.02-.2 1.41-.59l7.78-7.78 2.81-2.81c.8-.78.8-2.07 0-2.86zM5.41 20L4 18.59l7.72-7.72 1.47 1.35L5.41 20z\"/>\n",
              "  </svg>\n",
              "      </button>\n",
              "      \n",
              "  <style>\n",
              "    .colab-df-container {\n",
              "      display:flex;\n",
              "      flex-wrap:wrap;\n",
              "      gap: 12px;\n",
              "    }\n",
              "\n",
              "    .colab-df-convert {\n",
              "      background-color: #E8F0FE;\n",
              "      border: none;\n",
              "      border-radius: 50%;\n",
              "      cursor: pointer;\n",
              "      display: none;\n",
              "      fill: #1967D2;\n",
              "      height: 32px;\n",
              "      padding: 0 0 0 0;\n",
              "      width: 32px;\n",
              "    }\n",
              "\n",
              "    .colab-df-convert:hover {\n",
              "      background-color: #E2EBFA;\n",
              "      box-shadow: 0px 1px 2px rgba(60, 64, 67, 0.3), 0px 1px 3px 1px rgba(60, 64, 67, 0.15);\n",
              "      fill: #174EA6;\n",
              "    }\n",
              "\n",
              "    [theme=dark] .colab-df-convert {\n",
              "      background-color: #3B4455;\n",
              "      fill: #D2E3FC;\n",
              "    }\n",
              "\n",
              "    [theme=dark] .colab-df-convert:hover {\n",
              "      background-color: #434B5C;\n",
              "      box-shadow: 0px 1px 3px 1px rgba(0, 0, 0, 0.15);\n",
              "      filter: drop-shadow(0px 1px 2px rgba(0, 0, 0, 0.3));\n",
              "      fill: #FFFFFF;\n",
              "    }\n",
              "  </style>\n",
              "\n",
              "      <script>\n",
              "        const buttonEl =\n",
              "          document.querySelector('#df-e7bf7b32-93b1-442e-a496-c1417b6014f1 button.colab-df-convert');\n",
              "        buttonEl.style.display =\n",
              "          google.colab.kernel.accessAllowed ? 'block' : 'none';\n",
              "\n",
              "        async function convertToInteractive(key) {\n",
              "          const element = document.querySelector('#df-e7bf7b32-93b1-442e-a496-c1417b6014f1');\n",
              "          const dataTable =\n",
              "            await google.colab.kernel.invokeFunction('convertToInteractive',\n",
              "                                                     [key], {});\n",
              "          if (!dataTable) return;\n",
              "\n",
              "          const docLinkHtml = 'Like what you see? Visit the ' +\n",
              "            '<a target=\"_blank\" href=https://colab.research.google.com/notebooks/data_table.ipynb>data table notebook</a>'\n",
              "            + ' to learn more about interactive tables.';\n",
              "          element.innerHTML = '';\n",
              "          dataTable['output_type'] = 'display_data';\n",
              "          await google.colab.output.renderOutput(dataTable, element);\n",
              "          const docLink = document.createElement('div');\n",
              "          docLink.innerHTML = docLinkHtml;\n",
              "          element.appendChild(docLink);\n",
              "        }\n",
              "      </script>\n",
              "    </div>\n",
              "  </div>\n",
              "  "
            ]
          },
          "metadata": {},
          "execution_count": 4
        }
      ]
    },
    {
      "cell_type": "code",
      "source": [
        "# Reading in the true data set and setting True as 1\n",
        "df2 = pd.read_csv(\"True.csv\")\n",
        "df2['target'] = 1\n",
        "df2.head()"
      ],
      "metadata": {
        "colab": {
          "base_uri": "https://localhost:8080/",
          "height": 206
        },
        "id": "JYn_bedyV3du",
        "outputId": "3f9250a6-070b-467f-e813-9efc775bf193"
      },
      "execution_count": null,
      "outputs": [
        {
          "output_type": "execute_result",
          "data": {
            "text/plain": [
              "                                               title  \\\n",
              "0  As U.S. budget fight looms, Republicans flip t...   \n",
              "1  U.S. military to accept transgender recruits o...   \n",
              "2  Senior U.S. Republican senator: 'Let Mr. Muell...   \n",
              "3  FBI Russia probe helped by Australian diplomat...   \n",
              "4  Trump wants Postal Service to charge 'much mor...   \n",
              "\n",
              "                                                text       subject  \\\n",
              "0  WASHINGTON (Reuters) - The head of a conservat...  politicsNews   \n",
              "1  WASHINGTON (Reuters) - Transgender people will...  politicsNews   \n",
              "2  WASHINGTON (Reuters) - The special counsel inv...  politicsNews   \n",
              "3  WASHINGTON (Reuters) - Trump campaign adviser ...  politicsNews   \n",
              "4  SEATTLE/WASHINGTON (Reuters) - President Donal...  politicsNews   \n",
              "\n",
              "                 date  target  \n",
              "0  December 31, 2017        1  \n",
              "1  December 29, 2017        1  \n",
              "2  December 31, 2017        1  \n",
              "3  December 30, 2017        1  \n",
              "4  December 29, 2017        1  "
            ],
            "text/html": [
              "\n",
              "  <div id=\"df-bfe02c63-48f9-4f7f-8030-36bda0ea65fc\">\n",
              "    <div class=\"colab-df-container\">\n",
              "      <div>\n",
              "<style scoped>\n",
              "    .dataframe tbody tr th:only-of-type {\n",
              "        vertical-align: middle;\n",
              "    }\n",
              "\n",
              "    .dataframe tbody tr th {\n",
              "        vertical-align: top;\n",
              "    }\n",
              "\n",
              "    .dataframe thead th {\n",
              "        text-align: right;\n",
              "    }\n",
              "</style>\n",
              "<table border=\"1\" class=\"dataframe\">\n",
              "  <thead>\n",
              "    <tr style=\"text-align: right;\">\n",
              "      <th></th>\n",
              "      <th>title</th>\n",
              "      <th>text</th>\n",
              "      <th>subject</th>\n",
              "      <th>date</th>\n",
              "      <th>target</th>\n",
              "    </tr>\n",
              "  </thead>\n",
              "  <tbody>\n",
              "    <tr>\n",
              "      <th>0</th>\n",
              "      <td>As U.S. budget fight looms, Republicans flip t...</td>\n",
              "      <td>WASHINGTON (Reuters) - The head of a conservat...</td>\n",
              "      <td>politicsNews</td>\n",
              "      <td>December 31, 2017</td>\n",
              "      <td>1</td>\n",
              "    </tr>\n",
              "    <tr>\n",
              "      <th>1</th>\n",
              "      <td>U.S. military to accept transgender recruits o...</td>\n",
              "      <td>WASHINGTON (Reuters) - Transgender people will...</td>\n",
              "      <td>politicsNews</td>\n",
              "      <td>December 29, 2017</td>\n",
              "      <td>1</td>\n",
              "    </tr>\n",
              "    <tr>\n",
              "      <th>2</th>\n",
              "      <td>Senior U.S. Republican senator: 'Let Mr. Muell...</td>\n",
              "      <td>WASHINGTON (Reuters) - The special counsel inv...</td>\n",
              "      <td>politicsNews</td>\n",
              "      <td>December 31, 2017</td>\n",
              "      <td>1</td>\n",
              "    </tr>\n",
              "    <tr>\n",
              "      <th>3</th>\n",
              "      <td>FBI Russia probe helped by Australian diplomat...</td>\n",
              "      <td>WASHINGTON (Reuters) - Trump campaign adviser ...</td>\n",
              "      <td>politicsNews</td>\n",
              "      <td>December 30, 2017</td>\n",
              "      <td>1</td>\n",
              "    </tr>\n",
              "    <tr>\n",
              "      <th>4</th>\n",
              "      <td>Trump wants Postal Service to charge 'much mor...</td>\n",
              "      <td>SEATTLE/WASHINGTON (Reuters) - President Donal...</td>\n",
              "      <td>politicsNews</td>\n",
              "      <td>December 29, 2017</td>\n",
              "      <td>1</td>\n",
              "    </tr>\n",
              "  </tbody>\n",
              "</table>\n",
              "</div>\n",
              "      <button class=\"colab-df-convert\" onclick=\"convertToInteractive('df-bfe02c63-48f9-4f7f-8030-36bda0ea65fc')\"\n",
              "              title=\"Convert this dataframe to an interactive table.\"\n",
              "              style=\"display:none;\">\n",
              "        \n",
              "  <svg xmlns=\"http://www.w3.org/2000/svg\" height=\"24px\"viewBox=\"0 0 24 24\"\n",
              "       width=\"24px\">\n",
              "    <path d=\"M0 0h24v24H0V0z\" fill=\"none\"/>\n",
              "    <path d=\"M18.56 5.44l.94 2.06.94-2.06 2.06-.94-2.06-.94-.94-2.06-.94 2.06-2.06.94zm-11 1L8.5 8.5l.94-2.06 2.06-.94-2.06-.94L8.5 2.5l-.94 2.06-2.06.94zm10 10l.94 2.06.94-2.06 2.06-.94-2.06-.94-.94-2.06-.94 2.06-2.06.94z\"/><path d=\"M17.41 7.96l-1.37-1.37c-.4-.4-.92-.59-1.43-.59-.52 0-1.04.2-1.43.59L10.3 9.45l-7.72 7.72c-.78.78-.78 2.05 0 2.83L4 21.41c.39.39.9.59 1.41.59.51 0 1.02-.2 1.41-.59l7.78-7.78 2.81-2.81c.8-.78.8-2.07 0-2.86zM5.41 20L4 18.59l7.72-7.72 1.47 1.35L5.41 20z\"/>\n",
              "  </svg>\n",
              "      </button>\n",
              "      \n",
              "  <style>\n",
              "    .colab-df-container {\n",
              "      display:flex;\n",
              "      flex-wrap:wrap;\n",
              "      gap: 12px;\n",
              "    }\n",
              "\n",
              "    .colab-df-convert {\n",
              "      background-color: #E8F0FE;\n",
              "      border: none;\n",
              "      border-radius: 50%;\n",
              "      cursor: pointer;\n",
              "      display: none;\n",
              "      fill: #1967D2;\n",
              "      height: 32px;\n",
              "      padding: 0 0 0 0;\n",
              "      width: 32px;\n",
              "    }\n",
              "\n",
              "    .colab-df-convert:hover {\n",
              "      background-color: #E2EBFA;\n",
              "      box-shadow: 0px 1px 2px rgba(60, 64, 67, 0.3), 0px 1px 3px 1px rgba(60, 64, 67, 0.15);\n",
              "      fill: #174EA6;\n",
              "    }\n",
              "\n",
              "    [theme=dark] .colab-df-convert {\n",
              "      background-color: #3B4455;\n",
              "      fill: #D2E3FC;\n",
              "    }\n",
              "\n",
              "    [theme=dark] .colab-df-convert:hover {\n",
              "      background-color: #434B5C;\n",
              "      box-shadow: 0px 1px 3px 1px rgba(0, 0, 0, 0.15);\n",
              "      filter: drop-shadow(0px 1px 2px rgba(0, 0, 0, 0.3));\n",
              "      fill: #FFFFFF;\n",
              "    }\n",
              "  </style>\n",
              "\n",
              "      <script>\n",
              "        const buttonEl =\n",
              "          document.querySelector('#df-bfe02c63-48f9-4f7f-8030-36bda0ea65fc button.colab-df-convert');\n",
              "        buttonEl.style.display =\n",
              "          google.colab.kernel.accessAllowed ? 'block' : 'none';\n",
              "\n",
              "        async function convertToInteractive(key) {\n",
              "          const element = document.querySelector('#df-bfe02c63-48f9-4f7f-8030-36bda0ea65fc');\n",
              "          const dataTable =\n",
              "            await google.colab.kernel.invokeFunction('convertToInteractive',\n",
              "                                                     [key], {});\n",
              "          if (!dataTable) return;\n",
              "\n",
              "          const docLinkHtml = 'Like what you see? Visit the ' +\n",
              "            '<a target=\"_blank\" href=https://colab.research.google.com/notebooks/data_table.ipynb>data table notebook</a>'\n",
              "            + ' to learn more about interactive tables.';\n",
              "          element.innerHTML = '';\n",
              "          dataTable['output_type'] = 'display_data';\n",
              "          await google.colab.output.renderOutput(dataTable, element);\n",
              "          const docLink = document.createElement('div');\n",
              "          docLink.innerHTML = docLinkHtml;\n",
              "          element.appendChild(docLink);\n",
              "        }\n",
              "      </script>\n",
              "    </div>\n",
              "  </div>\n",
              "  "
            ]
          },
          "metadata": {},
          "execution_count": 5
        }
      ]
    },
    {
      "cell_type": "code",
      "source": [
        "# Combining the two dataframes into one while redoing the indices\n",
        "dfs = [df1, df2]\n",
        "news = pd.concat(dfs, ignore_index = True)\n",
        "news"
      ],
      "metadata": {
        "colab": {
          "base_uri": "https://localhost:8080/",
          "height": 423
        },
        "id": "w8q4JXhLXKKu",
        "outputId": "cb345801-85f1-44ec-cf5f-347360d30ce7"
      },
      "execution_count": null,
      "outputs": [
        {
          "output_type": "execute_result",
          "data": {
            "text/plain": [
              "                                                   title  \\\n",
              "0       Donald Trump Sends Out Embarrassing New Year’...   \n",
              "1       Drunk Bragging Trump Staffer Started Russian ...   \n",
              "2       Sheriff David Clarke Becomes An Internet Joke...   \n",
              "3       Trump Is So Obsessed He Even Has Obama’s Name...   \n",
              "4       Pope Francis Just Called Out Donald Trump Dur...   \n",
              "...                                                  ...   \n",
              "44893  'Fully committed' NATO backs new U.S. approach...   \n",
              "44894  LexisNexis withdrew two products from Chinese ...   \n",
              "44895  Minsk cultural hub becomes haven from authorities   \n",
              "44896  Vatican upbeat on possibility of Pope Francis ...   \n",
              "44897  Indonesia to buy $1.14 billion worth of Russia...   \n",
              "\n",
              "                                                    text    subject  \\\n",
              "0      Donald Trump just couldn t wish all Americans ...       News   \n",
              "1      House Intelligence Committee Chairman Devin Nu...       News   \n",
              "2      On Friday, it was revealed that former Milwauk...       News   \n",
              "3      On Christmas day, Donald Trump announced that ...       News   \n",
              "4      Pope Francis used his annual Christmas Day mes...       News   \n",
              "...                                                  ...        ...   \n",
              "44893  BRUSSELS (Reuters) - NATO allies on Tuesday we...  worldnews   \n",
              "44894  LONDON (Reuters) - LexisNexis, a provider of l...  worldnews   \n",
              "44895  MINSK (Reuters) - In the shadow of disused Sov...  worldnews   \n",
              "44896  MOSCOW (Reuters) - Vatican Secretary of State ...  worldnews   \n",
              "44897  JAKARTA (Reuters) - Indonesia will buy 11 Sukh...  worldnews   \n",
              "\n",
              "                    date  target  \n",
              "0      December 31, 2017       0  \n",
              "1      December 31, 2017       0  \n",
              "2      December 30, 2017       0  \n",
              "3      December 29, 2017       0  \n",
              "4      December 25, 2017       0  \n",
              "...                  ...     ...  \n",
              "44893   August 22, 2017        1  \n",
              "44894   August 22, 2017        1  \n",
              "44895   August 22, 2017        1  \n",
              "44896   August 22, 2017        1  \n",
              "44897   August 22, 2017        1  \n",
              "\n",
              "[44898 rows x 5 columns]"
            ],
            "text/html": [
              "\n",
              "  <div id=\"df-117d1a92-8bd2-4611-b9b8-d39814e5b728\">\n",
              "    <div class=\"colab-df-container\">\n",
              "      <div>\n",
              "<style scoped>\n",
              "    .dataframe tbody tr th:only-of-type {\n",
              "        vertical-align: middle;\n",
              "    }\n",
              "\n",
              "    .dataframe tbody tr th {\n",
              "        vertical-align: top;\n",
              "    }\n",
              "\n",
              "    .dataframe thead th {\n",
              "        text-align: right;\n",
              "    }\n",
              "</style>\n",
              "<table border=\"1\" class=\"dataframe\">\n",
              "  <thead>\n",
              "    <tr style=\"text-align: right;\">\n",
              "      <th></th>\n",
              "      <th>title</th>\n",
              "      <th>text</th>\n",
              "      <th>subject</th>\n",
              "      <th>date</th>\n",
              "      <th>target</th>\n",
              "    </tr>\n",
              "  </thead>\n",
              "  <tbody>\n",
              "    <tr>\n",
              "      <th>0</th>\n",
              "      <td>Donald Trump Sends Out Embarrassing New Year’...</td>\n",
              "      <td>Donald Trump just couldn t wish all Americans ...</td>\n",
              "      <td>News</td>\n",
              "      <td>December 31, 2017</td>\n",
              "      <td>0</td>\n",
              "    </tr>\n",
              "    <tr>\n",
              "      <th>1</th>\n",
              "      <td>Drunk Bragging Trump Staffer Started Russian ...</td>\n",
              "      <td>House Intelligence Committee Chairman Devin Nu...</td>\n",
              "      <td>News</td>\n",
              "      <td>December 31, 2017</td>\n",
              "      <td>0</td>\n",
              "    </tr>\n",
              "    <tr>\n",
              "      <th>2</th>\n",
              "      <td>Sheriff David Clarke Becomes An Internet Joke...</td>\n",
              "      <td>On Friday, it was revealed that former Milwauk...</td>\n",
              "      <td>News</td>\n",
              "      <td>December 30, 2017</td>\n",
              "      <td>0</td>\n",
              "    </tr>\n",
              "    <tr>\n",
              "      <th>3</th>\n",
              "      <td>Trump Is So Obsessed He Even Has Obama’s Name...</td>\n",
              "      <td>On Christmas day, Donald Trump announced that ...</td>\n",
              "      <td>News</td>\n",
              "      <td>December 29, 2017</td>\n",
              "      <td>0</td>\n",
              "    </tr>\n",
              "    <tr>\n",
              "      <th>4</th>\n",
              "      <td>Pope Francis Just Called Out Donald Trump Dur...</td>\n",
              "      <td>Pope Francis used his annual Christmas Day mes...</td>\n",
              "      <td>News</td>\n",
              "      <td>December 25, 2017</td>\n",
              "      <td>0</td>\n",
              "    </tr>\n",
              "    <tr>\n",
              "      <th>...</th>\n",
              "      <td>...</td>\n",
              "      <td>...</td>\n",
              "      <td>...</td>\n",
              "      <td>...</td>\n",
              "      <td>...</td>\n",
              "    </tr>\n",
              "    <tr>\n",
              "      <th>44893</th>\n",
              "      <td>'Fully committed' NATO backs new U.S. approach...</td>\n",
              "      <td>BRUSSELS (Reuters) - NATO allies on Tuesday we...</td>\n",
              "      <td>worldnews</td>\n",
              "      <td>August 22, 2017</td>\n",
              "      <td>1</td>\n",
              "    </tr>\n",
              "    <tr>\n",
              "      <th>44894</th>\n",
              "      <td>LexisNexis withdrew two products from Chinese ...</td>\n",
              "      <td>LONDON (Reuters) - LexisNexis, a provider of l...</td>\n",
              "      <td>worldnews</td>\n",
              "      <td>August 22, 2017</td>\n",
              "      <td>1</td>\n",
              "    </tr>\n",
              "    <tr>\n",
              "      <th>44895</th>\n",
              "      <td>Minsk cultural hub becomes haven from authorities</td>\n",
              "      <td>MINSK (Reuters) - In the shadow of disused Sov...</td>\n",
              "      <td>worldnews</td>\n",
              "      <td>August 22, 2017</td>\n",
              "      <td>1</td>\n",
              "    </tr>\n",
              "    <tr>\n",
              "      <th>44896</th>\n",
              "      <td>Vatican upbeat on possibility of Pope Francis ...</td>\n",
              "      <td>MOSCOW (Reuters) - Vatican Secretary of State ...</td>\n",
              "      <td>worldnews</td>\n",
              "      <td>August 22, 2017</td>\n",
              "      <td>1</td>\n",
              "    </tr>\n",
              "    <tr>\n",
              "      <th>44897</th>\n",
              "      <td>Indonesia to buy $1.14 billion worth of Russia...</td>\n",
              "      <td>JAKARTA (Reuters) - Indonesia will buy 11 Sukh...</td>\n",
              "      <td>worldnews</td>\n",
              "      <td>August 22, 2017</td>\n",
              "      <td>1</td>\n",
              "    </tr>\n",
              "  </tbody>\n",
              "</table>\n",
              "<p>44898 rows × 5 columns</p>\n",
              "</div>\n",
              "      <button class=\"colab-df-convert\" onclick=\"convertToInteractive('df-117d1a92-8bd2-4611-b9b8-d39814e5b728')\"\n",
              "              title=\"Convert this dataframe to an interactive table.\"\n",
              "              style=\"display:none;\">\n",
              "        \n",
              "  <svg xmlns=\"http://www.w3.org/2000/svg\" height=\"24px\"viewBox=\"0 0 24 24\"\n",
              "       width=\"24px\">\n",
              "    <path d=\"M0 0h24v24H0V0z\" fill=\"none\"/>\n",
              "    <path d=\"M18.56 5.44l.94 2.06.94-2.06 2.06-.94-2.06-.94-.94-2.06-.94 2.06-2.06.94zm-11 1L8.5 8.5l.94-2.06 2.06-.94-2.06-.94L8.5 2.5l-.94 2.06-2.06.94zm10 10l.94 2.06.94-2.06 2.06-.94-2.06-.94-.94-2.06-.94 2.06-2.06.94z\"/><path d=\"M17.41 7.96l-1.37-1.37c-.4-.4-.92-.59-1.43-.59-.52 0-1.04.2-1.43.59L10.3 9.45l-7.72 7.72c-.78.78-.78 2.05 0 2.83L4 21.41c.39.39.9.59 1.41.59.51 0 1.02-.2 1.41-.59l7.78-7.78 2.81-2.81c.8-.78.8-2.07 0-2.86zM5.41 20L4 18.59l7.72-7.72 1.47 1.35L5.41 20z\"/>\n",
              "  </svg>\n",
              "      </button>\n",
              "      \n",
              "  <style>\n",
              "    .colab-df-container {\n",
              "      display:flex;\n",
              "      flex-wrap:wrap;\n",
              "      gap: 12px;\n",
              "    }\n",
              "\n",
              "    .colab-df-convert {\n",
              "      background-color: #E8F0FE;\n",
              "      border: none;\n",
              "      border-radius: 50%;\n",
              "      cursor: pointer;\n",
              "      display: none;\n",
              "      fill: #1967D2;\n",
              "      height: 32px;\n",
              "      padding: 0 0 0 0;\n",
              "      width: 32px;\n",
              "    }\n",
              "\n",
              "    .colab-df-convert:hover {\n",
              "      background-color: #E2EBFA;\n",
              "      box-shadow: 0px 1px 2px rgba(60, 64, 67, 0.3), 0px 1px 3px 1px rgba(60, 64, 67, 0.15);\n",
              "      fill: #174EA6;\n",
              "    }\n",
              "\n",
              "    [theme=dark] .colab-df-convert {\n",
              "      background-color: #3B4455;\n",
              "      fill: #D2E3FC;\n",
              "    }\n",
              "\n",
              "    [theme=dark] .colab-df-convert:hover {\n",
              "      background-color: #434B5C;\n",
              "      box-shadow: 0px 1px 3px 1px rgba(0, 0, 0, 0.15);\n",
              "      filter: drop-shadow(0px 1px 2px rgba(0, 0, 0, 0.3));\n",
              "      fill: #FFFFFF;\n",
              "    }\n",
              "  </style>\n",
              "\n",
              "      <script>\n",
              "        const buttonEl =\n",
              "          document.querySelector('#df-117d1a92-8bd2-4611-b9b8-d39814e5b728 button.colab-df-convert');\n",
              "        buttonEl.style.display =\n",
              "          google.colab.kernel.accessAllowed ? 'block' : 'none';\n",
              "\n",
              "        async function convertToInteractive(key) {\n",
              "          const element = document.querySelector('#df-117d1a92-8bd2-4611-b9b8-d39814e5b728');\n",
              "          const dataTable =\n",
              "            await google.colab.kernel.invokeFunction('convertToInteractive',\n",
              "                                                     [key], {});\n",
              "          if (!dataTable) return;\n",
              "\n",
              "          const docLinkHtml = 'Like what you see? Visit the ' +\n",
              "            '<a target=\"_blank\" href=https://colab.research.google.com/notebooks/data_table.ipynb>data table notebook</a>'\n",
              "            + ' to learn more about interactive tables.';\n",
              "          element.innerHTML = '';\n",
              "          dataTable['output_type'] = 'display_data';\n",
              "          await google.colab.output.renderOutput(dataTable, element);\n",
              "          const docLink = document.createElement('div');\n",
              "          docLink.innerHTML = docLinkHtml;\n",
              "          element.appendChild(docLink);\n",
              "        }\n",
              "      </script>\n",
              "    </div>\n",
              "  </div>\n",
              "  "
            ]
          },
          "metadata": {},
          "execution_count": 6
        }
      ]
    },
    {
      "cell_type": "code",
      "source": [
        "# Checking the shape of the Fake news set, the True news set, and the combinded set\n",
        "df1.shape, df2.shape, news.shape"
      ],
      "metadata": {
        "colab": {
          "base_uri": "https://localhost:8080/"
        },
        "id": "msyevQkbXqxZ",
        "outputId": "f8d3e83f-2327-41e2-a56b-fd6323ffb213"
      },
      "execution_count": null,
      "outputs": [
        {
          "output_type": "execute_result",
          "data": {
            "text/plain": [
              "((23481, 5), (21417, 5), (44898, 5))"
            ]
          },
          "metadata": {},
          "execution_count": 7
        }
      ]
    },
    {
      "cell_type": "code",
      "source": [
        "# Checking for null values \n",
        "news.isnull().sum()"
      ],
      "metadata": {
        "colab": {
          "base_uri": "https://localhost:8080/"
        },
        "id": "niTsxGeJdYXZ",
        "outputId": "0d40c991-3cc2-4163-f16b-98fe20b10308"
      },
      "execution_count": null,
      "outputs": [
        {
          "output_type": "execute_result",
          "data": {
            "text/plain": [
              "title      0\n",
              "text       0\n",
              "subject    0\n",
              "date       0\n",
              "target     0\n",
              "dtype: int64"
            ]
          },
          "metadata": {},
          "execution_count": 8
        }
      ]
    },
    {
      "cell_type": "code",
      "source": [
        "# Fake vs Real ORIGINAL\n",
        "sns.set(rc = {\"figure.figsize\":(8, 8)}) \n",
        "sns.color_palette(\"coolwarm\", as_cmap = True) \n",
        "plt = sns.countplot(news.loc[:,'target']) \n",
        "plt"
      ],
      "metadata": {
        "colab": {
          "base_uri": "https://localhost:8080/",
          "height": 575
        },
        "id": "Q-LiKzlvF6E5",
        "outputId": "a2312885-93c6-4bb6-a4b1-8274476effe0"
      },
      "execution_count": null,
      "outputs": [
        {
          "output_type": "stream",
          "name": "stderr",
          "text": [
            "/usr/local/lib/python3.7/dist-packages/seaborn/_decorators.py:43: FutureWarning: Pass the following variable as a keyword arg: x. From version 0.12, the only valid positional argument will be `data`, and passing other arguments without an explicit keyword will result in an error or misinterpretation.\n",
            "  FutureWarning\n"
          ]
        },
        {
          "output_type": "execute_result",
          "data": {
            "text/plain": [
              "<matplotlib.axes._subplots.AxesSubplot at 0x7f38451070d0>"
            ]
          },
          "metadata": {},
          "execution_count": 9
        },
        {
          "output_type": "display_data",
          "data": {
            "text/plain": [
              "<Figure size 576x576 with 1 Axes>"
            ],
            "image/png": "[encoded data removed]"
          },
          "metadata": {}
        }
      ]
    },
    {
      "cell_type": "code",
      "source": [
        "# Overall subject distribution ORIGINAL\n",
        "sns.set(rc={\"figure.figsize\":(8, 8)}) \n",
        "plt = sns.histplot(data = news, y = 'subject', hue = 'target') \n",
        "plt "
      ],
      "metadata": {
        "colab": {
          "base_uri": "https://localhost:8080/",
          "height": 520
        },
        "id": "8QqvKzgMGVpd",
        "outputId": "33db9006-539d-4f90-cf02-a6ee2c4e16f4"
      },
      "execution_count": null,
      "outputs": [
        {
          "output_type": "execute_result",
          "data": {
            "text/plain": [
              "<matplotlib.axes._subplots.AxesSubplot at 0x7f3828f20d50>"
            ]
          },
          "metadata": {},
          "execution_count": 10
        },
        {
          "output_type": "display_data",
          "data": {
            "text/plain": [
              "<Figure size 576x576 with 1 Axes>"
            ],
            "image/png": "[encoded data removed]"
          },
          "metadata": {}
        }
      ]
    },
    {
      "cell_type": "markdown",
      "source": [
        "AFTER THE FACT: Is there something we overlooked that's making the model less universal than we want it to be?"
      ],
      "metadata": {
        "id": "lFd3YVexXQuS"
      }
    },
    {
      "cell_type": "code",
      "source": [
        "# Are there duplicates?\n",
        "news.loc[:, 'text'].shape[0] - news.loc[:, 'text'].unique().shape[0]"
      ],
      "metadata": {
        "colab": {
          "base_uri": "https://localhost:8080/"
        },
        "id": "2DY8_XXcZSFX",
        "outputId": "ce753f8d-25cd-4586-9f13-741b46a97092"
      },
      "execution_count": null,
      "outputs": [
        {
          "output_type": "execute_result",
          "data": {
            "text/plain": [
              "6252"
            ]
          },
          "metadata": {},
          "execution_count": 11
        }
      ]
    },
    {
      "cell_type": "code",
      "source": [
        "news = news.drop_duplicates(subset = 'text', keep = 'first')"
      ],
      "metadata": {
        "id": "riWxMlNmXQN8"
      },
      "execution_count": null,
      "outputs": []
    },
    {
      "cell_type": "code",
      "source": [
        "sns.set(rc = {\"figure.figsize\":(8, 8)}) \n",
        "sns.color_palette(\"coolwarm\", as_cmap = True) \n",
        "plt = sns.countplot(news.loc[:,'target']) \n",
        "plt"
      ],
      "metadata": {
        "colab": {
          "base_uri": "https://localhost:8080/",
          "height": 575
        },
        "id": "ZiDPSMYLb6f6",
        "outputId": "8d9d1dd0-a8ea-4290-f97a-56c0bdc56570"
      },
      "execution_count": null,
      "outputs": [
        {
          "output_type": "stream",
          "name": "stderr",
          "text": [
            "/usr/local/lib/python3.7/dist-packages/seaborn/_decorators.py:43: FutureWarning: Pass the following variable as a keyword arg: x. From version 0.12, the only valid positional argument will be `data`, and passing other arguments without an explicit keyword will result in an error or misinterpretation.\n",
            "  FutureWarning\n"
          ]
        },
        {
          "output_type": "execute_result",
          "data": {
            "text/plain": [
              "<matplotlib.axes._subplots.AxesSubplot at 0x7f3828a3e950>"
            ]
          },
          "metadata": {},
          "execution_count": 13
        },
        {
          "output_type": "display_data",
          "data": {
            "text/plain": [
              "<Figure size 576x576 with 1 Axes>"
            ],
            "image/png": "[encoded data removed]"
          },
          "metadata": {}
        }
      ]
    },
    {
      "cell_type": "code",
      "source": [
        "sns.set(rc={\"figure.figsize\":(8, 8)}) \n",
        "plt = sns.histplot(data = news, y = 'subject', hue = 'target') \n",
        "plt "
      ],
      "metadata": {
        "colab": {
          "base_uri": "https://localhost:8080/",
          "height": 520
        },
        "id": "6WrUTf2Vb_vL",
        "outputId": "34346ae3-f61f-404c-bd52-54bdf3d38876"
      },
      "execution_count": null,
      "outputs": [
        {
          "output_type": "execute_result",
          "data": {
            "text/plain": [
              "<matplotlib.axes._subplots.AxesSubplot at 0x7f3828a3e750>"
            ]
          },
          "metadata": {},
          "execution_count": 14
        },
        {
          "output_type": "display_data",
          "data": {
            "text/plain": [
              "<Figure size 576x576 with 1 Axes>"
            ],
            "image/png": "[encoded data removed]"
          },
          "metadata": {}
        }
      ]
    },
    {
      "cell_type": "markdown",
      "source": [
        "##Downloading All the Other Data "
      ],
      "metadata": {
        "id": "zO_P38ryvMBz"
      }
    },
    {
      "cell_type": "code",
      "source": [
        "# Downloading a bunch of other csv data to test out our models\n",
        "!wget https://raw.githubusercontent.com/h-nev/Data-Capping-477/master/CYBER-COP%20news.csv\n",
        "!wget https://raw.githubusercontent.com/h-nev/Data-Capping-477/master/RUCHI-BHATIA%20news.csv"
      ],
      "metadata": {
        "colab": {
          "base_uri": "https://localhost:8080/"
        },
        "id": "9zOCjKhhvf1e",
        "outputId": "9f70eb08-25a8-4aff-89aa-83380ab2f0ea"
      },
      "execution_count": null,
      "outputs": [
        {
          "output_type": "stream",
          "name": "stdout",
          "text": [
            "--2022-04-24 22:24:39--  https://raw.githubusercontent.com/h-nev/Data-Capping-477/master/CYBER-COP%20news.csv\n",
            "Resolving raw.githubusercontent.com (raw.githubusercontent.com)... 185.199.108.133, 185.199.109.133, 185.199.110.133, ...\n",
            "Connecting to raw.githubusercontent.com (raw.githubusercontent.com)|185.199.108.133|:443... connected.\n",
            "HTTP request sent, awaiting response... 200 OK\n",
            "Length: 30695372 (29M) [text/plain]\n",
            "Saving to: ‘CYBER-COP news.csv.2’\n",
            "\n",
            "CYBER-COP news.csv. 100%[===================>]  29.27M  88.1MB/s    in 0.3s    \n",
            "\n",
            "2022-04-24 22:24:39 (88.1 MB/s) - ‘CYBER-COP news.csv.2’ saved [30695372/30695372]\n",
            "\n",
            "--2022-04-24 22:24:39--  https://raw.githubusercontent.com/h-nev/Data-Capping-477/master/RUCHI-BHATIA%20news.csv\n",
            "Resolving raw.githubusercontent.com (raw.githubusercontent.com)... 185.199.108.133, 185.199.109.133, 185.199.110.133, ...\n",
            "Connecting to raw.githubusercontent.com (raw.githubusercontent.com)|185.199.108.133|:443... connected.\n",
            "HTTP request sent, awaiting response... 200 OK\n",
            "Length: 10967452 (10M) [text/plain]\n",
            "Saving to: ‘RUCHI-BHATIA news.csv.2’\n",
            "\n",
            "RUCHI-BHATIA news.c 100%[===================>]  10.46M  56.0MB/s    in 0.2s    \n",
            "\n",
            "2022-04-24 22:24:40 (56.0 MB/s) - ‘RUCHI-BHATIA news.csv.2’ saved [10967452/10967452]\n",
            "\n"
          ]
        }
      ]
    },
    {
      "cell_type": "code",
      "source": [
        "# Checking the directory to make sure the data we expect is there\n",
        "!ls -lia"
      ],
      "metadata": {
        "colab": {
          "base_uri": "https://localhost:8080/"
        },
        "id": "uPMOo_9i1iD8",
        "outputId": "f4a3b48f-d1bb-412f-b783-2dd404cbd908"
      },
      "execution_count": null,
      "outputs": [
        {
          "output_type": "stream",
          "name": "stdout",
          "text": [
            "total 462964\n",
            "6684697 drwxr-xr-x 1 root root     4096 Apr 24 22:24  .\n",
            "6947421 drwxr-xr-x 1 root root     4096 Apr 24 21:13  ..\n",
            "4063249 drwxr-xr-x 4 root root     4096 Apr 19 14:22  .config\n",
            "6947388 -rw-r--r-- 1 root root 30695372 Apr 24 21:14 'CYBER-COP news.csv'\n",
            "6947551 -rw-r--r-- 1 root root 30695372 Apr 24 22:24 'CYBER-COP news.csv.1'\n",
            "6947567 -rw-r--r-- 1 root root 30695372 Apr 24 22:24 'CYBER-COP news.csv.2'\n",
            "6947380 -rw-r--r-- 1 root root 62789876 Apr 24 21:14  Fake.csv\n",
            "6947548 -rw-r--r-- 1 root root 62789876 Apr 24 22:24  Fake.csv.1\n",
            "6947558 -rw-r--r-- 1 root root 62789876 Apr 24 22:24  Fake.csv.2\n",
            "6947389 -rw-r--r-- 1 root root 10967452 Apr 24 21:14 'RUCHI-BHATIA news.csv'\n",
            "6947553 -rw-r--r-- 1 root root 10967452 Apr 24 22:24 'RUCHI-BHATIA news.csv.1'\n",
            "6947568 -rw-r--r-- 1 root root 10967452 Apr 24 22:24 'RUCHI-BHATIA news.csv.2'\n",
            "6684698 drwxr-xr-x 1 root root     4096 Apr 19 14:23  sample_data\n",
            "6947387 -rw-r--r-- 1 root root 53561522 Apr 24 21:14  True.csv\n",
            "6947549 -rw-r--r-- 1 root root 53561522 Apr 24 22:24  True.csv.1\n",
            "6947559 -rw-r--r-- 1 root root 53561522 Apr 24 22:24  True.csv.2\n"
          ]
        }
      ]
    },
    {
      "cell_type": "code",
      "source": [
        "# Saving all the info and reading it to a pandas dataframe\n",
        "cyber_cop = pd.read_csv(\"CYBER-COP news.csv\")\n",
        "ruchi_bhatia = pd.read_csv(\"RUCHI-BHATIA news.csv\")"
      ],
      "metadata": {
        "id": "QliGl7Kr2NtF"
      },
      "execution_count": null,
      "outputs": []
    },
    {
      "cell_type": "code",
      "source": [
        "# Checking each for nulls\n",
        "print(\"CYBER COP:\") \n",
        "print(cyber_cop.isnull().sum())\n",
        "\n",
        "print(\"\\nRUCHI BHATIA:\")\n",
        "print(ruchi_bhatia.isnull().sum())"
      ],
      "metadata": {
        "colab": {
          "base_uri": "https://localhost:8080/"
        },
        "id": "wBDoENdT1mc7",
        "outputId": "be410f96-43ca-4d3c-ece4-98a287bde942"
      },
      "execution_count": null,
      "outputs": [
        {
          "output_type": "stream",
          "name": "stdout",
          "text": [
            "CYBER COP:\n",
            "Unnamed: 0    0\n",
            "title         0\n",
            "text          0\n",
            "label         0\n",
            "dtype: int64\n",
            "\n",
            "RUCHI BHATIA:\n",
            "author                      0\n",
            "published                   0\n",
            "title                       0\n",
            "text                       46\n",
            "language                    1\n",
            "site_url                    1\n",
            "main_img_url                1\n",
            "type                        1\n",
            "label                       1\n",
            "title_without_stopwords     2\n",
            "text_without_stopwords     50\n",
            "hasImage                    1\n",
            "dtype: int64\n"
          ]
        }
      ]
    },
    {
      "cell_type": "markdown",
      "source": [
        "###CYBER COP Data Manipulation"
      ],
      "metadata": {
        "id": "Rb49vaJUCWF2"
      }
    },
    {
      "cell_type": "code",
      "source": [
        "cyber_cop.head()"
      ],
      "metadata": {
        "colab": {
          "base_uri": "https://localhost:8080/",
          "height": 206
        },
        "id": "X6Dz7pk3FMO2",
        "outputId": "6199eaef-4689-4035-a708-955acbd42dd6"
      },
      "execution_count": null,
      "outputs": [
        {
          "output_type": "execute_result",
          "data": {
            "text/plain": [
              "   Unnamed: 0                                              title  \\\n",
              "0           0  A whirlwind day in D.C. showcases Trump’s unor...   \n",
              "1           1  In Baltimore's call for federal police probe, ...   \n",
              "2           2  Trump Proudly Declares: Most Of The People I’v...   \n",
              "3           3  Inside the Trump-Bush melodrama: Decades of te...   \n",
              "4           4      Shutdown clash to return in force by December   \n",
              "\n",
              "                                                text label  \n",
              "0  Donald Trump endorsed an unabashedly noninterv...  REAL  \n",
              "1  While some Justice Department investigations a...  REAL  \n",
              "2  Trump Proudly Declares: Most Of The People I’v...  FAKE  \n",
              "3  Donald Trump spent a day in January 2014 hobno...  REAL  \n",
              "4  Notable names include Ray Washburne (Commerce)...  REAL  "
            ],
            "text/html": [
              "\n",
              "  <div id=\"df-ba69f122-1081-47b4-aa37-a1e8a97f57aa\">\n",
              "    <div class=\"colab-df-container\">\n",
              "      <div>\n",
              "<style scoped>\n",
              "    .dataframe tbody tr th:only-of-type {\n",
              "        vertical-align: middle;\n",
              "    }\n",
              "\n",
              "    .dataframe tbody tr th {\n",
              "        vertical-align: top;\n",
              "    }\n",
              "\n",
              "    .dataframe thead th {\n",
              "        text-align: right;\n",
              "    }\n",
              "</style>\n",
              "<table border=\"1\" class=\"dataframe\">\n",
              "  <thead>\n",
              "    <tr style=\"text-align: right;\">\n",
              "      <th></th>\n",
              "      <th>Unnamed: 0</th>\n",
              "      <th>title</th>\n",
              "      <th>text</th>\n",
              "      <th>label</th>\n",
              "    </tr>\n",
              "  </thead>\n",
              "  <tbody>\n",
              "    <tr>\n",
              "      <th>0</th>\n",
              "      <td>0</td>\n",
              "      <td>A whirlwind day in D.C. showcases Trump’s unor...</td>\n",
              "      <td>Donald Trump endorsed an unabashedly noninterv...</td>\n",
              "      <td>REAL</td>\n",
              "    </tr>\n",
              "    <tr>\n",
              "      <th>1</th>\n",
              "      <td>1</td>\n",
              "      <td>In Baltimore's call for federal police probe, ...</td>\n",
              "      <td>While some Justice Department investigations a...</td>\n",
              "      <td>REAL</td>\n",
              "    </tr>\n",
              "    <tr>\n",
              "      <th>2</th>\n",
              "      <td>2</td>\n",
              "      <td>Trump Proudly Declares: Most Of The People I’v...</td>\n",
              "      <td>Trump Proudly Declares: Most Of The People I’v...</td>\n",
              "      <td>FAKE</td>\n",
              "    </tr>\n",
              "    <tr>\n",
              "      <th>3</th>\n",
              "      <td>3</td>\n",
              "      <td>Inside the Trump-Bush melodrama: Decades of te...</td>\n",
              "      <td>Donald Trump spent a day in January 2014 hobno...</td>\n",
              "      <td>REAL</td>\n",
              "    </tr>\n",
              "    <tr>\n",
              "      <th>4</th>\n",
              "      <td>4</td>\n",
              "      <td>Shutdown clash to return in force by December</td>\n",
              "      <td>Notable names include Ray Washburne (Commerce)...</td>\n",
              "      <td>REAL</td>\n",
              "    </tr>\n",
              "  </tbody>\n",
              "</table>\n",
              "</div>\n",
              "      <button class=\"colab-df-convert\" onclick=\"convertToInteractive('df-ba69f122-1081-47b4-aa37-a1e8a97f57aa')\"\n",
              "              title=\"Convert this dataframe to an interactive table.\"\n",
              "              style=\"display:none;\">\n",
              "        \n",
              "  <svg xmlns=\"http://www.w3.org/2000/svg\" height=\"24px\"viewBox=\"0 0 24 24\"\n",
              "       width=\"24px\">\n",
              "    <path d=\"M0 0h24v24H0V0z\" fill=\"none\"/>\n",
              "    <path d=\"M18.56 5.44l.94 2.06.94-2.06 2.06-.94-2.06-.94-.94-2.06-.94 2.06-2.06.94zm-11 1L8.5 8.5l.94-2.06 2.06-.94-2.06-.94L8.5 2.5l-.94 2.06-2.06.94zm10 10l.94 2.06.94-2.06 2.06-.94-2.06-.94-.94-2.06-.94 2.06-2.06.94z\"/><path d=\"M17.41 7.96l-1.37-1.37c-.4-.4-.92-.59-1.43-.59-.52 0-1.04.2-1.43.59L10.3 9.45l-7.72 7.72c-.78.78-.78 2.05 0 2.83L4 21.41c.39.39.9.59 1.41.59.51 0 1.02-.2 1.41-.59l7.78-7.78 2.81-2.81c.8-.78.8-2.07 0-2.86zM5.41 20L4 18.59l7.72-7.72 1.47 1.35L5.41 20z\"/>\n",
              "  </svg>\n",
              "      </button>\n",
              "      \n",
              "  <style>\n",
              "    .colab-df-container {\n",
              "      display:flex;\n",
              "      flex-wrap:wrap;\n",
              "      gap: 12px;\n",
              "    }\n",
              "\n",
              "    .colab-df-convert {\n",
              "      background-color: #E8F0FE;\n",
              "      border: none;\n",
              "      border-radius: 50%;\n",
              "      cursor: pointer;\n",
              "      display: none;\n",
              "      fill: #1967D2;\n",
              "      height: 32px;\n",
              "      padding: 0 0 0 0;\n",
              "      width: 32px;\n",
              "    }\n",
              "\n",
              "    .colab-df-convert:hover {\n",
              "      background-color: #E2EBFA;\n",
              "      box-shadow: 0px 1px 2px rgba(60, 64, 67, 0.3), 0px 1px 3px 1px rgba(60, 64, 67, 0.15);\n",
              "      fill: #174EA6;\n",
              "    }\n",
              "\n",
              "    [theme=dark] .colab-df-convert {\n",
              "      background-color: #3B4455;\n",
              "      fill: #D2E3FC;\n",
              "    }\n",
              "\n",
              "    [theme=dark] .colab-df-convert:hover {\n",
              "      background-color: #434B5C;\n",
              "      box-shadow: 0px 1px 3px 1px rgba(0, 0, 0, 0.15);\n",
              "      filter: drop-shadow(0px 1px 2px rgba(0, 0, 0, 0.3));\n",
              "      fill: #FFFFFF;\n",
              "    }\n",
              "  </style>\n",
              "\n",
              "      <script>\n",
              "        const buttonEl =\n",
              "          document.querySelector('#df-ba69f122-1081-47b4-aa37-a1e8a97f57aa button.colab-df-convert');\n",
              "        buttonEl.style.display =\n",
              "          google.colab.kernel.accessAllowed ? 'block' : 'none';\n",
              "\n",
              "        async function convertToInteractive(key) {\n",
              "          const element = document.querySelector('#df-ba69f122-1081-47b4-aa37-a1e8a97f57aa');\n",
              "          const dataTable =\n",
              "            await google.colab.kernel.invokeFunction('convertToInteractive',\n",
              "                                                     [key], {});\n",
              "          if (!dataTable) return;\n",
              "\n",
              "          const docLinkHtml = 'Like what you see? Visit the ' +\n",
              "            '<a target=\"_blank\" href=https://colab.research.google.com/notebooks/data_table.ipynb>data table notebook</a>'\n",
              "            + ' to learn more about interactive tables.';\n",
              "          element.innerHTML = '';\n",
              "          dataTable['output_type'] = 'display_data';\n",
              "          await google.colab.output.renderOutput(dataTable, element);\n",
              "          const docLink = document.createElement('div');\n",
              "          docLink.innerHTML = docLinkHtml;\n",
              "          element.appendChild(docLink);\n",
              "        }\n",
              "      </script>\n",
              "    </div>\n",
              "  </div>\n",
              "  "
            ]
          },
          "metadata": {},
          "execution_count": 19
        }
      ]
    },
    {
      "cell_type": "code",
      "source": [
        "# Are there duplciates here too?\n",
        "cyber_cop.loc[:, 'text'].shape[0] - cyber_cop.loc[:, 'text'].unique().shape[0]"
      ],
      "metadata": {
        "colab": {
          "base_uri": "https://localhost:8080/"
        },
        "id": "YD3E9WCGeEye",
        "outputId": "54dc4d7d-3f64-4f67-8483-7b77462ebd86"
      },
      "execution_count": null,
      "outputs": [
        {
          "output_type": "execute_result",
          "data": {
            "text/plain": [
              "275"
            ]
          },
          "metadata": {},
          "execution_count": 20
        }
      ]
    },
    {
      "cell_type": "code",
      "source": [
        "# Removing the duplicates\n",
        "cyber_cop = cyber_cop.drop_duplicates(subset = 'text', keep = 'first')"
      ],
      "metadata": {
        "id": "zP1dAMWQe8rc"
      },
      "execution_count": null,
      "outputs": []
    },
    {
      "cell_type": "code",
      "source": [
        "cyber_X = cyber_cop.loc[:, 'text'] \n",
        "cyber_Y = cyber_cop.loc[:, 'label'] "
      ],
      "metadata": {
        "id": "qXP1mqJI-DfG"
      },
      "execution_count": null,
      "outputs": []
    },
    {
      "cell_type": "code",
      "source": [
        "# Need to figure out what the labels look like so we can recode them\n",
        "cyber_Y.head()"
      ],
      "metadata": {
        "colab": {
          "base_uri": "https://localhost:8080/"
        },
        "id": "HQtQpOql_Wil",
        "outputId": "4ecec6df-cc3a-4f79-aefc-f5cec8e1d37f"
      },
      "execution_count": null,
      "outputs": [
        {
          "output_type": "execute_result",
          "data": {
            "text/plain": [
              "0    REAL\n",
              "1    REAL\n",
              "2    FAKE\n",
              "3    REAL\n",
              "4    REAL\n",
              "Name: label, dtype: object"
            ]
          },
          "metadata": {},
          "execution_count": 23
        }
      ]
    },
    {
      "cell_type": "code",
      "source": [
        "# Recoding and making sure it works\n",
        "cyber_Y = cyber_Y.replace({'FAKE': 0, 'REAL': 1})\n",
        "cyber_Y.head()"
      ],
      "metadata": {
        "colab": {
          "base_uri": "https://localhost:8080/"
        },
        "id": "VbDN5Fz_ApW1",
        "outputId": "45941669-9a22-4d38-d2b3-b04745ce6f9a"
      },
      "execution_count": null,
      "outputs": [
        {
          "output_type": "execute_result",
          "data": {
            "text/plain": [
              "0    1\n",
              "1    1\n",
              "2    0\n",
              "3    1\n",
              "4    1\n",
              "Name: label, dtype: int64"
            ]
          },
          "metadata": {},
          "execution_count": 24
        }
      ]
    },
    {
      "cell_type": "code",
      "source": [
        "sns.set(rc = {\"figure.figsize\":(8, 8)}) \n",
        "sns.color_palette(\"coolwarm\", as_cmap = True) \n",
        "plt = sns.countplot(cyber_cop.loc[:,'label']) \n",
        "plt "
      ],
      "metadata": {
        "colab": {
          "base_uri": "https://localhost:8080/",
          "height": 575
        },
        "id": "SQ5ZLhWiC8cT",
        "outputId": "509eb52d-2b4f-4e8f-b9f1-711052ef5ead"
      },
      "execution_count": null,
      "outputs": [
        {
          "output_type": "stream",
          "name": "stderr",
          "text": [
            "/usr/local/lib/python3.7/dist-packages/seaborn/_decorators.py:43: FutureWarning: Pass the following variable as a keyword arg: x. From version 0.12, the only valid positional argument will be `data`, and passing other arguments without an explicit keyword will result in an error or misinterpretation.\n",
            "  FutureWarning\n"
          ]
        },
        {
          "output_type": "execute_result",
          "data": {
            "text/plain": [
              "<matplotlib.axes._subplots.AxesSubplot at 0x7f38286c3550>"
            ]
          },
          "metadata": {},
          "execution_count": 25
        },
        {
          "output_type": "display_data",
          "data": {
            "text/plain": [
              "<Figure size 576x576 with 1 Axes>"
            ],
            "image/png": "[encoded data removed]"
          },
          "metadata": {}
        }
      ]
    },
    {
      "cell_type": "markdown",
      "source": [
        "###RUCHI BHATIA Data Manipulation"
      ],
      "metadata": {
        "id": "YlzuZBlam-r1"
      }
    },
    {
      "cell_type": "code",
      "source": [
        "ruchi_bhatia.head()"
      ],
      "metadata": {
        "colab": {
          "base_uri": "https://localhost:8080/",
          "height": 580
        },
        "id": "INzE8v2znAXq",
        "outputId": "94d794be-4b88-4482-8502-93984a2526ec"
      },
      "execution_count": null,
      "outputs": [
        {
          "output_type": "execute_result",
          "data": {
            "text/plain": [
              "                 author                      published  \\\n",
              "0     Barracuda Brigade  2016-10-26T21:41:00.000+03:00   \n",
              "1  reasoning with facts  2016-10-29T08:47:11.259+03:00   \n",
              "2     Barracuda Brigade  2016-10-31T01:41:49.479+02:00   \n",
              "3                Fed Up  2016-11-01T05:22:00.000+02:00   \n",
              "4                Fed Up  2016-11-01T21:56:00.000+02:00   \n",
              "\n",
              "                                               title  \\\n",
              "0  muslims busted they stole millions in govt ben...   \n",
              "1  re why did attorney general loretta lynch plea...   \n",
              "2  breaking weiner cooperating with fbi on hillar...   \n",
              "3  pin drop speech by father of daughter kidnappe...   \n",
              "4  fantastic trumps  point plan to reform healthc...   \n",
              "\n",
              "                                                text language  \\\n",
              "0  print they should pay all the back all the mon...  english   \n",
              "1  why did attorney general loretta lynch plead t...  english   \n",
              "2  red state  \\nfox news sunday reported this mor...  english   \n",
              "3  email kayla mueller was a prisoner and torture...  english   \n",
              "4  email healthcare reform to make america great ...  english   \n",
              "\n",
              "              site_url                                       main_img_url  \\\n",
              "0  100percentfedup.com  http://bb4sp.com/wp-content/uploads/2016/10/Fu...   \n",
              "1  100percentfedup.com  http://bb4sp.com/wp-content/uploads/2016/10/Fu...   \n",
              "2  100percentfedup.com  http://bb4sp.com/wp-content/uploads/2016/10/Fu...   \n",
              "3  100percentfedup.com  http://100percentfedup.com/wp-content/uploads/...   \n",
              "4  100percentfedup.com  http://100percentfedup.com/wp-content/uploads/...   \n",
              "\n",
              "   type label                            title_without_stopwords  \\\n",
              "0  bias  Real        muslims busted stole millions govt benefits   \n",
              "1  bias  Real         attorney general loretta lynch plead fifth   \n",
              "2  bias  Real  breaking weiner cooperating fbi hillary email ...   \n",
              "3  bias  Real  pin drop speech father daughter kidnapped kill...   \n",
              "4  bias  Real  fantastic trumps point plan reform healthcare ...   \n",
              "\n",
              "                              text_without_stopwords  hasImage  \n",
              "0  print pay back money plus interest entire fami...       1.0  \n",
              "1  attorney general loretta lynch plead fifth bar...       1.0  \n",
              "2  red state fox news sunday reported morning ant...       1.0  \n",
              "3  email kayla mueller prisoner tortured isis cha...       1.0  \n",
              "4  email healthcare reform make america great sin...       1.0  "
            ],
            "text/html": [
              "\n",
              "  <div id=\"df-1f53ef1b-5783-449e-932c-0cefccc863bb\">\n",
              "    <div class=\"colab-df-container\">\n",
              "      <div>\n",
              "<style scoped>\n",
              "    .dataframe tbody tr th:only-of-type {\n",
              "        vertical-align: middle;\n",
              "    }\n",
              "\n",
              "    .dataframe tbody tr th {\n",
              "        vertical-align: top;\n",
              "    }\n",
              "\n",
              "    .dataframe thead th {\n",
              "        text-align: right;\n",
              "    }\n",
              "</style>\n",
              "<table border=\"1\" class=\"dataframe\">\n",
              "  <thead>\n",
              "    <tr style=\"text-align: right;\">\n",
              "      <th></th>\n",
              "      <th>author</th>\n",
              "      <th>published</th>\n",
              "      <th>title</th>\n",
              "      <th>text</th>\n",
              "      <th>language</th>\n",
              "      <th>site_url</th>\n",
              "      <th>main_img_url</th>\n",
              "      <th>type</th>\n",
              "      <th>label</th>\n",
              "      <th>title_without_stopwords</th>\n",
              "      <th>text_without_stopwords</th>\n",
              "      <th>hasImage</th>\n",
              "    </tr>\n",
              "  </thead>\n",
              "  <tbody>\n",
              "    <tr>\n",
              "      <th>0</th>\n",
              "      <td>Barracuda Brigade</td>\n",
              "      <td>2016-10-26T21:41:00.000+03:00</td>\n",
              "      <td>muslims busted they stole millions in govt ben...</td>\n",
              "      <td>print they should pay all the back all the mon...</td>\n",
              "      <td>english</td>\n",
              "      <td>100percentfedup.com</td>\n",
              "      <td>http://bb4sp.com/wp-content/uploads/2016/10/Fu...</td>\n",
              "      <td>bias</td>\n",
              "      <td>Real</td>\n",
              "      <td>muslims busted stole millions govt benefits</td>\n",
              "      <td>print pay back money plus interest entire fami...</td>\n",
              "      <td>1.0</td>\n",
              "    </tr>\n",
              "    <tr>\n",
              "      <th>1</th>\n",
              "      <td>reasoning with facts</td>\n",
              "      <td>2016-10-29T08:47:11.259+03:00</td>\n",
              "      <td>re why did attorney general loretta lynch plea...</td>\n",
              "      <td>why did attorney general loretta lynch plead t...</td>\n",
              "      <td>english</td>\n",
              "      <td>100percentfedup.com</td>\n",
              "      <td>http://bb4sp.com/wp-content/uploads/2016/10/Fu...</td>\n",
              "      <td>bias</td>\n",
              "      <td>Real</td>\n",
              "      <td>attorney general loretta lynch plead fifth</td>\n",
              "      <td>attorney general loretta lynch plead fifth bar...</td>\n",
              "      <td>1.0</td>\n",
              "    </tr>\n",
              "    <tr>\n",
              "      <th>2</th>\n",
              "      <td>Barracuda Brigade</td>\n",
              "      <td>2016-10-31T01:41:49.479+02:00</td>\n",
              "      <td>breaking weiner cooperating with fbi on hillar...</td>\n",
              "      <td>red state  \\nfox news sunday reported this mor...</td>\n",
              "      <td>english</td>\n",
              "      <td>100percentfedup.com</td>\n",
              "      <td>http://bb4sp.com/wp-content/uploads/2016/10/Fu...</td>\n",
              "      <td>bias</td>\n",
              "      <td>Real</td>\n",
              "      <td>breaking weiner cooperating fbi hillary email ...</td>\n",
              "      <td>red state fox news sunday reported morning ant...</td>\n",
              "      <td>1.0</td>\n",
              "    </tr>\n",
              "    <tr>\n",
              "      <th>3</th>\n",
              "      <td>Fed Up</td>\n",
              "      <td>2016-11-01T05:22:00.000+02:00</td>\n",
              "      <td>pin drop speech by father of daughter kidnappe...</td>\n",
              "      <td>email kayla mueller was a prisoner and torture...</td>\n",
              "      <td>english</td>\n",
              "      <td>100percentfedup.com</td>\n",
              "      <td>http://100percentfedup.com/wp-content/uploads/...</td>\n",
              "      <td>bias</td>\n",
              "      <td>Real</td>\n",
              "      <td>pin drop speech father daughter kidnapped kill...</td>\n",
              "      <td>email kayla mueller prisoner tortured isis cha...</td>\n",
              "      <td>1.0</td>\n",
              "    </tr>\n",
              "    <tr>\n",
              "      <th>4</th>\n",
              "      <td>Fed Up</td>\n",
              "      <td>2016-11-01T21:56:00.000+02:00</td>\n",
              "      <td>fantastic trumps  point plan to reform healthc...</td>\n",
              "      <td>email healthcare reform to make america great ...</td>\n",
              "      <td>english</td>\n",
              "      <td>100percentfedup.com</td>\n",
              "      <td>http://100percentfedup.com/wp-content/uploads/...</td>\n",
              "      <td>bias</td>\n",
              "      <td>Real</td>\n",
              "      <td>fantastic trumps point plan reform healthcare ...</td>\n",
              "      <td>email healthcare reform make america great sin...</td>\n",
              "      <td>1.0</td>\n",
              "    </tr>\n",
              "  </tbody>\n",
              "</table>\n",
              "</div>\n",
              "      <button class=\"colab-df-convert\" onclick=\"convertToInteractive('df-1f53ef1b-5783-449e-932c-0cefccc863bb')\"\n",
              "              title=\"Convert this dataframe to an interactive table.\"\n",
              "              style=\"display:none;\">\n",
              "        \n",
              "  <svg xmlns=\"http://www.w3.org/2000/svg\" height=\"24px\"viewBox=\"0 0 24 24\"\n",
              "       width=\"24px\">\n",
              "    <path d=\"M0 0h24v24H0V0z\" fill=\"none\"/>\n",
              "    <path d=\"M18.56 5.44l.94 2.06.94-2.06 2.06-.94-2.06-.94-.94-2.06-.94 2.06-2.06.94zm-11 1L8.5 8.5l.94-2.06 2.06-.94-2.06-.94L8.5 2.5l-.94 2.06-2.06.94zm10 10l.94 2.06.94-2.06 2.06-.94-2.06-.94-.94-2.06-.94 2.06-2.06.94z\"/><path d=\"M17.41 7.96l-1.37-1.37c-.4-.4-.92-.59-1.43-.59-.52 0-1.04.2-1.43.59L10.3 9.45l-7.72 7.72c-.78.78-.78 2.05 0 2.83L4 21.41c.39.39.9.59 1.41.59.51 0 1.02-.2 1.41-.59l7.78-7.78 2.81-2.81c.8-.78.8-2.07 0-2.86zM5.41 20L4 18.59l7.72-7.72 1.47 1.35L5.41 20z\"/>\n",
              "  </svg>\n",
              "      </button>\n",
              "      \n",
              "  <style>\n",
              "    .colab-df-container {\n",
              "      display:flex;\n",
              "      flex-wrap:wrap;\n",
              "      gap: 12px;\n",
              "    }\n",
              "\n",
              "    .colab-df-convert {\n",
              "      background-color: #E8F0FE;\n",
              "      border: none;\n",
              "      border-radius: 50%;\n",
              "      cursor: pointer;\n",
              "      display: none;\n",
              "      fill: #1967D2;\n",
              "      height: 32px;\n",
              "      padding: 0 0 0 0;\n",
              "      width: 32px;\n",
              "    }\n",
              "\n",
              "    .colab-df-convert:hover {\n",
              "      background-color: #E2EBFA;\n",
              "      box-shadow: 0px 1px 2px rgba(60, 64, 67, 0.3), 0px 1px 3px 1px rgba(60, 64, 67, 0.15);\n",
              "      fill: #174EA6;\n",
              "    }\n",
              "\n",
              "    [theme=dark] .colab-df-convert {\n",
              "      background-color: #3B4455;\n",
              "      fill: #D2E3FC;\n",
              "    }\n",
              "\n",
              "    [theme=dark] .colab-df-convert:hover {\n",
              "      background-color: #434B5C;\n",
              "      box-shadow: 0px 1px 3px 1px rgba(0, 0, 0, 0.15);\n",
              "      filter: drop-shadow(0px 1px 2px rgba(0, 0, 0, 0.3));\n",
              "      fill: #FFFFFF;\n",
              "    }\n",
              "  </style>\n",
              "\n",
              "      <script>\n",
              "        const buttonEl =\n",
              "          document.querySelector('#df-1f53ef1b-5783-449e-932c-0cefccc863bb button.colab-df-convert');\n",
              "        buttonEl.style.display =\n",
              "          google.colab.kernel.accessAllowed ? 'block' : 'none';\n",
              "\n",
              "        async function convertToInteractive(key) {\n",
              "          const element = document.querySelector('#df-1f53ef1b-5783-449e-932c-0cefccc863bb');\n",
              "          const dataTable =\n",
              "            await google.colab.kernel.invokeFunction('convertToInteractive',\n",
              "                                                     [key], {});\n",
              "          if (!dataTable) return;\n",
              "\n",
              "          const docLinkHtml = 'Like what you see? Visit the ' +\n",
              "            '<a target=\"_blank\" href=https://colab.research.google.com/notebooks/data_table.ipynb>data table notebook</a>'\n",
              "            + ' to learn more about interactive tables.';\n",
              "          element.innerHTML = '';\n",
              "          dataTable['output_type'] = 'display_data';\n",
              "          await google.colab.output.renderOutput(dataTable, element);\n",
              "          const docLink = document.createElement('div');\n",
              "          docLink.innerHTML = docLinkHtml;\n",
              "          element.appendChild(docLink);\n",
              "        }\n",
              "      </script>\n",
              "    </div>\n",
              "  </div>\n",
              "  "
            ]
          },
          "metadata": {},
          "execution_count": 26
        }
      ]
    },
    {
      "cell_type": "code",
      "source": [
        "ruchi_bhatia.loc[:, 'language'].unique()"
      ],
      "metadata": {
        "colab": {
          "base_uri": "https://localhost:8080/"
        },
        "id": "UX4u8sb245rB",
        "outputId": "acc18b71-337f-4c20-a500-e447e63de656"
      },
      "execution_count": null,
      "outputs": [
        {
          "output_type": "execute_result",
          "data": {
            "text/plain": [
              "array(['english', 'ignore', 'german', 'french', 'spanish', nan],\n",
              "      dtype=object)"
            ]
          },
          "metadata": {},
          "execution_count": 27
        }
      ]
    },
    {
      "cell_type": "code",
      "source": [
        "# Remove all non-english news stories\n",
        "ruchi_bhatia = ruchi_bhatia[ruchi_bhatia['language'] == 'english']"
      ],
      "metadata": {
        "id": "p5-WN4lT5DUU"
      },
      "execution_count": null,
      "outputs": []
    },
    {
      "cell_type": "code",
      "source": [
        "# Dropping all NA's in the set\n",
        "ruchi_bhatia = ruchi_bhatia.dropna(subset = ['text'])"
      ],
      "metadata": {
        "id": "RV1nvaTKqrVo"
      },
      "execution_count": null,
      "outputs": []
    },
    {
      "cell_type": "code",
      "source": [
        "# Are there any duplicates in this set?\n",
        "ruchi_bhatia.loc[:, 'text'].shape[0] - ruchi_bhatia.loc[:, 'text'].unique().shape[0]"
      ],
      "metadata": {
        "colab": {
          "base_uri": "https://localhost:8080/"
        },
        "id": "PEr3tb5GggBr",
        "outputId": "28a7a9cc-b3e2-41ac-acdd-035858eb80f1"
      },
      "execution_count": null,
      "outputs": [
        {
          "output_type": "execute_result",
          "data": {
            "text/plain": [
              "109"
            ]
          },
          "metadata": {},
          "execution_count": 30
        }
      ]
    },
    {
      "cell_type": "code",
      "source": [
        "# Removing the duplicates\n",
        "ruchi_bhatai = ruchi_bhatia.drop_duplicates(subset = 'text', keep = 'first')"
      ],
      "metadata": {
        "id": "TgxnTWfKhr4z"
      },
      "execution_count": null,
      "outputs": []
    },
    {
      "cell_type": "code",
      "source": [
        "# Recoding to make it better\n",
        "ruchi_X = ruchi_bhatia.loc[:, 'text'] \n",
        "ruchi_Y = ruchi_bhatia.loc[:, 'label'].replace({'Fake': 0, 'Real': 1})\n",
        "ruchi_Y.head()"
      ],
      "metadata": {
        "colab": {
          "base_uri": "https://localhost:8080/"
        },
        "id": "quF-U3fCnG_7",
        "outputId": "029c72b0-f68e-44b3-fa6b-f3d69d33cbee"
      },
      "execution_count": null,
      "outputs": [
        {
          "output_type": "execute_result",
          "data": {
            "text/plain": [
              "0    1\n",
              "1    1\n",
              "2    1\n",
              "3    1\n",
              "4    1\n",
              "Name: label, dtype: int64"
            ]
          },
          "metadata": {},
          "execution_count": 32
        }
      ]
    },
    {
      "cell_type": "code",
      "source": [
        "# Checkung for nulls\n",
        "ruchi_bhatia.isnull().sum()"
      ],
      "metadata": {
        "colab": {
          "base_uri": "https://localhost:8080/"
        },
        "id": "lECbmKH8rBFd",
        "outputId": "112ee2b1-9517-40b5-e070-406b5fb7b1b8"
      },
      "execution_count": null,
      "outputs": [
        {
          "output_type": "execute_result",
          "data": {
            "text/plain": [
              "author                     0\n",
              "published                  0\n",
              "title                      0\n",
              "text                       0\n",
              "language                   0\n",
              "site_url                   0\n",
              "main_img_url               0\n",
              "type                       0\n",
              "label                      0\n",
              "title_without_stopwords    1\n",
              "text_without_stopwords     4\n",
              "hasImage                   0\n",
              "dtype: int64"
            ]
          },
          "metadata": {},
          "execution_count": 33
        }
      ]
    },
    {
      "cell_type": "code",
      "source": [
        "sns.set(rc = {\"figure.figsize\":(8, 8)}) \n",
        "sns.color_palette(\"coolwarm\", as_cmap = True) \n",
        "plt = sns.countplot(ruchi_Y) \n",
        "plt "
      ],
      "metadata": {
        "colab": {
          "base_uri": "https://localhost:8080/",
          "height": 575
        },
        "id": "H--jLTG1nltt",
        "outputId": "cf4fa032-0567-4625-dc1e-ff9b927d02e2"
      },
      "execution_count": null,
      "outputs": [
        {
          "output_type": "stream",
          "name": "stderr",
          "text": [
            "/usr/local/lib/python3.7/dist-packages/seaborn/_decorators.py:43: FutureWarning: Pass the following variable as a keyword arg: x. From version 0.12, the only valid positional argument will be `data`, and passing other arguments without an explicit keyword will result in an error or misinterpretation.\n",
            "  FutureWarning\n"
          ]
        },
        {
          "output_type": "execute_result",
          "data": {
            "text/plain": [
              "<matplotlib.axes._subplots.AxesSubplot at 0x7f38286b5f90>"
            ]
          },
          "metadata": {},
          "execution_count": 34
        },
        {
          "output_type": "display_data",
          "data": {
            "text/plain": [
              "<Figure size 576x576 with 1 Axes>"
            ],
            "image/png": "[encoded data removed]"
          },
          "metadata": {}
        }
      ]
    },
    {
      "cell_type": "markdown",
      "source": [
        "##Splitting the Data"
      ],
      "metadata": {
        "id": "4zvB0l8yEQTh"
      }
    },
    {
      "cell_type": "code",
      "source": [
        "from sklearn.model_selection import train_test_split \n",
        "\n",
        "# Splitting by target and text\n",
        "news_X = news.loc[:, 'text'] \n",
        "news_Y = news.loc[:, 'target'] \n",
        "\n",
        "X_train, X_test, y_train, y_test = train_test_split(news_X, news_Y, test_size = 0.40, random_state = 42) "
      ],
      "metadata": {
        "id": "RYfPATylfaan"
      },
      "execution_count": null,
      "outputs": []
    },
    {
      "cell_type": "code",
      "source": [
        "X_train.shape, X_test.shape, y_train.shape, y_test.shape"
      ],
      "metadata": {
        "colab": {
          "base_uri": "https://localhost:8080/"
        },
        "id": "CQjP0rHvgvVL",
        "outputId": "d8f764c4-933a-4312-be4f-706447b9c4de"
      },
      "execution_count": null,
      "outputs": [
        {
          "output_type": "execute_result",
          "data": {
            "text/plain": [
              "((23187,), (15459,), (23187,), (15459,))"
            ]
          },
          "metadata": {},
          "execution_count": 36
        }
      ]
    },
    {
      "cell_type": "code",
      "source": [
        "# Target distribution check -- Training\n",
        "sns.set(rc = {\"figure.figsize\":(8, 8)}) \n",
        "sns.color_palette(\"coolwarm\", as_cmap = True) \n",
        "plt = sns.countplot(y_train) \n",
        "plt "
      ],
      "metadata": {
        "colab": {
          "base_uri": "https://localhost:8080/",
          "height": 575
        },
        "id": "OfFCfnYiE-aV",
        "outputId": "1974c41e-3149-451e-ceaf-704b50f8ae97"
      },
      "execution_count": null,
      "outputs": [
        {
          "output_type": "stream",
          "name": "stderr",
          "text": [
            "/usr/local/lib/python3.7/dist-packages/seaborn/_decorators.py:43: FutureWarning: Pass the following variable as a keyword arg: x. From version 0.12, the only valid positional argument will be `data`, and passing other arguments without an explicit keyword will result in an error or misinterpretation.\n",
            "  FutureWarning\n"
          ]
        },
        {
          "output_type": "execute_result",
          "data": {
            "text/plain": [
              "<matplotlib.axes._subplots.AxesSubplot at 0x7f3828631d50>"
            ]
          },
          "metadata": {},
          "execution_count": 37
        },
        {
          "output_type": "display_data",
          "data": {
            "text/plain": [
              "<Figure size 576x576 with 1 Axes>"
            ],
            "image/png": "[encoded data removed]"
          },
          "metadata": {}
        }
      ]
    },
    {
      "cell_type": "code",
      "source": [
        "# Target distribution check -- Test\n",
        "sns.set(rc = {\"figure.figsize\":(8, 8)}) \n",
        "sns.color_palette(\"coolwarm\", as_cmap = True) \n",
        "plt = sns.countplot(y_test) \n",
        "plt "
      ],
      "metadata": {
        "colab": {
          "base_uri": "https://localhost:8080/",
          "height": 575
        },
        "id": "i4vU6hNvFIai",
        "outputId": "b22fee5e-fb28-4644-f0b7-14fc9f38d62b"
      },
      "execution_count": null,
      "outputs": [
        {
          "output_type": "stream",
          "name": "stderr",
          "text": [
            "/usr/local/lib/python3.7/dist-packages/seaborn/_decorators.py:43: FutureWarning: Pass the following variable as a keyword arg: x. From version 0.12, the only valid positional argument will be `data`, and passing other arguments without an explicit keyword will result in an error or misinterpretation.\n",
            "  FutureWarning\n"
          ]
        },
        {
          "output_type": "execute_result",
          "data": {
            "text/plain": [
              "<matplotlib.axes._subplots.AxesSubplot at 0x7f3827c55590>"
            ]
          },
          "metadata": {},
          "execution_count": 38
        },
        {
          "output_type": "display_data",
          "data": {
            "text/plain": [
              "<Figure size 576x576 with 1 Axes>"
            ],
            "image/png": "[encoded data removed]"
          },
          "metadata": {}
        }
      ]
    },
    {
      "cell_type": "markdown",
      "source": [
        "##Multinomial Naive Bayes"
      ],
      "metadata": {
        "id": "q_RtA6keuEGF"
      }
    },
    {
      "cell_type": "code",
      "source": [
        "# Create token pattern\n",
        "import re\n",
        "\n",
        "re_tok = re.compile('[^a-zA-Z]')\n",
        "def tokenize(s): \n",
        "    return re_tok.sub(' ', s).split()"
      ],
      "metadata": {
        "id": "3q8nP_WWuRLa"
      },
      "execution_count": null,
      "outputs": []
    },
    {
      "cell_type": "code",
      "source": [
        "from sklearn.feature_extraction.text import CountVectorizer\n",
        "count_vect = CountVectorizer(tokenizer = tokenize)"
      ],
      "metadata": {
        "id": "R1Q2a5Tvfd0-"
      },
      "execution_count": null,
      "outputs": []
    },
    {
      "cell_type": "code",
      "source": [
        "# Transforms text in X to a bag of words representation\n",
        "tf_train = count_vect.fit_transform(X_train)\n",
        "tf_test = count_vect.transform(X_test)"
      ],
      "metadata": {
        "id": "0kNkfSepgyHQ"
      },
      "execution_count": null,
      "outputs": []
    },
    {
      "cell_type": "code",
      "source": [
        "# Get full vocabulary from X\n",
        "vocab = count_vect.get_feature_names()\n",
        "len(vocab)"
      ],
      "metadata": {
        "colab": {
          "base_uri": "https://localhost:8080/"
        },
        "id": "pTJVXcsbg9y8",
        "outputId": "9f0c4091-553d-423a-f64f-d6eb03536283"
      },
      "execution_count": null,
      "outputs": [
        {
          "output_type": "stream",
          "name": "stderr",
          "text": [
            "/usr/local/lib/python3.7/dist-packages/sklearn/utils/deprecation.py:87: FutureWarning: Function get_feature_names is deprecated; get_feature_names is deprecated in 1.0 and will be removed in 1.2. Please use get_feature_names_out instead.\n",
            "  warnings.warn(msg, category=FutureWarning)\n"
          ]
        },
        {
          "output_type": "execute_result",
          "data": {
            "text/plain": [
              "90424"
            ]
          },
          "metadata": {},
          "execution_count": 42
        }
      ]
    },
    {
      "cell_type": "code",
      "source": [
        "# Run multinomial NB on text data set\n",
        "from sklearn.naive_bayes import MultinomialNB\n",
        "model = MultinomialNB().fit(tf_train, y_train)"
      ],
      "metadata": {
        "id": "5EN-hLRrhwyc"
      },
      "execution_count": null,
      "outputs": []
    },
    {
      "cell_type": "code",
      "source": [
        "probs = model.predict_proba(tf_test)[:,1]\n",
        "predictions = model.predict(tf_test)"
      ],
      "metadata": {
        "id": "rxnfO701iTju"
      },
      "execution_count": null,
      "outputs": []
    },
    {
      "cell_type": "code",
      "source": [
        "# Performance Metrics\n",
        "from sklearn.metrics import accuracy_score, precision_score, recall_score\n",
        "from sklearn.metrics import confusion_matrix\n",
        "\n",
        "accuracy = accuracy_score(y_test, predictions)\n",
        "precision = precision_score(y_test, predictions)\n",
        "recall = recall_score(y_test, predictions)\n",
        "specificity = recall_score(y_test, predictions, pos_label = 0)\n",
        "\n",
        "print(\"\\n\")\n",
        "print(f\"Accuracy.........: {accuracy * 100.0:.4f}\")\n",
        "print(f\"Precision........: {precision * 100:.4f}\")\n",
        "print(f\"Recall...........: {recall * 100:.4f}\")\n",
        "print(f\"FP Rate...........: {(1-specificity) * 100:.4f}\")\n",
        "print(\"\\n\")\n",
        "\n",
        "cm = confusion_matrix(y_test, predictions)\n",
        "sns.heatmap(cm, annot = True, fmt = 'd', cbar = False, cmap = \"YlGnBu\");"
      ],
      "metadata": {
        "colab": {
          "base_uri": "https://localhost:8080/",
          "height": 628
        },
        "id": "S5hjPkG1jqc-",
        "outputId": "db846104-8062-433a-8b5e-7f26f17edd58"
      },
      "execution_count": null,
      "outputs": [
        {
          "output_type": "stream",
          "name": "stdout",
          "text": [
            "\n",
            "\n",
            "Accuracy.........: 95.2520\n",
            "Precision........: 95.5843\n",
            "Recall...........: 95.7867\n",
            "FP Rate...........: 5.4007\n",
            "\n",
            "\n"
          ]
        },
        {
          "output_type": "display_data",
          "data": {
            "text/plain": [
              "<Figure size 576x576 with 1 Axes>"
            ],
            "image/png": "[encoded data removed]"
          },
          "metadata": {}
        }
      ]
    },
    {
      "cell_type": "code",
      "source": [
        "# Running CYBER COP data through the model\n",
        "cyber_test = count_vect.transform(cyber_X)\n",
        "new_pred1 = model.predict(cyber_test)\n",
        "\n",
        "accuracy = accuracy_score(cyber_Y, new_pred1)\n",
        "precision = precision_score(cyber_Y, new_pred1)\n",
        "recall = recall_score(cyber_Y, new_pred1)\n",
        "specificity = recall_score(cyber_Y, new_pred1, pos_label = 0)\n",
        "\n",
        "print(\"\\n\")\n",
        "print(f\"Accuracy.........: {accuracy * 100.0:.4f}\")\n",
        "print(f\"Precision........: {precision * 100:.4f}\")\n",
        "print(f\"Recall...........: {recall * 100:.4f}\")\n",
        "print(f\"FP Rate...........: {(1-specificity) * 100:.4f}\")\n",
        "print(\"\\n\")\n",
        "\n",
        "cm = confusion_matrix(cyber_Y, new_pred1)\n",
        "sns.heatmap(cm, annot = True, fmt = 'd', cbar = False, cmap = \"YlGnBu\");"
      ],
      "metadata": {
        "colab": {
          "base_uri": "https://localhost:8080/",
          "height": 628
        },
        "id": "EG2sax8E3twN",
        "outputId": "f1f59c3f-98bd-4bdb-fbb7-84958865bf51"
      },
      "execution_count": null,
      "outputs": [
        {
          "output_type": "stream",
          "name": "stdout",
          "text": [
            "\n",
            "\n",
            "Accuracy.........: 56.6172\n",
            "Precision........: 61.2923\n",
            "Recall...........: 32.6865\n",
            "FP Rate...........: 20.0912\n",
            "\n",
            "\n"
          ]
        },
        {
          "output_type": "display_data",
          "data": {
            "text/plain": [
              "<Figure size 576x576 with 1 Axes>"
            ],
            "image/png": "[encoded data removed]"
          },
          "metadata": {}
        }
      ]
    },
    {
      "cell_type": "markdown",
      "source": [
        "Cyber Cop was a perfectly balanced data set, and yet the model did horribly using this data it had never seen before. There were no null values, and overall it had a usability rating of 2.35. We may attribute this to the low usability, but clearly this model isn't as flexible as it should be just from this one real world test."
      ],
      "metadata": {
        "id": "TabdBpZQDKPJ"
      }
    },
    {
      "cell_type": "code",
      "source": [
        "# Running RUCHI BHATIA data through the model\n",
        "ruchi_test = count_vect.transform(ruchi_X)\n",
        "new_pred2 = model.predict(ruchi_test)\n",
        "\n",
        "accuracy = accuracy_score(ruchi_Y, new_pred2)\n",
        "precision = precision_score(ruchi_Y, new_pred2)\n",
        "recall = recall_score(ruchi_Y, new_pred2)\n",
        "specificity = recall_score(ruchi_Y, new_pred2, pos_label = 0)\n",
        "\n",
        "print(\"\\n\")\n",
        "print(f\"Accuracy.........: {accuracy * 100.0:.4f}\")\n",
        "print(f\"Precision........: {precision * 100:.4f}\")\n",
        "print(f\"Recall...........: {recall * 100:.4f}\")\n",
        "print(f\"FP Rate...........: {(1-specificity) * 100:.4f}\")\n",
        "print(\"\\n\")\n",
        "\n",
        "cm = confusion_matrix(ruchi_Y, new_pred2)\n",
        "sns.heatmap(cm, annot = True, fmt = 'd', cbar = False, cmap = \"YlGnBu\");"
      ],
      "metadata": {
        "colab": {
          "base_uri": "https://localhost:8080/",
          "height": 628
        },
        "id": "X8iit1w0nxFY",
        "outputId": "dbcf7fc0-52c5-4e58-bc65-6bdf8d65c169"
      },
      "execution_count": null,
      "outputs": [
        {
          "output_type": "stream",
          "name": "stdout",
          "text": [
            "\n",
            "\n",
            "Accuracy.........: 59.9391\n",
            "Precision........: 45.2381\n",
            "Recall...........: 22.6790\n",
            "FP Rate...........: 16.9951\n",
            "\n",
            "\n"
          ]
        },
        {
          "output_type": "display_data",
          "data": {
            "text/plain": [
              "<Figure size 576x576 with 1 Axes>"
            ],
            "image/png": "[encoded data removed]"
          },
          "metadata": {}
        }
      ]
    },
    {
      "cell_type": "markdown",
      "source": [
        "##SVM"
      ],
      "metadata": {
        "id": "08vm--BguOLi"
      }
    },
    {
      "cell_type": "code",
      "source": [
        "from sklearn.pipeline import Pipeline\n",
        "from sklearn.feature_extraction.text import TfidfVectorizer\n",
        "from sklearn.svm import LinearSVC\n",
        "\n",
        "text_clf = Pipeline([('tfidf', TfidfVectorizer(tokenizer=tokenize)),\n",
        "                     ('clf', LinearSVC()),])\n",
        "\n",
        "# Feed the training data through the pipeline\n",
        "text_clf.fit(X_train, y_train) "
      ],
      "metadata": {
        "colab": {
          "base_uri": "https://localhost:8080/"
        },
        "id": "Ec-mGglVuOu0",
        "outputId": "de01a0c3-b431-4029-c48d-e7a0b93b86d3"
      },
      "execution_count": null,
      "outputs": [
        {
          "output_type": "execute_result",
          "data": {
            "text/plain": [
              "Pipeline(steps=[('tfidf',\n",
              "                 TfidfVectorizer(tokenizer=<function tokenize at 0x7f3827bc9560>)),\n",
              "                ('clf', LinearSVC())])"
            ]
          },
          "metadata": {},
          "execution_count": 48
        }
      ]
    },
    {
      "cell_type": "code",
      "source": [
        "# Form a prediction set\n",
        "predictions = text_clf.predict(X_test)"
      ],
      "metadata": {
        "id": "jKc_K-V9lsi1"
      },
      "execution_count": null,
      "outputs": []
    },
    {
      "cell_type": "code",
      "source": [
        "# Performance metrics\n",
        "accuracy = accuracy_score(y_test, predictions)\n",
        "precision = precision_score(y_test, predictions)\n",
        "recall = recall_score(y_test, predictions)\n",
        "specificity = recall_score(y_test, predictions, pos_label = 0)\n",
        "\n",
        "print(\"\\n\")\n",
        "print(f\"Accuracy.........: {accuracy * 100.0:.4f}\")\n",
        "print(f\"Precision........: {precision * 100:.4f}\")\n",
        "print(f\"Recall...........: {recall * 100:.4f}\")\n",
        "print(f\"FP Rate...........: {(1-specificity) * 100:.4f}\")\n",
        "print(\"\\n\")\n",
        "\n",
        "# Report the confusion matrix\n",
        "cm = confusion_matrix(y_test, predictions)\n",
        "sns.heatmap(cm, annot = True, fmt = 'd', cbar = False, cmap = \"YlGnBu\");"
      ],
      "metadata": {
        "colab": {
          "base_uri": "https://localhost:8080/",
          "height": 628
        },
        "id": "fJs0mvGdmEk5",
        "outputId": "23fc7e25-3c3d-4884-f057-17ee152b620b"
      },
      "execution_count": null,
      "outputs": [
        {
          "output_type": "stream",
          "name": "stdout",
          "text": [
            "\n",
            "\n",
            "Accuracy.........: 99.2626\n",
            "Precision........: 99.0750\n",
            "Recall...........: 99.5881\n",
            "FP Rate...........: 1.1347\n",
            "\n",
            "\n"
          ]
        },
        {
          "output_type": "display_data",
          "data": {
            "text/plain": [
              "<Figure size 576x576 with 1 Axes>"
            ],
            "image/png": "[encoded data removed]"
          },
          "metadata": {}
        }
      ]
    },
    {
      "cell_type": "code",
      "source": [
        "# Running on the CYBER COP data\n",
        "cyber_pred = text_clf.predict(cyber_X)\n",
        "\n",
        "# Performance metrics\n",
        "accuracy = accuracy_score(cyber_Y, cyber_pred)\n",
        "precision = precision_score(cyber_Y, cyber_pred)\n",
        "recall = recall_score(cyber_Y, cyber_pred)\n",
        "specificity = recall_score(cyber_Y, cyber_pred, pos_label = 0)\n",
        "\n",
        "print(\"\\n\")\n",
        "print(f\"Accuracy.........: {accuracy * 100.0:.4f}\")\n",
        "print(f\"Precision........: {precision * 100:.4f}\")\n",
        "print(f\"Recall...........: {recall * 100:.4f}\")\n",
        "print(f\"FP Rate...........: {(1-specificity) * 100:.4f}\")\n",
        "print(\"\\n\")\n",
        "\n",
        "#Report the confusion matrix\n",
        "cm = confusion_matrix(cyber_Y, cyber_pred)\n",
        "sns.heatmap(cm, annot = True, fmt = 'd', cbar = False, cmap = \"YlGnBu\");"
      ],
      "metadata": {
        "colab": {
          "base_uri": "https://localhost:8080/",
          "height": 628
        },
        "id": "zlB5hdYLDtgN",
        "outputId": "6ded8fa0-9cb6-417e-deae-490b06053641"
      },
      "execution_count": null,
      "outputs": [
        {
          "output_type": "stream",
          "name": "stdout",
          "text": [
            "\n",
            "\n",
            "Accuracy.........: 59.2904\n",
            "Precision........: 77.7070\n",
            "Recall...........: 24.4898\n",
            "FP Rate...........: 6.8382\n",
            "\n",
            "\n"
          ]
        },
        {
          "output_type": "display_data",
          "data": {
            "text/plain": [
              "<Figure size 576x576 with 1 Axes>"
            ],
            "image/png": "[encoded data removed]"
          },
          "metadata": {}
        }
      ]
    },
    {
      "cell_type": "code",
      "source": [
        "# Running on the RUCHI BHATIA data\n",
        "ruchi_pred = text_clf.predict(ruchi_X)\n",
        "\n",
        "# Performance metrics\n",
        "accuracy = accuracy_score(ruchi_Y, ruchi_pred)\n",
        "precision = precision_score(ruchi_Y, ruchi_pred)\n",
        "recall = recall_score(ruchi_Y, ruchi_pred)\n",
        "specificity = recall_score(ruchi_Y, ruchi_pred, pos_label = 0)\n",
        "\n",
        "print(\"\\n\")\n",
        "print(f\"Accuracy.........: {accuracy * 100.0:.4f}\")\n",
        "print(f\"Precision........: {precision * 100:.4f}\")\n",
        "print(f\"Recall...........: {recall * 100:.4f}\")\n",
        "print(f\"FP Rate...........: {(1-specificity) * 100:.4f}\")\n",
        "print(\"\\n\")\n",
        "\n",
        "# Report the confusion matrix\n",
        "cm = confusion_matrix(ruchi_Y, ruchi_pred)\n",
        "sns.heatmap(cm, annot = True, fmt = 'd', cbar = False, cmap = \"YlGnBu\");"
      ],
      "metadata": {
        "colab": {
          "base_uri": "https://localhost:8080/",
          "height": 628
        },
        "id": "XM9RIMqEoujB",
        "outputId": "0473a1dd-9773-44b3-cef1-2ae0869af0d8"
      },
      "execution_count": null,
      "outputs": [
        {
          "output_type": "stream",
          "name": "stdout",
          "text": [
            "\n",
            "\n",
            "Accuracy.........: 62.2211\n",
            "Precision........: 53.1034\n",
            "Recall...........: 10.2122\n",
            "FP Rate...........: 5.5829\n",
            "\n",
            "\n"
          ]
        },
        {
          "output_type": "display_data",
          "data": {
            "text/plain": [
              "<Figure size 576x576 with 1 Axes>"
            ],
            "image/png": "[encoded data removed]"
          },
          "metadata": {}
        }
      ]
    },
    {
      "cell_type": "markdown",
      "source": [
        "Cyber Cop was a perfectly balanced data set, and yet the model did horribly using this data it had never seen before. There were no null values, and overall it had a usability rating of 2.35. We may attribute this to the low usability, but clearly this model isn't as flexible as it should be just from this one real world test.\n",
        "\n",
        "Once again, this model despite doing very well originally cannot handle this data set, though it performs slightly better than our last model."
      ],
      "metadata": {
        "id": "7ZbU5PvEEShl"
      }
    },
    {
      "cell_type": "markdown",
      "source": [
        "###SVM with Tuned Margin"
      ],
      "metadata": {
        "id": "WcbkJVlnCw2b"
      }
    },
    {
      "cell_type": "code",
      "source": [
        "# Hand-designed parameter tuning for margin only\n",
        "from scipy.stats.stats import ModeResult\n",
        "from sklearn.model_selection import GridSearchCV\n",
        "\n",
        "# C parameter softening the margin\n",
        "margins = [1, 5, 10, 15, 20]\n",
        "\n",
        "# Storing all the best predcition, accuracy, and model found below\n",
        "best_pred = 0\n",
        "best_acc = 0\n",
        "best_model = 0\n",
        "\n",
        "for i in margins:\n",
        "  text_clf = Pipeline([('tfidf', TfidfVectorizer(tokenizer=tokenize)),\n",
        "                     ('clf', LinearSVC(C = i)),])\n",
        "  model = text_clf.fit(X_train, y_train)\n",
        "  pred = text_clf.predict(X_test)\n",
        "\n",
        "  this_acc = accuracy_score(y_test, pred)\n",
        "  print('C = ', i)\n",
        "  print(this_acc)\n",
        "\n",
        "  if this_acc > best_acc:\n",
        "    best_acc = this_acc\n",
        "    best_pred = pred\n",
        "    best_model = model"
      ],
      "metadata": {
        "colab": {
          "base_uri": "https://localhost:8080/"
        },
        "id": "vWQRkT33C3Ny",
        "outputId": "2211920b-09aa-480c-d95f-238f4de12640"
      },
      "execution_count": null,
      "outputs": [
        {
          "output_type": "stream",
          "name": "stdout",
          "text": [
            "C =  1\n",
            "0.9926256549582767\n",
            "C =  5\n",
            "0.9932078400931497\n",
            "C =  10\n",
            "0.9932725273303578\n",
            "C =  15\n",
            "0.9933372145675659\n",
            "C =  20\n",
            "0.9932078400931497\n"
          ]
        }
      ]
    },
    {
      "cell_type": "code",
      "source": [
        "# Printing out the model with the best configuration that produces the best accuracy\n",
        "print(best_model)\n",
        "print(best_acc)"
      ],
      "metadata": {
        "colab": {
          "base_uri": "https://localhost:8080/"
        },
        "id": "0ZvyTq_QC-W2",
        "outputId": "be58fa08-b67f-4413-df6f-bd41d4a7e908"
      },
      "execution_count": null,
      "outputs": [
        {
          "output_type": "stream",
          "name": "stdout",
          "text": [
            "Pipeline(steps=[('tfidf',\n",
            "                 TfidfVectorizer(tokenizer=<function tokenize at 0x7f3827bc9560>)),\n",
            "                ('clf', LinearSVC(C=15))])\n",
            "0.9933372145675659\n"
          ]
        }
      ]
    },
    {
      "cell_type": "code",
      "source": [
        "# Performance metrics\n",
        "accuracy = accuracy_score(y_test, best_pred)\n",
        "precision = precision_score(y_test, best_pred)\n",
        "recall = recall_score(y_test, best_pred)\n",
        "specificity = recall_score(y_test, best_pred, pos_label = 0)\n",
        "\n",
        "print(\"\\n\")\n",
        "print(f\"Accuracy.........: {accuracy * 100.0:.4f}\")\n",
        "print(f\"Precision........: {precision * 100:.4f}\")\n",
        "print(f\"Recall...........: {recall * 100:.4f}\")\n",
        "print(f\"FP Rate...........: {(1-specificity) * 100:.4f}\")\n",
        "print(\"\\n\")\n",
        "\n",
        "#Report the confusion matrix\n",
        "cm = confusion_matrix(y_test, best_pred)\n",
        "sns.heatmap(cm, annot = True, fmt = 'd', cbar = False, cmap = \"YlGnBu\");"
      ],
      "metadata": {
        "colab": {
          "base_uri": "https://localhost:8080/",
          "height": 628
        },
        "id": "MnUBjR_vFuRR",
        "outputId": "62162cc2-db75-4eed-ae58-c674099ee074"
      },
      "execution_count": null,
      "outputs": [
        {
          "output_type": "stream",
          "name": "stdout",
          "text": [
            "\n",
            "\n",
            "Accuracy.........: 99.3337\n",
            "Precision........: 99.2028\n",
            "Recall...........: 99.5881\n",
            "FP Rate...........: 0.9767\n",
            "\n",
            "\n"
          ]
        },
        {
          "output_type": "display_data",
          "data": {
            "text/plain": [
              "<Figure size 576x576 with 1 Axes>"
            ],
            "image/png": "[encoded data removed]"
          },
          "metadata": {}
        }
      ]
    },
    {
      "cell_type": "code",
      "source": [
        "# Running on the CYBER COP data\n",
        "cyber_pred = best_model.predict(cyber_X)\n",
        "\n",
        "# Performance metrics\n",
        "accuracy = accuracy_score(cyber_Y, cyber_pred)\n",
        "precision = precision_score(cyber_Y, cyber_pred)\n",
        "recall = recall_score(cyber_Y, cyber_pred)\n",
        "specificity = recall_score(cyber_Y, cyber_pred, pos_label = 0)\n",
        "\n",
        "print(\"\\n\")\n",
        "print(f\"Accuracy.........: {accuracy * 100.0:.4f}\")\n",
        "print(f\"Precision........: {precision * 100:.4f}\")\n",
        "print(f\"Recall...........: {recall * 100:.4f}\")\n",
        "print(f\"FP Rate...........: {(1-specificity) * 100:.4f}\")\n",
        "print(\"\\n\")\n",
        "\n",
        "# Report the confusion matrix\n",
        "cm = confusion_matrix(cyber_Y, cyber_pred)\n",
        "sns.heatmap(cm, annot = True, fmt = 'd', cbar = False, cmap = \"YlGnBu\");"
      ],
      "metadata": {
        "colab": {
          "base_uri": "https://localhost:8080/",
          "height": 628
        },
        "id": "MDwiYzEERwPT",
        "outputId": "66d62551-1e32-4231-8708-eaa373c920f3"
      },
      "execution_count": null,
      "outputs": [
        {
          "output_type": "stream",
          "name": "stdout",
          "text": [
            "\n",
            "\n",
            "Accuracy.........: 59.0264\n",
            "Precision........: 78.1111\n",
            "Recall...........: 23.5196\n",
            "FP Rate...........: 6.4148\n",
            "\n",
            "\n"
          ]
        },
        {
          "output_type": "display_data",
          "data": {
            "text/plain": [
              "<Figure size 576x576 with 1 Axes>"
            ],
            "image/png": "[encoded data removed]"
          },
          "metadata": {}
        }
      ]
    },
    {
      "cell_type": "code",
      "source": [
        "# Running on the RUCHI BHATIA data\n",
        "ruchi_pred = best_model.predict(ruchi_X)\n",
        "\n",
        "# Performance metrics\n",
        "accuracy = accuracy_score(ruchi_Y, ruchi_pred)\n",
        "precision = precision_score(ruchi_Y, ruchi_pred)\n",
        "recall = recall_score(ruchi_Y, ruchi_pred)\n",
        "specificity = recall_score(ruchi_Y, ruchi_pred, pos_label = 0)\n",
        "\n",
        "print(\"\\n\")\n",
        "print(f\"Accuracy.........: {accuracy * 100.0:.4f}\")\n",
        "print(f\"Precision........: {precision * 100:.4f}\")\n",
        "print(f\"Recall...........: {recall * 100:.4f}\")\n",
        "print(f\"FP Rate...........: {(1-specificity) * 100:.4f}\")\n",
        "print(\"\\n\")\n",
        "\n",
        "# Report the confusion matrix\n",
        "cm = confusion_matrix(ruchi_Y, ruchi_pred)\n",
        "sns.heatmap(cm, annot = True, fmt = 'd', cbar = False, cmap = \"YlGnBu\");"
      ],
      "metadata": {
        "colab": {
          "base_uri": "https://localhost:8080/",
          "height": 628
        },
        "id": "ZnqSwIbQSBxK",
        "outputId": "292fa94d-24c2-47c3-ff26-18ed9ed55906"
      },
      "execution_count": null,
      "outputs": [
        {
          "output_type": "stream",
          "name": "stdout",
          "text": [
            "\n",
            "\n",
            "Accuracy.........: 62.1197\n",
            "Precision........: 52.5547\n",
            "Recall...........: 9.5491\n",
            "FP Rate...........: 5.3366\n",
            "\n",
            "\n"
          ]
        },
        {
          "output_type": "display_data",
          "data": {
            "text/plain": [
              "<Figure size 576x576 with 1 Axes>"
            ],
            "image/png": "[encoded data removed]"
          },
          "metadata": {}
        }
      ]
    },
    {
      "cell_type": "markdown",
      "source": [
        "This unfortunately did slightly worse, even though we tuned it"
      ],
      "metadata": {
        "id": "7PnEo6mhSYny"
      }
    },
    {
      "cell_type": "markdown",
      "source": [
        "##Decision Tree"
      ],
      "metadata": {
        "id": "VtcUncFT2Vze"
      }
    },
    {
      "cell_type": "code",
      "source": [
        "from sklearn.tree import DecisionTreeClassifier\n",
        "from sklearn.pipeline import Pipeline\n",
        "from sklearn.feature_extraction.text import TfidfTransformer\n",
        "from sklearn.feature_extraction.text import CountVectorizer\n",
        "\n",
        "# Vectorizing and applying TF-IDF\n",
        "pipe = Pipeline([('vect', CountVectorizer()),\n",
        "                 ('tfidf', TfidfTransformer()),\n",
        "                 ('model', DecisionTreeClassifier(criterion= 'entropy',\n",
        "                                           max_depth = 20, \n",
        "                                           splitter='best', \n",
        "                                           random_state=42))])\n",
        "# Fitting the model\n",
        "model = pipe.fit(X_train, y_train)\n",
        "\n",
        "# Getting the predcitions\n",
        "predictions = model.predict(X_test)"
      ],
      "metadata": {
        "id": "2ak_QqXX2bk3"
      },
      "execution_count": null,
      "outputs": []
    },
    {
      "cell_type": "code",
      "source": [
        "from sklearn.metrics import accuracy_score, precision_score, recall_score\n",
        "from sklearn.metrics import confusion_matrix\n",
        "\n",
        "# Performance metrics\n",
        "accuracy = accuracy_score(y_test, predictions)\n",
        "precision = precision_score(y_test, predictions)\n",
        "recall = recall_score(y_test, predictions)\n",
        "specificity = recall_score(y_test, predictions, pos_label = 0)\n",
        "\n",
        "print(\"\\n\")\n",
        "print(f\"Accuracy.........: {accuracy * 100.0:.4f}\")\n",
        "print(f\"Precision........: {precision * 100:.4f}\")\n",
        "print(f\"Recall...........: {recall * 100:.4f}\")\n",
        "print(f\"FP Rate...........: {(1-specificity) * 100:.4f}\")\n",
        "print(\"\\n\")\n",
        "\n",
        "# Report the confusion matrix\n",
        "cm = confusion_matrix(y_test, predictions)\n",
        "sns.heatmap(cm, annot = True, fmt = 'd', cbar = False, cmap = \"YlGnBu\");"
      ],
      "metadata": {
        "colab": {
          "base_uri": "https://localhost:8080/",
          "height": 628
        },
        "id": "MV6Tx29E3tDa",
        "outputId": "10b8f06e-94e3-4591-f16f-48886e1ed49c"
      },
      "execution_count": null,
      "outputs": [
        {
          "output_type": "stream",
          "name": "stdout",
          "text": [
            "\n",
            "\n",
            "Accuracy.........: 99.4760\n",
            "Precision........: 99.4826\n",
            "Recall...........: 99.5646\n",
            "FP Rate...........: 0.6320\n",
            "\n",
            "\n"
          ]
        },
        {
          "output_type": "display_data",
          "data": {
            "text/plain": [
              "<Figure size 576x576 with 1 Axes>"
            ],
            "image/png": "[encoded data removed]"
          },
          "metadata": {}
        }
      ]
    },
    {
      "cell_type": "code",
      "source": [
        "# Running on the CYBER COP data\n",
        "cyber_pred = model.predict(cyber_X)\n",
        "\n",
        "# Performance metrics\n",
        "accuracy = accuracy_score(cyber_Y, cyber_pred)\n",
        "precision = precision_score(cyber_Y, cyber_pred)\n",
        "recall = recall_score(cyber_Y, cyber_pred)\n",
        "specificity = recall_score(cyber_Y, cyber_pred, pos_label = 0)\n",
        "\n",
        "print(\"\\n\")\n",
        "print(f\"Accuracy.........: {accuracy * 100.0:.4f}\")\n",
        "print(f\"Precision........: {precision * 100:.4f}\")\n",
        "print(f\"Recall...........: {recall * 100:.4f}\")\n",
        "print(f\"FP Rate...........: {(1-specificity) * 100:.4f}\")\n",
        "print(\"\\n\")\n",
        "\n",
        "# Report the confusion matrix\n",
        "cm = confusion_matrix(cyber_Y, cyber_pred)\n",
        "sns.heatmap(cm, annot = True, fmt = 'd', cbar = False, cmap = \"YlGnBu\");"
      ],
      "metadata": {
        "colab": {
          "base_uri": "https://localhost:8080/",
          "height": 628
        },
        "id": "tXeDrcPJWp-d",
        "outputId": "37dbad2e-1cf3-43db-fc86-234826b58808"
      },
      "execution_count": null,
      "outputs": [
        {
          "output_type": "stream",
          "name": "stdout",
          "text": [
            "\n",
            "\n",
            "Accuracy.........: 51.3531\n",
            "Precision........: 61.3260\n",
            "Recall...........: 3.7136\n",
            "FP Rate...........: 2.2794\n",
            "\n",
            "\n"
          ]
        },
        {
          "output_type": "display_data",
          "data": {
            "text/plain": [
              "<Figure size 576x576 with 1 Axes>"
            ],
            "image/png": "[encoded data removed]"
          },
          "metadata": {}
        }
      ]
    },
    {
      "cell_type": "markdown",
      "source": [
        "Performs the worst, classifies almost everything as false. The data set I think is too quirky for this, but also the models don't seem to work"
      ],
      "metadata": {
        "id": "ppOZpT4vZiJR"
      }
    },
    {
      "cell_type": "code",
      "source": [
        "# Running on the RUCHI BHATAI data\n",
        "ruchi_pred = model.predict(ruchi_X)\n",
        "\n",
        "# Performance metrics\n",
        "accuracy = accuracy_score(ruchi_Y, ruchi_pred)\n",
        "precision = precision_score(ruchi_Y, ruchi_pred)\n",
        "recall = recall_score(ruchi_Y, ruchi_pred)\n",
        "specificity = recall_score(ruchi_Y, ruchi_pred, pos_label = 0)\n",
        "\n",
        "print(\"\\n\")\n",
        "print(f\"Accuracy.........: {accuracy * 100.0:.4f}\")\n",
        "print(f\"Precision........: {precision * 100:.4f}\")\n",
        "print(f\"Recall...........: {recall * 100:.4f}\")\n",
        "print(f\"FP Rate...........: {(1-specificity) * 100:.4f}\")\n",
        "print(\"\\n\")\n",
        "\n",
        "# Report the confusion matrix\n",
        "cm = confusion_matrix(ruchi_Y, ruchi_pred)\n",
        "sns.heatmap(cm, annot = True, fmt = 'd', cbar = False, cmap = \"YlGnBu\");"
      ],
      "metadata": {
        "colab": {
          "base_uri": "https://localhost:8080/",
          "height": 628
        },
        "id": "iWtx34LnsXAF",
        "outputId": "465d54a6-8218-4581-b5a1-a993be2e0ac9"
      },
      "execution_count": null,
      "outputs": [
        {
          "output_type": "stream",
          "name": "stdout",
          "text": [
            "\n",
            "\n",
            "Accuracy.........: 62.2718\n",
            "Precision........: 60.8696\n",
            "Recall...........: 3.7135\n",
            "FP Rate...........: 1.4778\n",
            "\n",
            "\n"
          ]
        },
        {
          "output_type": "display_data",
          "data": {
            "text/plain": [
              "<Figure size 576x576 with 1 Axes>"
            ],
            "image/png": "[encoded data removed]"
          },
          "metadata": {}
        }
      ]
    },
    {
      "cell_type": "markdown",
      "source": [
        "##LSTM"
      ],
      "metadata": {
        "id": "TmJSe_oG5jXl"
      }
    },
    {
      "cell_type": "code",
      "source": [
        "from keras.preprocessing import sequence\n",
        "from keras.preprocessing.text import Tokenizer\n",
        "\n",
        "# For necessary padding\n",
        "max_words = 1000\n",
        "max_len = 150\n",
        "\n",
        "#tokenizer = Tokenizer(num_words = max_words)\n",
        "tokenizer = Tokenizer(lower = True, split = ' ', num_words = max_words)\n",
        "tokenizer.fit_on_texts(X_train)\n",
        "\n",
        "X_train_sequences = tokenizer.texts_to_sequences(X_train)\n",
        "X_train_sequences_matrix = sequence.pad_sequences(X_train_sequences, maxlen = max_len)"
      ],
      "metadata": {
        "id": "ovknf-PZ5k23"
      },
      "execution_count": null,
      "outputs": []
    },
    {
      "cell_type": "code",
      "source": [
        "from keras.models import Model\n",
        "from keras.layers import LSTM, Activation, Dense, Dropout, Input, Embedding\n",
        "\n",
        "def RNN():\n",
        "    inputs = Input(name = 'inputs',shape = [max_len])\n",
        "    layer = Embedding(max_words, 50, input_length = max_len)(inputs)\n",
        "    layer = LSTM(64)(layer)\n",
        "    layer = Dense(256, name = 'FC1')(layer)\n",
        "    layer = Activation('relu')(layer)\n",
        "    layer = Dropout(0.5)(layer)\n",
        "    layer = Dense(1, name = 'out_layer')(layer)\n",
        "    layer = Activation('sigmoid')(layer)\n",
        "    model = Model(inputs = inputs, outputs = layer)\n",
        "    return model"
      ],
      "metadata": {
        "id": "GAko1Sah6JIE"
      },
      "execution_count": null,
      "outputs": []
    },
    {
      "cell_type": "code",
      "source": [
        "model = RNN()\n",
        "model.summary()\n",
        "model.compile(loss = 'binary_crossentropy', optimizer = 'adam', metrics = ['accuracy'])"
      ],
      "metadata": {
        "id": "_VCPV0bl6uf-",
        "colab": {
          "base_uri": "https://localhost:8080/"
        },
        "outputId": "d7327f9a-62a7-4a5c-804d-4eaf7a47b2b0"
      },
      "execution_count": null,
      "outputs": [
        {
          "output_type": "stream",
          "name": "stdout",
          "text": [
            "Model: \"model\"\n",
            "_________________________________________________________________\n",
            " Layer (type)                Output Shape              Param #   \n",
            "=================================================================\n",
            " inputs (InputLayer)         [(None, 150)]             0         \n",
            "                                                                 \n",
            " embedding (Embedding)       (None, 150, 50)           50000     \n",
            "                                                                 \n",
            " lstm (LSTM)                 (None, 64)                29440     \n",
            "                                                                 \n",
            " FC1 (Dense)                 (None, 256)               16640     \n",
            "                                                                 \n",
            " activation (Activation)     (None, 256)               0         \n",
            "                                                                 \n",
            " dropout (Dropout)           (None, 256)               0         \n",
            "                                                                 \n",
            " out_layer (Dense)           (None, 1)                 257       \n",
            "                                                                 \n",
            " activation_1 (Activation)   (None, 1)                 0         \n",
            "                                                                 \n",
            "=================================================================\n",
            "Total params: 96,337\n",
            "Trainable params: 96,337\n",
            "Non-trainable params: 0\n",
            "_________________________________________________________________\n"
          ]
        }
      ]
    },
    {
      "cell_type": "code",
      "source": [
        "from keras.callbacks import EarlyStopping\n",
        "early_stop = EarlyStopping(monitor = 'val_loss', patience = 2)\n",
        "\n",
        "model.fit(X_train_sequences_matrix, y_train,\n",
        "          epochs = 10,\n",
        "          batch_size = 128,\n",
        "          validation_split = 0.2,\n",
        "          callbacks = [early_stop])"
      ],
      "metadata": {
        "id": "Kl4xIEZS64A8",
        "colab": {
          "base_uri": "https://localhost:8080/"
        },
        "outputId": "e24ccd1e-a6e2-40bd-807a-1b939c338dd9"
      },
      "execution_count": null,
      "outputs": [
        {
          "output_type": "stream",
          "name": "stdout",
          "text": [
            "Epoch 1/10\n",
            "145/145 [==============================] - 29s 183ms/step - loss: 0.2080 - accuracy: 0.9233 - val_loss: 0.0690 - val_accuracy: 0.9782\n",
            "Epoch 2/10\n",
            "145/145 [==============================] - 27s 183ms/step - loss: 0.0437 - accuracy: 0.9867 - val_loss: 0.0439 - val_accuracy: 0.9862\n",
            "Epoch 3/10\n",
            "145/145 [==============================] - 26s 178ms/step - loss: 0.0377 - accuracy: 0.9879 - val_loss: 0.0485 - val_accuracy: 0.9825\n",
            "Epoch 4/10\n",
            "145/145 [==============================] - 26s 181ms/step - loss: 0.0349 - accuracy: 0.9880 - val_loss: 0.0479 - val_accuracy: 0.9853\n"
          ]
        },
        {
          "output_type": "execute_result",
          "data": {
            "text/plain": [
              "<keras.callbacks.History at 0x7f37b7685a90>"
            ]
          },
          "metadata": {},
          "execution_count": 65
        }
      ]
    },
    {
      "cell_type": "code",
      "source": [
        "test_sequences = tokenizer.texts_to_sequences(X_test)\n",
        "test_sequences_matrix = sequence.pad_sequences(test_sequences, maxlen = max_len)"
      ],
      "metadata": {
        "id": "6AP7PBMs9WG1"
      },
      "execution_count": null,
      "outputs": []
    },
    {
      "cell_type": "code",
      "source": [
        "model.evaluate(test_sequences_matrix, y_test)"
      ],
      "metadata": {
        "id": "ScGpantc9gnY",
        "colab": {
          "base_uri": "https://localhost:8080/"
        },
        "outputId": "a9436c8a-0001-48ed-a62b-418f6735ce04"
      },
      "execution_count": null,
      "outputs": [
        {
          "output_type": "stream",
          "name": "stdout",
          "text": [
            "484/484 [==============================] - 10s 20ms/step - loss: 0.0514 - accuracy: 0.9851\n"
          ]
        },
        {
          "output_type": "execute_result",
          "data": {
            "text/plain": [
              "[0.05143437162041664, 0.9851219058036804]"
            ]
          },
          "metadata": {},
          "execution_count": 67
        }
      ]
    },
    {
      "cell_type": "markdown",
      "source": [
        "###Cyber Cop Data"
      ],
      "metadata": {
        "id": "HFojeFjllGOZ"
      }
    },
    {
      "cell_type": "code",
      "source": [
        "cyber_sequences = tokenizer.texts_to_sequences(cyber_X)\n",
        "cyber_sequences_matrix = sequence.pad_sequences(cyber_sequences, maxlen = max_len)\n",
        "model.evaluate(cyber_sequences_matrix, cyber_Y)"
      ],
      "metadata": {
        "colab": {
          "base_uri": "https://localhost:8080/"
        },
        "id": "X5H0ACh_lDFY",
        "outputId": "2df424de-299c-492f-ea95-7f20f02ddabe"
      },
      "execution_count": null,
      "outputs": [
        {
          "output_type": "stream",
          "name": "stdout",
          "text": [
            "190/190 [==============================] - 4s 21ms/step - loss: 1.8311 - accuracy: 0.5979\n"
          ]
        },
        {
          "output_type": "execute_result",
          "data": {
            "text/plain": [
              "[1.83110511302948, 0.5978547930717468]"
            ]
          },
          "metadata": {},
          "execution_count": 68
        }
      ]
    },
    {
      "cell_type": "markdown",
      "source": [
        "###Ruchi Data"
      ],
      "metadata": {
        "id": "u9rnUmNRs4mW"
      }
    },
    {
      "cell_type": "code",
      "source": [
        "ruchi_sequences = tokenizer.texts_to_sequences(ruchi_X)\n",
        "ruchi_sequences_matrix = sequence.pad_sequences(ruchi_sequences, maxlen = max_len)\n",
        "model.evaluate(ruchi_sequences_matrix, ruchi_Y)"
      ],
      "metadata": {
        "colab": {
          "base_uri": "https://localhost:8080/"
        },
        "id": "cqM1dkRLszSC",
        "outputId": "950fcd83-c6ed-49ec-ee5f-4639c8e64ed9"
      },
      "execution_count": null,
      "outputs": [
        {
          "output_type": "stream",
          "name": "stdout",
          "text": [
            "62/62 [==============================] - 1s 21ms/step - loss: 1.9866 - accuracy: 0.6014\n"
          ]
        },
        {
          "output_type": "execute_result",
          "data": {
            "text/plain": [
              "[1.9865708351135254, 0.6014198660850525]"
            ]
          },
          "metadata": {},
          "execution_count": 69
        }
      ]
    },
    {
      "cell_type": "markdown",
      "source": [
        "##VADER"
      ],
      "metadata": {
        "id": "1npcA-0tuYiq"
      }
    },
    {
      "cell_type": "code",
      "source": [
        "!pip install vaderSentiment"
      ],
      "metadata": {
        "id": "30zftgpr5TCg",
        "colab": {
          "base_uri": "https://localhost:8080/"
        },
        "outputId": "38db44bf-e451-4d24-d980-2ef0eada820b"
      },
      "execution_count": null,
      "outputs": [
        {
          "output_type": "stream",
          "name": "stdout",
          "text": [
            "Requirement already satisfied: vaderSentiment in /usr/local/lib/python3.7/dist-packages (3.3.2)\n",
            "Requirement already satisfied: requests in /usr/local/lib/python3.7/dist-packages (from vaderSentiment) (2.23.0)\n",
            "Requirement already satisfied: idna<3,>=2.5 in /usr/local/lib/python3.7/dist-packages (from requests->vaderSentiment) (2.10)\n",
            "Requirement already satisfied: urllib3!=1.25.0,!=1.25.1,<1.26,>=1.21.1 in /usr/local/lib/python3.7/dist-packages (from requests->vaderSentiment) (1.24.3)\n",
            "Requirement already satisfied: certifi>=2017.4.17 in /usr/local/lib/python3.7/dist-packages (from requests->vaderSentiment) (2021.10.8)\n",
            "Requirement already satisfied: chardet<4,>=3.0.2 in /usr/local/lib/python3.7/dist-packages (from requests->vaderSentiment) (3.0.4)\n"
          ]
        }
      ]
    },
    {
      "cell_type": "code",
      "source": [
        "from vaderSentiment.vaderSentiment import SentimentIntensityAnalyzer\n",
        "\n",
        "sia = SentimentIntensityAnalyzer()\n",
        "predList = []\n",
        "\n",
        "for text in news_X:\n",
        "  sentiment_dict = sia.polarity_scores(text)\n",
        "  if sentiment_dict['compound'] >= 0.7 or sentiment_dict['compound'] <= -0.7:\n",
        "    prediction = 0\n",
        "  else:\n",
        "    prediction = 1\n",
        "\n",
        "  predList.append(prediction)"
      ],
      "metadata": {
        "id": "7jKQce6v1okY"
      },
      "execution_count": null,
      "outputs": []
    },
    {
      "cell_type": "code",
      "source": [
        "predList = np.array(predList)\n",
        "news_Y_array = np.array(news_Y)"
      ],
      "metadata": {
        "id": "gQ8zzx_kcGQX"
      },
      "execution_count": null,
      "outputs": []
    },
    {
      "cell_type": "code",
      "source": [
        "from sklearn.metrics import accuracy_score, precision_score, recall_score\n",
        "from sklearn.metrics import confusion_matrix\n",
        "\n",
        "# Performance metrics\n",
        "accuracy = accuracy_score(news_Y_array, predList)\n",
        "precision = precision_score(news_Y_array, predList)\n",
        "recall = recall_score(news_Y_array, predList)\n",
        "specificity = recall_score(news_Y_array, predList, pos_label = 0)\n",
        "\n",
        "print(\"\\n\")\n",
        "print(f\"Accuracy.........: {accuracy * 100.0:.4f}\")\n",
        "print(f\"Precision........: {precision * 100:.4f}\")\n",
        "print(f\"Recall...........: {recall * 100:.4f}\")\n",
        "print(f\"FP Rate...........: {(1-specificity) * 100:.4f}\")\n",
        "print(\"\\n\")\n",
        "\n",
        "# Report the confusion matrix\n",
        "cm = confusion_matrix(news_Y_array, predList)\n",
        "sns.heatmap(cm, annot = True, fmt = 'd', cbar = False, cmap = \"YlGnBu\");"
      ],
      "metadata": {
        "id": "dOdR_4xdoy5s",
        "colab": {
          "base_uri": "https://localhost:8080/",
          "height": 628
        },
        "outputId": "316fed8f-772f-4833-bd8e-4cd1f3f9f135"
      },
      "execution_count": null,
      "outputs": [
        {
          "output_type": "stream",
          "name": "stdout",
          "text": [
            "\n",
            "\n",
            "Accuracy.........: 51.1955\n",
            "Precision........: 62.3150\n",
            "Recall...........: 27.8184\n",
            "FP Rate...........: 20.4239\n",
            "\n",
            "\n"
          ]
        },
        {
          "output_type": "display_data",
          "data": {
            "text/plain": [
              "<Figure size 576x576 with 1 Axes>"
            ],
            "image/png": "[encoded data removed]"
          },
          "metadata": {}
        }
      ]
    },
    {
      "cell_type": "code",
      "source": [
        "from vaderSentiment.vaderSentiment import SentimentIntensityAnalyzer\n",
        "\n",
        "sia = SentimentIntensityAnalyzer()\n",
        "predList = []\n",
        "\n",
        "for text in news_X:\n",
        "  sentiment_dict = sia.polarity_scores(text)\n",
        "  if sentiment_dict['pos'] >= 0.5 or sentiment_dict['neg'] <= -0.5:\n",
        "    prediction = 0\n",
        "  else:\n",
        "    prediction = 1\n",
        "\n",
        "  predList.append(prediction)"
      ],
      "metadata": {
        "id": "efokn0c16FrT"
      },
      "execution_count": null,
      "outputs": []
    },
    {
      "cell_type": "code",
      "source": [
        "predList = np.array(predList)\n",
        "news_Y_array = np.array(news_Y)"
      ],
      "metadata": {
        "id": "Q14mZzjfD0I1"
      },
      "execution_count": null,
      "outputs": []
    },
    {
      "cell_type": "code",
      "source": [
        "from sklearn.metrics import accuracy_score, precision_score, recall_score\n",
        "from sklearn.metrics import confusion_matrix\n",
        "\n",
        "# Performance metrics\n",
        "accuracy = accuracy_score(news_Y_array, predList)\n",
        "precision = precision_score(news_Y_array, predList)\n",
        "recall = recall_score(news_Y_array, predList)\n",
        "specificity = recall_score(news_Y_array, predList, pos_label = 0)\n",
        "\n",
        "print(\"\\n\")\n",
        "print(f\"Accuracy.........: {accuracy * 100.0:.4f}\")\n",
        "print(f\"Precision........: {precision * 100:.4f}\")\n",
        "print(f\"Recall...........: {recall * 100:.4f}\")\n",
        "print(f\"FP Rate...........: {(1-specificity) * 100:.4f}\")\n",
        "print(\"\\n\")\n",
        "\n",
        "# Report the confusion matrix\n",
        "cm = confusion_matrix(news_Y_array, predList)\n",
        "sns.heatmap(cm, annot = True, fmt = 'd', cbar = False, cmap = \"YlGnBu\");"
      ],
      "metadata": {
        "id": "7VjtPhWJD25h",
        "colab": {
          "base_uri": "https://localhost:8080/"
        },
        "outputId": "390e324e-a40d-4228-ebf4-c3c5e6265123"
      },
      "execution_count": null,
      "outputs": [
        {
          "output_type": "stream",
          "name": "stdout",
          "text": [
            "\n",
            "\n",
            "Accuracy.........: 54.8905\n",
            "Precision........: 54.8649\n",
            "Recall...........: 100.0000\n",
            "FP Rate...........: 99.8740\n",
            "\n",
            "\n"
          ]
        },
        {
          "output_type": "display_data",
          "data": {
            "text/plain": [
              "<Figure size 576x576 with 1 Axes>"
            ],
            "image/png": "[encoded data removed]"
          },
          "metadata": {}
        }
      ]
    },
    {
      "cell_type": "markdown",
      "source": [
        "##Logistic Regression"
      ],
      "metadata": {
        "id": "2ucdvkIrw5Ji"
      }
    },
    {
      "cell_type": "code",
      "source": [
        "# Create token pattern\n",
        "import re\n",
        "\n",
        "re_tok = re.compile('[^a-zA-Z]')\n",
        "def tokenize(s): \n",
        "    return re_tok.sub(' ', s).split()"
      ],
      "metadata": {
        "id": "osC2t2Rew7Xk"
      },
      "execution_count": null,
      "outputs": []
    },
    {
      "cell_type": "code",
      "source": [
        "from sklearn.feature_extraction.text import CountVectorizer\n",
        "count_vect = CountVectorizer(tokenizer = tokenize)"
      ],
      "metadata": {
        "id": "sjPSTXodxg2D"
      },
      "execution_count": null,
      "outputs": []
    },
    {
      "cell_type": "code",
      "source": [
        "# Transforms text in X to a bag of words representation\n",
        "tf_train = count_vect.fit_transform(X_train)\n",
        "tf_test = count_vect.transform(X_test)"
      ],
      "metadata": {
        "id": "Y0UsrHvVxjVp"
      },
      "execution_count": null,
      "outputs": []
    },
    {
      "cell_type": "code",
      "source": [
        "# Get full vocabulary from X\n",
        "vocab = count_vect.get_feature_names()\n",
        "len(vocab)"
      ],
      "metadata": {
        "id": "JvOADuKFxkss",
        "colab": {
          "base_uri": "https://localhost:8080/"
        },
        "outputId": "209e0739-c328-4fb2-b234-7f93c351dab1"
      },
      "execution_count": null,
      "outputs": [
        {
          "output_type": "stream",
          "name": "stderr",
          "text": [
            "/usr/local/lib/python3.7/dist-packages/sklearn/utils/deprecation.py:87: FutureWarning: Function get_feature_names is deprecated; get_feature_names is deprecated in 1.0 and will be removed in 1.2. Please use get_feature_names_out instead.\n",
            "  warnings.warn(msg, category=FutureWarning)\n"
          ]
        },
        {
          "output_type": "execute_result",
          "data": {
            "text/plain": [
              "90424"
            ]
          },
          "metadata": {},
          "execution_count": 80
        }
      ]
    },
    {
      "cell_type": "code",
      "source": [
        "from sklearn.linear_model import LogisticRegression\n",
        "model = LogisticRegression(random_state = 0, solver = 'liblinear', multi_class = 'ovr').fit(tf_train, y_train)"
      ],
      "metadata": {
        "id": "q_6sE2vnxmde"
      },
      "execution_count": null,
      "outputs": []
    },
    {
      "cell_type": "code",
      "source": [
        "# Get probabilities for positive class and general predcitions\n",
        "probs = model.predict_proba(tf_test)[:,1]\n",
        "predictions = model.predict(tf_test)"
      ],
      "metadata": {
        "id": "oRlP6AqqxpfH"
      },
      "execution_count": null,
      "outputs": []
    },
    {
      "cell_type": "code",
      "source": [
        "from sklearn.metrics import accuracy_score, precision_score, recall_score\n",
        "from sklearn.metrics import confusion_matrix\n",
        "\n",
        "# Performance metrics\n",
        "accuracy = accuracy_score(y_test, predictions)\n",
        "precision = precision_score(y_test, predictions)\n",
        "recall = recall_score(y_test, predictions)\n",
        "specificity = recall_score(y_test, predictions, pos_label = 0)\n",
        "\n",
        "print(\"\\n\")\n",
        "print(f\"Accuracy.........: {accuracy * 100.0:.4f}\")\n",
        "print(f\"Precision........: {precision * 100:.4f}\")\n",
        "print(f\"Recall...........: {recall * 100:.4f}\")\n",
        "print(f\"FP Rate...........: {(1-specificity) * 100:.4f}\")\n",
        "print(\"\\n\")\n",
        "\n",
        "# Report the confusion matrix\n",
        "cm = confusion_matrix(y_test, predictions)\n",
        "sns.heatmap(cm, annot = True, fmt = 'd', cbar = False, cmap = \"YlGnBu\");"
      ],
      "metadata": {
        "id": "rBWWSecLxr9K",
        "colab": {
          "base_uri": "https://localhost:8080/"
        },
        "outputId": "b657addf-dc64-44ee-e75b-05bfecdb8ce5"
      },
      "execution_count": null,
      "outputs": [
        {
          "output_type": "stream",
          "name": "stdout",
          "text": [
            "\n",
            "\n",
            "Accuracy.........: 99.5213\n",
            "Precision........: 99.4250\n",
            "Recall...........: 99.7058\n",
            "FP Rate...........: 0.7038\n",
            "\n",
            "\n"
          ]
        },
        {
          "output_type": "display_data",
          "data": {
            "text/plain": [
              "<Figure size 576x576 with 1 Axes>"
            ],
            "image/png": "[encoded data removed]"
          },
          "metadata": {}
        }
      ]
    },
    {
      "cell_type": "code",
      "source": [
        "cyber_test = count_vect.transform(cyber_X)\n",
        "new_pred1 = model.predict(cyber_test)\n",
        "\n",
        "# Performance metrics\n",
        "accuracy = accuracy_score(cyber_Y, new_pred1)\n",
        "precision = precision_score(cyber_Y, new_pred1)\n",
        "recall = recall_score(cyber_Y, new_pred1)\n",
        "specificity = recall_score(cyber_Y, new_pred1, pos_label = 0)\n",
        "\n",
        "print(\"\\n\")\n",
        "print(f\"Accuracy.........: {accuracy * 100.0:.4f}\")\n",
        "print(f\"Precision........: {precision * 100:.4f}\")\n",
        "print(f\"Recall...........: {recall * 100:.4f}\")\n",
        "print(f\"FP Rate...........: {(1-specificity) * 100:.4f}\")\n",
        "print(\"\\n\")\n",
        "\n",
        "# Report the confusion matrix\n",
        "cm = confusion_matrix(cyber_Y, new_pred1)\n",
        "sns.heatmap(cm, annot = True, fmt = 'd', cbar = False, cmap = \"YlGnBu\");"
      ],
      "metadata": {
        "id": "EXfEJCOLyRAj",
        "colab": {
          "base_uri": "https://localhost:8080/"
        },
        "outputId": "09864733-0606-4446-d09d-6d61f8a7409a"
      },
      "execution_count": null,
      "outputs": [
        {
          "output_type": "stream",
          "name": "stdout",
          "text": [
            "\n",
            "\n",
            "Accuracy.........: 56.1221\n",
            "Precision........: 77.3179\n",
            "Recall...........: 15.6240\n",
            "FP Rate...........: 4.4611\n",
            "\n",
            "\n"
          ]
        },
        {
          "output_type": "display_data",
          "data": {
            "text/plain": [
              "<Figure size 576x576 with 1 Axes>"
            ],
            "image/png": "[encoded data removed]"
          },
          "metadata": {}
        }
      ]
    },
    {
      "cell_type": "code",
      "source": [
        "ruchi_test = count_vect.transform(ruchi_X)\n",
        "new_pred2 = model.predict(ruchi_test)\n",
        "\n",
        "# Performance metrics\n",
        "accuracy = accuracy_score(ruchi_Y, new_pred2)\n",
        "precision = precision_score(ruchi_Y, new_pred2)\n",
        "recall = recall_score(ruchi_Y, new_pred2)\n",
        "specificity = recall_score(ruchi_Y, new_pred2, pos_label = 0)\n",
        "\n",
        "print(\"\\n\")\n",
        "print(f\"Accuracy.........: {accuracy * 100.0:.4f}\")\n",
        "print(f\"Precision........: {precision * 100:.4f}\")\n",
        "print(f\"Recall...........: {recall * 100:.4f}\")\n",
        "print(f\"FP Rate...........: {(1-specificity) * 100:.4f}\")\n",
        "print(\"\\n\")\n",
        "\n",
        "# Report the confusion matrix\n",
        "cm = confusion_matrix(ruchi_Y, new_pred2)\n",
        "sns.heatmap(cm, annot = True, fmt = 'd', cbar = False, cmap = \"YlGnBu\");"
      ],
      "metadata": {
        "id": "ACVsP-qAzKsP",
        "colab": {
          "base_uri": "https://localhost:8080/"
        },
        "outputId": "7c37d6fd-8db7-4346-86e8-cb07793af183"
      },
      "execution_count": null,
      "outputs": [
        {
          "output_type": "stream",
          "name": "stdout",
          "text": [
            "\n",
            "\n",
            "Accuracy.........: 62.3225\n",
            "Precision........: 54.8673\n",
            "Recall...........: 8.2228\n",
            "FP Rate...........: 4.1872\n",
            "\n",
            "\n"
          ]
        },
        {
          "output_type": "display_data",
          "data": {
            "text/plain": [
              "<Figure size 576x576 with 1 Axes>"
            ],
            "image/png": "[encoded data removed]"
          },
          "metadata": {}
        }
      ]
    }
  ]
}